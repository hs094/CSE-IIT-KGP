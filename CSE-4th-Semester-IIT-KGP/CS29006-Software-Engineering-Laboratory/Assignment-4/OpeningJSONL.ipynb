{
 "cells": [
  {
   "cell_type": "code",
   "execution_count": 2,
   "metadata": {},
   "outputs": [],
   "source": [
    "import json\n",
    "import numpy as np\n"
   ]
  },
  {
   "cell_type": "code",
   "execution_count": 3,
   "metadata": {},
   "outputs": [
    {
     "name": "stdout",
     "output_type": "stream",
     "text": [
      "{'img_fn': 'imgs/0.jpg', 'png_ann_fn': 'pngs/0.png', 'img_id': '4495', 'bboxes': [{'bbox': [189.82, 111.18, 72.06, 67.41], 'category': 'tv', 'category_id': 72}, {'bbox': [4.19, 148.57, 150.17, 178.69], 'category': 'chair', 'category_id': 62}, {'bbox': [201.58, 198.92, 296.3, 176.08], 'category': 'couch', 'category_id': 63}, {'bbox': [0.0, 235.0, 500.0, 140.0], 'category': 'carpet', 'category_id': 101}, {'bbox': [145.0, 167.0, 153.0, 82.0], 'category': 'shelf', 'category_id': 156}, {'bbox': [0.0, 0.0, 255.0, 257.0], 'category': 'wall-concrete', 'category_id': 172}, {'bbox': [249.0, 0.0, 251.0, 341.0], 'category': 'wall-other', 'category_id': 173}, {'bbox': [4.0, 111.0, 494.0, 264.0], 'category': 'stuff-other', 'category_id': 183}]}\n"
     ]
    }
   ],
   "source": [
    "with open('data/annotations.jsonl') as file:\n",
    "    list_of_annotations = [json.loads(line) for line in file]\n",
    "print(list_of_annotations[0])"
   ]
  },
  {
   "cell_type": "code",
   "execution_count": 7,
   "metadata": {},
   "outputs": [
    {
     "name": "stdout",
     "output_type": "stream",
     "text": [
      "dict_keys(['img_fn', 'png_ann_fn', 'img_id', 'bboxes'])\n"
     ]
    }
   ],
   "source": [
    "print(list_of_annotations[0].keys())"
   ]
  },
  {
   "cell_type": "code",
   "execution_count": 8,
   "metadata": {},
   "outputs": [
    {
     "name": "stdout",
     "output_type": "stream",
     "text": [
      "{'bbox': [189.82, 111.18, 72.06, 67.41], 'category': 'tv', 'category_id': 72}\n"
     ]
    }
   ],
   "source": [
    "print(list_of_annotations[0]['bboxes'][0])"
   ]
  }
 ],
 "metadata": {
  "interpreter": {
   "hash": "b3ba2566441a7c06988d0923437866b63cedc61552a5af99d1f4fb67d367b25f"
  },
  "kernelspec": {
   "display_name": "Python 3.8.8 64-bit ('base': conda)",
   "language": "python",
   "name": "python3"
  },
  "language_info": {
   "codemirror_mode": {
    "name": "ipython",
    "version": 3
   },
   "file_extension": ".py",
   "mimetype": "text/x-python",
   "name": "python",
   "nbconvert_exporter": "python",
   "pygments_lexer": "ipython3",
   "version": "3.8.8"
  },
  "orig_nbformat": 4
 },
 "nbformat": 4,
 "nbformat_minor": 2
}
