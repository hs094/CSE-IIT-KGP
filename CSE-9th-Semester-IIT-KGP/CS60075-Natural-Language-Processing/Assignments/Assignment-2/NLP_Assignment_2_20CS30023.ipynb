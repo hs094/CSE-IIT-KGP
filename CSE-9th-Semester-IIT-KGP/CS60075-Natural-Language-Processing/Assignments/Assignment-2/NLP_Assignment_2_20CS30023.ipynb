{
 "cells": [
  {
   "cell_type": "markdown",
   "id": "e2ed49aa",
   "metadata": {
    "papermill": {
     "duration": 0.02136,
     "end_time": "2024-10-20T13:39:15.621150",
     "exception": false,
     "start_time": "2024-10-20T13:39:15.599790",
     "status": "completed"
    },
    "tags": []
   },
   "source": [
    "# Part 1: Data Exploration and Model Building (55 Marks)"
   ]
  },
  {
   "cell_type": "code",
   "execution_count": 1,
   "id": "0fa2def2",
   "metadata": {
    "_cell_guid": "b1076dfc-b9ad-4769-8c92-a6c4dae69d19",
    "_uuid": "8f2839f25d086af736a60e9eeb907d3b93b6e0e5",
    "execution": {
     "iopub.execute_input": "2024-10-20T13:39:15.660399Z",
     "iopub.status.busy": "2024-10-20T13:39:15.660066Z",
     "iopub.status.idle": "2024-10-20T13:39:24.914711Z",
     "shell.execute_reply": "2024-10-20T13:39:24.913720Z"
    },
    "papermill": {
     "duration": 9.276523,
     "end_time": "2024-10-20T13:39:24.916751",
     "exception": false,
     "start_time": "2024-10-20T13:39:15.640228",
     "status": "completed"
    },
    "tags": []
   },
   "outputs": [
    {
     "name": "stderr",
     "output_type": "stream",
     "text": [
      "/opt/conda/lib/python3.10/site-packages/ignite/handlers/checkpoint.py:16: DeprecationWarning:\n",
      "\n",
      "`TorchScript` support for functional optimizers is deprecated and will be removed in a future PyTorch release. Consider using the `torch.compile` optimizer instead.\n",
      "\n"
     ]
    },
    {
     "data": {
      "text/plain": [
       "<torch._C.Generator at 0x7e9089958ef0>"
      ]
     },
     "execution_count": 1,
     "metadata": {},
     "output_type": "execute_result"
    }
   ],
   "source": [
    "import warnings\n",
    "warnings.filterwarnings('ignore')\n",
    "%matplotlib inline\n",
    "import os\n",
    "import re\n",
    "import pickle\n",
    "from tqdm import tqdm\n",
    "import multiprocessing\n",
    "from collections import Counter\n",
    "import pandas as pd\n",
    "import matplotlib.pyplot as plt\n",
    "import plotly.graph_objs as go\n",
    "import plotly.offline as py\n",
    "import plotly.io as pio\n",
    "import seaborn as sns\n",
    "from datasets import load_dataset\n",
    "\n",
    "import torch\n",
    "import torch.nn as nn\n",
    "import torch.nn.functional as F\n",
    "from torch.nn.utils.rnn import pad_sequence\n",
    "from torch.utils.data import DataLoader\n",
    "from ignite.metrics import Rouge\n",
    "from transformers import AutoTokenizer\n",
    "\n",
    "import os\n",
    "os.environ[\"PYTORCH_MPS_HIGH_WATERMARK_RATIO\"] = \"0.0\"\n",
    "os.environ[\"PYTORCH_CUDA_ALLOC_CONF\"] = \"expandable_segments:True\"\n",
    "torch.manual_seed(42)"
   ]
  },
  {
   "cell_type": "markdown",
   "id": "c80ebb66",
   "metadata": {
    "papermill": {
     "duration": 0.018897,
     "end_time": "2024-10-20T13:39:24.955148",
     "exception": false,
     "start_time": "2024-10-20T13:39:24.936251",
     "status": "completed"
    },
    "tags": []
   },
   "source": [
    "## I. Importing Libraries and Data"
   ]
  },
  {
   "cell_type": "code",
   "execution_count": 2,
   "id": "489a27a4",
   "metadata": {
    "execution": {
     "iopub.execute_input": "2024-10-20T13:39:24.994462Z",
     "iopub.status.busy": "2024-10-20T13:39:24.993887Z",
     "iopub.status.idle": "2024-10-20T13:39:24.998591Z",
     "shell.execute_reply": "2024-10-20T13:39:24.997730Z"
    },
    "papermill": {
     "duration": 0.026435,
     "end_time": "2024-10-20T13:39:25.000392",
     "exception": false,
     "start_time": "2024-10-20T13:39:24.973957",
     "status": "completed"
    },
    "tags": []
   },
   "outputs": [],
   "source": [
    "def load_split(split_name):\n",
    "    \"\"\"Function to load a specific split of the dataset.\"\"\"\n",
    "    return load_dataset(\"abisee/cnn_dailymail\", \"3.0.0\", split=split_name)"
   ]
  },
  {
   "cell_type": "code",
   "execution_count": 3,
   "id": "72468e9d",
   "metadata": {
    "execution": {
     "iopub.execute_input": "2024-10-20T13:39:25.039769Z",
     "iopub.status.busy": "2024-10-20T13:39:25.039471Z",
     "iopub.status.idle": "2024-10-20T13:39:36.549892Z",
     "shell.execute_reply": "2024-10-20T13:39:36.548640Z"
    },
    "papermill": {
     "duration": 11.532879,
     "end_time": "2024-10-20T13:39:36.552439",
     "exception": false,
     "start_time": "2024-10-20T13:39:25.019560",
     "status": "completed"
    },
    "tags": []
   },
   "outputs": [
    {
     "name": "stdout",
     "output_type": "stream",
     "text": [
      "Train dataset: Dataset({\n",
      "    features: ['article', 'highlights', 'id'],\n",
      "    num_rows: 287113\n",
      "})\n",
      "Test dataset: Dataset({\n",
      "    features: ['article', 'highlights', 'id'],\n",
      "    num_rows: 11490\n",
      "})\n",
      "Validation dataset: Dataset({\n",
      "    features: ['article', 'highlights', 'id'],\n",
      "    num_rows: 13368\n",
      "})\n"
     ]
    }
   ],
   "source": [
    "# Define the splits you want to download\n",
    "splits = ['train', 'test', 'validation']\n",
    "# Create a pool of workers\n",
    "with multiprocessing.Pool(processes=len(splits)) as pool:\n",
    "    # Map the load_split function to the splits\n",
    "    results = pool.map(load_split, splits)\n",
    "# Unpack results\n",
    "train_ds, test_ds, val_ds = results\n",
    "# Now you can use train_ds, test_ds, val_ds as needed\n",
    "print(f\"Train dataset: {train_ds}\")\n",
    "print(f\"Test dataset: {test_ds}\")\n",
    "print(f\"Validation dataset: {val_ds}\")"
   ]
  },
  {
   "cell_type": "code",
   "execution_count": 4,
   "id": "6b39c731",
   "metadata": {
    "execution": {
     "iopub.execute_input": "2024-10-20T13:39:36.601096Z",
     "iopub.status.busy": "2024-10-20T13:39:36.600741Z",
     "iopub.status.idle": "2024-10-20T13:39:36.651498Z",
     "shell.execute_reply": "2024-10-20T13:39:36.650381Z"
    },
    "papermill": {
     "duration": 0.077499,
     "end_time": "2024-10-20T13:39:36.654466",
     "exception": false,
     "start_time": "2024-10-20T13:39:36.576967",
     "status": "completed"
    },
    "tags": []
   },
   "outputs": [],
   "source": [
    "SUBSET_SIZE = 0.1\n",
    "train_indices = torch.randperm(len(train_ds))[\n",
    "    : int(SUBSET_SIZE * len(train_ds))\n",
    "].tolist()\n",
    "train_ds = torch.utils.data.Subset(train_ds, train_indices)\n",
    "val_indices = torch.randperm(len(val_ds))[: int(SUBSET_SIZE * len(val_ds))].tolist()\n",
    "val_ds = torch.utils.data.Subset(val_ds, val_indices)"
   ]
  },
  {
   "cell_type": "markdown",
   "id": "69fd1bba",
   "metadata": {
    "papermill": {
     "duration": 0.023671,
     "end_time": "2024-10-20T13:39:36.702440",
     "exception": false,
     "start_time": "2024-10-20T13:39:36.678769",
     "status": "completed"
    },
    "tags": []
   },
   "source": [
    "## II. Data Preprocessing"
   ]
  },
  {
   "cell_type": "code",
   "execution_count": 5,
   "id": "e672977f",
   "metadata": {
    "execution": {
     "iopub.execute_input": "2024-10-20T13:39:36.751842Z",
     "iopub.status.busy": "2024-10-20T13:39:36.751448Z",
     "iopub.status.idle": "2024-10-20T13:39:36.759711Z",
     "shell.execute_reply": "2024-10-20T13:39:36.758485Z"
    },
    "papermill": {
     "duration": 0.034992,
     "end_time": "2024-10-20T13:39:36.761794",
     "exception": false,
     "start_time": "2024-10-20T13:39:36.726802",
     "status": "completed"
    },
    "tags": []
   },
   "outputs": [],
   "source": [
    "replacement_patterns = [\n",
    "            (r\"won\\'t\", \"will not\"),\n",
    "            (r\"can\\'t\", \"cannot\"),\n",
    "            (r\"i\\'m\", \"i am\"),\n",
    "            (r\"ain\\'t\", \"is not\"),\n",
    "            (r\"(\\w+)\\'ll\", \"\\g<1> will\"),\n",
    "            (r\"(\\w+)n\\'t\", \"\\g<1> not\"),\n",
    "            (r\"(\\w+)\\'ve\", \"\\g<1> have\"),\n",
    "            (r\"(\\w+)\\'s\", \"\\g<1> is\"),\n",
    "            (r\"(\\w+)\\'re\", \"\\g<1> are\"),\n",
    "            (r\"(\\w+)\\'d\", \"\\g<1> would\"),\n",
    "]\n",
    "patterns = [(re.compile(regex), repl) for (regex, repl) in replacement_patterns]"
   ]
  },
  {
   "cell_type": "code",
   "execution_count": 6,
   "id": "43f04289",
   "metadata": {
    "execution": {
     "iopub.execute_input": "2024-10-20T13:39:36.808931Z",
     "iopub.status.busy": "2024-10-20T13:39:36.808498Z",
     "iopub.status.idle": "2024-10-20T13:39:36.840854Z",
     "shell.execute_reply": "2024-10-20T13:39:36.839920Z"
    },
    "papermill": {
     "duration": 0.058459,
     "end_time": "2024-10-20T13:39:36.843188",
     "exception": false,
     "start_time": "2024-10-20T13:39:36.784729",
     "status": "completed"
    },
    "tags": []
   },
   "outputs": [],
   "source": [
    "class EDA:\n",
    "    def __init__(self, save_path: str = None):\n",
    "        self.tokenizer = AutoTokenizer.from_pretrained(\"gpt2\", clean_up_tokenization_spaces=True)\n",
    "        self.tokenizer.add_special_tokens({\"pad_token\": \"<pad>\",\n",
    "                                           \"bos_token\": \"<sos>\",\n",
    "                                           \"eos_token\": \"<eos>\",\n",
    "                                           \"unk_token\": \"<unk>\",})\n",
    "        self.vocab_size = len(self.tokenizer.get_vocab())\n",
    "        self.word_counts = {}\n",
    "        self.sentence_lengths = {}\n",
    "        for data_type in [\"article\", \"highlights\"]:\n",
    "            if save_path is not None:\n",
    "                with open(os.path.join(save_path, f\"{data_type}_word_counts.pkl\"), \"rb\") as f:\n",
    "                    self.word_counts[data_type] = pickle.load(f)\n",
    "                with open(os.path.join(save_path, f\"{data_type}_sentence_lengths.pkl\"), \"rb\") as f:\n",
    "                    self.sentence_lengths[data_type] = pickle.load(f)\n",
    "            else:\n",
    "                self.word_counts[data_type] = Counter()\n",
    "                self.sentence_lengths[data_type] = Counter()\n",
    "\n",
    "    def clean_text(self, sentence: str):\n",
    "        # Define cleaning patterns\n",
    "        sentence = sentence.lower()\n",
    "        for pattern, repl in patterns:\n",
    "            sentence = re.sub(pattern, repl, sentence)\n",
    "        # Remove non-alphanumeric characters\n",
    "        sentence = re.sub(r\"[^\\w\\s]\", \"\", sentence)\n",
    "        return sentence\n",
    "        \n",
    "    def plot_word_freq(self, words, counts, col_name, ds_name, file_name='word_frequency_plot.png'):\n",
    "        \"\"\"Plot the top most frequent words in a specified column of a DataFrame.\"\"\"\n",
    "        data = [go.Bar(x=words, y=counts, marker=dict(colorscale='Jet', color=counts))]\n",
    "        layout = go.Layout(\n",
    "            title=f'Top {len(words)} Word Frequencies in \"{col_name}\" Column in \"{ds_name}\" Dataset',\n",
    "            xaxis_title=f'Words of \"{col_name}\" Column',\n",
    "            yaxis_title='Frequencies'\n",
    "        )\n",
    "        fig = go.Figure(data=data, layout=layout)\n",
    "        py.iplot(fig, filename=file_name)\n",
    "        pio.write_image(fig, file_name)\n",
    "\n",
    "    def visualize_sentence_lengths(self, sentence_lengths, col_name, ds_name):\n",
    "        \"\"\"Visualize the distribution of sentence lengths.\"\"\"\n",
    "        # Convert sentence lengths to DataFrame\n",
    "        df = pd.DataFrame(list(sentence_lengths.items()), columns=['Sentence Length', 'Frequency'])\n",
    "        plt.figure(figsize=(12, 6))\n",
    "        sns.barplot(x='Sentence Length', y='Frequency', data=df)\n",
    "        plt.title(f'Sentence Lengths in \"{col_name}\" Column in \"{ds_name}\" Dataset')\n",
    "        plt.xlabel('Sentence Lengths')\n",
    "        plt.ylabel('Frequency')\n",
    "        plt.xticks(rotation=45)\n",
    "        plt.show()\n",
    "        \n",
    "    def plot_statistics(self, title: str, word_counts: dict = None, sentence_lengths: dict = None, num_most_frequent: int = 10):\n",
    "        most_frequent_words = Counter(word_counts).most_common(num_most_frequent)\n",
    "        fig, axs = plt.subplots(1, 2, figsize=(24, 8))\n",
    "        fig.suptitle(title)\n",
    "        # Plot most frequent tokens\n",
    "        axs[0].bar([word[0] for word in most_frequent_words],\n",
    "                   [word[1] for word in most_frequent_words])\n",
    "        axs[0].set_title(\"Most Frequent Tokens\")\n",
    "        axs[0].set_xlabel(\"Tokens\")\n",
    "        axs[0].set_ylabel(\"Frequency\")\n",
    "        # Prepare data for the box plot\n",
    "        df = pd.DataFrame(list(sentence_lengths.items()), columns=['Sentence Length', 'Frequency'])\n",
    "        # Use the frequency counts to represent the box plot in the second subplot\n",
    "        sns.boxplot(x='Sentence Length', data=df, ax=axs[1], color='lightblue')\n",
    "        axs[1].set_title('Sentence Lengths Distribution')\n",
    "        axs[1].set_xlabel('Sentence Lengths')\n",
    "        axs[1].set_ylabel('Frequency')\n",
    "        plt.tight_layout(rect=[0, 0, 1, 0.96])  # Adjust layout to make space for the title\n",
    "        plt.show()\n",
    "\n",
    "    def build_vocab(self, dataset, data_type: str = \"article\"):\n",
    "        for i in tqdm(range(len(dataset)), total=len(dataset)):\n",
    "            text = dataset[i][data_type]\n",
    "            text = self.clean_text(text)\n",
    "            words = self.tokenizer.tokenize(text, max_length=3000, truncation=True)\n",
    "            self.word_counts[data_type].update(words)\n",
    "            self.sentence_lengths[data_type].update([len(words)])\n",
    "        # Save the word counts and sentence lengths\n",
    "        with open(f\"{data_type}_word_counts.pkl\", \"wb\") as f:\n",
    "            pickle.dump(self.word_counts[data_type], f)\n",
    "        with open(f\"{data_type}_sentence_lengths.pkl\", \"wb\") as f:\n",
    "            pickle.dump(self.sentence_lengths[data_type], f)"
   ]
  },
  {
   "cell_type": "markdown",
   "id": "d110f129",
   "metadata": {
    "papermill": {
     "duration": 0.022841,
     "end_time": "2024-10-20T13:39:36.892819",
     "exception": false,
     "start_time": "2024-10-20T13:39:36.869978",
     "status": "completed"
    },
    "tags": []
   },
   "source": [
    "## III. Tokenization and Vocabulary Generation"
   ]
  },
  {
   "cell_type": "code",
   "execution_count": 7,
   "id": "91aa1578",
   "metadata": {
    "execution": {
     "iopub.execute_input": "2024-10-20T13:39:36.940683Z",
     "iopub.status.busy": "2024-10-20T13:39:36.940291Z",
     "iopub.status.idle": "2024-10-20T13:44:03.996845Z",
     "shell.execute_reply": "2024-10-20T13:44:03.995649Z"
    },
    "papermill": {
     "duration": 267.083212,
     "end_time": "2024-10-20T13:44:03.999004",
     "exception": false,
     "start_time": "2024-10-20T13:39:36.915792",
     "status": "completed"
    },
    "tags": []
   },
   "outputs": [
    {
     "data": {
      "application/vnd.jupyter.widget-view+json": {
       "model_id": "7b2eadbb1b1a4d6a808a0af54bd7e226",
       "version_major": 2,
       "version_minor": 0
      },
      "text/plain": [
       "tokenizer_config.json:   0%|          | 0.00/26.0 [00:00<?, ?B/s]"
      ]
     },
     "metadata": {},
     "output_type": "display_data"
    },
    {
     "data": {
      "application/vnd.jupyter.widget-view+json": {
       "model_id": "8c05e3aa4b174c04ab45904d0e016bcb",
       "version_major": 2,
       "version_minor": 0
      },
      "text/plain": [
       "config.json:   0%|          | 0.00/665 [00:00<?, ?B/s]"
      ]
     },
     "metadata": {},
     "output_type": "display_data"
    },
    {
     "data": {
      "application/vnd.jupyter.widget-view+json": {
       "model_id": "bc3666e401b9405ebe44301fe34a8c79",
       "version_major": 2,
       "version_minor": 0
      },
      "text/plain": [
       "vocab.json:   0%|          | 0.00/1.04M [00:00<?, ?B/s]"
      ]
     },
     "metadata": {},
     "output_type": "display_data"
    },
    {
     "data": {
      "application/vnd.jupyter.widget-view+json": {
       "model_id": "7575cdbbc01249078a51a7fe39cd858b",
       "version_major": 2,
       "version_minor": 0
      },
      "text/plain": [
       "merges.txt:   0%|          | 0.00/456k [00:00<?, ?B/s]"
      ]
     },
     "metadata": {},
     "output_type": "display_data"
    },
    {
     "data": {
      "application/vnd.jupyter.widget-view+json": {
       "model_id": "b4779ffd0ae04ffaae2aacebbbd22925",
       "version_major": 2,
       "version_minor": 0
      },
      "text/plain": [
       "tokenizer.json:   0%|          | 0.00/1.36M [00:00<?, ?B/s]"
      ]
     },
     "metadata": {},
     "output_type": "display_data"
    },
    {
     "name": "stderr",
     "output_type": "stream",
     "text": [
      "100%|██████████| 28711/28711 [03:47<00:00, 126.35it/s]\n"
     ]
    },
    {
     "data": {
      "image/png": "[encoded data removed]",
      "text/plain": [
       "<Figure size 2400x800 with 2 Axes>"
      ]
     },
     "metadata": {},
     "output_type": "display_data"
    },
    {
     "name": "stderr",
     "output_type": "stream",
     "text": [
      "100%|██████████| 28711/28711 [00:24<00:00, 1182.26it/s]\n"
     ]
    },
    {
     "data": {
      "image/png": "[encoded data removed]",
      "text/plain": [
       "<Figure size 2400x800 with 2 Axes>"
      ]
     },
     "metadata": {},
     "output_type": "display_data"
    },
    {
     "name": "stderr",
     "output_type": "stream",
     "text": [
      "100%|██████████| 1336/1336 [00:10<00:00, 132.23it/s]\n"
     ]
    },
    {
     "data": {
      "image/png": "[encoded data removed]",
      "text/plain": [
       "<Figure size 2400x800 with 2 Axes>"
      ]
     },
     "metadata": {},
     "output_type": "display_data"
    },
    {
     "name": "stderr",
     "output_type": "stream",
     "text": [
      "100%|██████████| 1336/1336 [00:01<00:00, 1059.13it/s]\n"
     ]
    },
    {
     "data": {
      "image/png": "[encoded data removed]",
      "text/plain": [
       "<Figure size 2400x800 with 2 Axes>"
      ]
     },
     "metadata": {},
     "output_type": "display_data"
    }
   ],
   "source": [
    "v = EDA()\n",
    "types = [\"article\", \"highlights\"]\n",
    "datasets = {\"train\": train_ds, \"val\": val_ds}\n",
    "\n",
    "for dataset_name, dataset in datasets.items():\n",
    "    for data_type in types:\n",
    "        v.build_vocab(dataset, data_type)\n",
    "        v.plot_statistics(\n",
    "            f\"{dataset_name.capitalize()} Dataset: {data_type.capitalize()}\",\n",
    "            v.word_counts[data_type],\n",
    "            v.sentence_lengths[data_type],\n",
    "        )"
   ]
  },
  {
   "cell_type": "markdown",
   "id": "71c85459",
   "metadata": {
    "papermill": {
     "duration": 0.206229,
     "end_time": "2024-10-20T13:44:04.414531",
     "exception": false,
     "start_time": "2024-10-20T13:44:04.208302",
     "status": "completed"
    },
    "tags": []
   },
   "source": [
    "## IV. Model Architechture\n"
   ]
  },
  {
   "cell_type": "code",
   "execution_count": 8,
   "id": "a39da62b",
   "metadata": {
    "execution": {
     "iopub.execute_input": "2024-10-20T13:44:04.830029Z",
     "iopub.status.busy": "2024-10-20T13:44:04.829645Z",
     "iopub.status.idle": "2024-10-20T13:44:04.887910Z",
     "shell.execute_reply": "2024-10-20T13:44:04.886935Z"
    },
    "papermill": {
     "duration": 0.268893,
     "end_time": "2024-10-20T13:44:04.889810",
     "exception": false,
     "start_time": "2024-10-20T13:44:04.620917",
     "status": "completed"
    },
    "tags": []
   },
   "outputs": [],
   "source": [
    "MAX_LENGTH = 200\n",
    "PAD_IDX = v.tokenizer.pad_token_id\n",
    "SOS_IDX = v.tokenizer.bos_token_id\n",
    "EOS_IDX = v.tokenizer.eos_token_id\n",
    "UNK_IDX = v.tokenizer.unk_token_id\n",
    "device = (\"cuda\" if torch.cuda.is_available() else \n",
    "          \"mps\" if torch.backends.mps.is_available() else \"cpu\")"
   ]
  },
  {
   "cell_type": "code",
   "execution_count": 9,
   "id": "7898dfdc",
   "metadata": {
    "execution": {
     "iopub.execute_input": "2024-10-20T13:44:05.305780Z",
     "iopub.status.busy": "2024-10-20T13:44:05.305395Z",
     "iopub.status.idle": "2024-10-20T13:44:05.325259Z",
     "shell.execute_reply": "2024-10-20T13:44:05.324367Z"
    },
    "papermill": {
     "duration": 0.231078,
     "end_time": "2024-10-20T13:44:05.327477",
     "exception": false,
     "start_time": "2024-10-20T13:44:05.096399",
     "status": "completed"
    },
    "tags": []
   },
   "outputs": [],
   "source": [
    "# Define the Seq2Seq model with integrated encoder, decoder, and attention mechanism\n",
    "class Seq2Seq(nn.Module):\n",
    "    def __init__(self, input_size, hidden_size, output_size, dropout_p=0.1):\n",
    "        super(Seq2Seq, self).__init__()\n",
    "        self.hidden_size = hidden_size\n",
    "        # Encoder\n",
    "        self.embedding = nn.Embedding(input_size, hidden_size, padding_idx=PAD_IDX)\n",
    "        self.gru_encoder = nn.GRU(hidden_size, hidden_size, batch_first=True)\n",
    "        self.dropout = nn.Dropout(dropout_p)\n",
    "        # Attention mechanism\n",
    "        self.Wa = nn.Linear(hidden_size, hidden_size)\n",
    "        self.Ua = nn.Linear(hidden_size, hidden_size)\n",
    "        self.Va = nn.Linear(hidden_size, 1)\n",
    "        # Decoder\n",
    "        self.embedding_decoder = nn.Embedding(output_size, hidden_size, padding_idx=PAD_IDX)\n",
    "        self.gru_decoder = nn.GRU(2 * hidden_size, hidden_size, batch_first=True)\n",
    "        self.out = nn.Linear(hidden_size, output_size)\n",
    "\n",
    "    def forward(self, input_tensor, target_tensor=None):\n",
    "        # Encoder forward pass\n",
    "        encoder_outputs, encoder_hidden = self.encode(input_tensor)\n",
    "        # Decoder forward pass\n",
    "        decoder_outputs, attentions = self.decode(encoder_outputs, encoder_hidden, target_tensor)\n",
    "        return decoder_outputs, attentions\n",
    "\n",
    "    def encode(self, input_tensor):\n",
    "        embedded = self.dropout(self.embedding(input_tensor))\n",
    "        encoder_outputs, encoder_hidden = self.gru_encoder(embedded)\n",
    "        return encoder_outputs, encoder_hidden\n",
    "\n",
    "    def attention(self, query, keys):\n",
    "        scores = self.Va(torch.tanh(self.Wa(query) + self.Ua(keys)))\n",
    "        scores = scores.squeeze(2).unsqueeze(1)\n",
    "        weights = F.softmax(scores, dim=-1)\n",
    "        context = torch.bmm(weights, keys)\n",
    "        return context, weights\n",
    "\n",
    "    def decode(self, encoder_outputs, encoder_hidden, target_tensor=None):\n",
    "        batch_size = encoder_outputs.size(0)\n",
    "        decoder_input = torch.empty(batch_size, 1, dtype=torch.long, device=device).fill_(SOS_IDX)\n",
    "        decoder_hidden = encoder_hidden\n",
    "        decoder_outputs = []\n",
    "        attentions = []\n",
    "        if target_tensor is not None:  # Teacher Forcing\n",
    "            for i in range(target_tensor.size(1)):\n",
    "                decoder_output, decoder_hidden, attn_weights = self.forward_step(\n",
    "                    decoder_input, decoder_hidden, encoder_outputs\n",
    "                )\n",
    "                decoder_outputs.append(decoder_output)\n",
    "                attentions.append(attn_weights)\n",
    "                decoder_input = target_tensor[:, i].unsqueeze(1)\n",
    "        else:\n",
    "            for i in range(MAX_LENGTH):\n",
    "                decoder_output, decoder_hidden, attn_weights = self.forward_step(\n",
    "                    decoder_input, decoder_hidden, encoder_outputs\n",
    "                )\n",
    "                decoder_outputs.append(decoder_output)\n",
    "                attentions.append(attn_weights)\n",
    "                _, topi = decoder_output.topk(1)\n",
    "                decoder_input = topi.squeeze(-1).detach()\n",
    "                if decoder_input.item() == EOS_IDX:\n",
    "                    decoder_outputs.pop()\n",
    "                    break\n",
    "        decoder_outputs = torch.cat(decoder_outputs, dim=1)\n",
    "        decoder_outputs = F.log_softmax(decoder_outputs, dim=-1)\n",
    "        attentions = torch.cat(attentions, dim=1)\n",
    "        return decoder_outputs, attentions\n",
    "\n",
    "    def forward_step(self, decoder_input, decoder_hidden, encoder_outputs):\n",
    "        embedded = self.dropout(self.embedding_decoder(decoder_input))\n",
    "        # Attention context\n",
    "        query = decoder_hidden.permute(1, 0, 2)  # Reshape to batch_first\n",
    "        context, attn_weights = self.attention(query, encoder_outputs)\n",
    "        # Combine embedding and attention context, then pass to GRU\n",
    "        input_gru = torch.cat((embedded, context), dim=2)\n",
    "        output, decoder_hidden = self.gru_decoder(input_gru, decoder_hidden)\n",
    "        output = self.out(output)\n",
    "        return output, decoder_hidden, attn_weights"
   ]
  },
  {
   "cell_type": "code",
   "execution_count": 10,
   "id": "3d9c1d85",
   "metadata": {
    "execution": {
     "iopub.execute_input": "2024-10-20T13:44:05.749098Z",
     "iopub.status.busy": "2024-10-20T13:44:05.748720Z",
     "iopub.status.idle": "2024-10-20T13:44:05.754911Z",
     "shell.execute_reply": "2024-10-20T13:44:05.754016Z"
    },
    "papermill": {
     "duration": 0.216101,
     "end_time": "2024-10-20T13:44:05.756947",
     "exception": false,
     "start_time": "2024-10-20T13:44:05.540846",
     "status": "completed"
    },
    "tags": []
   },
   "outputs": [],
   "source": [
    "class EarlyStopping:\n",
    "    def __init__(self, tolerance=5, min_delta=0):\n",
    "        self.tolerance = tolerance\n",
    "        self.min_delta = min_delta\n",
    "        self.counter = 0\n",
    "        self.early_stop = False\n",
    "\n",
    "    def __call__(self, train_loss, validation_loss):\n",
    "        if abs(validation_loss - train_loss) > self.min_delta:\n",
    "            self.counter +=1\n",
    "            if self.counter >= self.tolerance:  \n",
    "                self.early_stop = True"
   ]
  },
  {
   "cell_type": "code",
   "execution_count": 11,
   "id": "2b807317",
   "metadata": {
    "execution": {
     "iopub.execute_input": "2024-10-20T13:44:06.172118Z",
     "iopub.status.busy": "2024-10-20T13:44:06.171757Z",
     "iopub.status.idle": "2024-10-20T13:44:06.188004Z",
     "shell.execute_reply": "2024-10-20T13:44:06.187075Z"
    },
    "papermill": {
     "duration": 0.226993,
     "end_time": "2024-10-20T13:44:06.189898",
     "exception": false,
     "start_time": "2024-10-20T13:44:05.962905",
     "status": "completed"
    },
    "tags": []
   },
   "outputs": [],
   "source": [
    "def model_summary(model, input_size):\n",
    "    def count_params(module):\n",
    "        return sum(p.numel() for p in module.parameters() if p.requires_grad)\n",
    "    def get_layer_output_shape(layer, input_shape):\n",
    "        with torch.no_grad():\n",
    "            dummy_input = torch.ones(*input_shape, dtype=torch.long, device=device)\n",
    "            if isinstance(layer, nn.Embedding):\n",
    "                return (input_shape[0], input_shape[1], layer.embedding_dim)\n",
    "            elif isinstance(layer, nn.GRU):\n",
    "                output, _ = layer(dummy_input)\n",
    "                return output.size()\n",
    "            elif isinstance(layer, nn.Linear):\n",
    "                return (input_shape[0], layer.out_features)\n",
    "            return input_shape\n",
    "\n",
    "    print(f\"{'Layer (type)':<40} {'Output Shape':<30} {'Param #':>10}\")\n",
    "    print(\"=\" * 80)\n",
    "    \n",
    "    total_params = 0\n",
    "    trainable_params = 0\n",
    "    non_trainable_params = 0\n",
    "\n",
    "    # Input\n",
    "    print(f\"{'Input Layer':<40} {str((input_size[0], input_size[1])):<30} 0\")\n",
    "    \n",
    "    # Embedding layer (Encoder)\n",
    "    layer = model.embedding\n",
    "    output_shape = get_layer_output_shape(layer, input_size)\n",
    "    params = count_params(layer)\n",
    "    print(f\"{'Embedding (Encoder)':<40} {str(output_shape):<30} {params:>10}\")\n",
    "    total_params += params\n",
    "    trainable_params += params\n",
    "\n",
    "    # GRU Encoder\n",
    "    layer = model.gru_encoder\n",
    "    output_shape = get_layer_output_shape(layer, output_shape)\n",
    "    params = count_params(layer)\n",
    "    print(f\"{'GRU (Encoder)':<40} {str(output_shape):<30} {params:>10}\")\n",
    "    total_params += params\n",
    "    trainable_params += params\n",
    "\n",
    "    # Attention Mechanism\n",
    "    for attention_layer_name in ['Wa', 'Ua', 'Va']:\n",
    "        layer = getattr(model, attention_layer_name)\n",
    "        params = count_params(layer)\n",
    "        output_shape = (input_size[0], input_size[1], model.hidden_size)\n",
    "        print(f\"{f'{attention_layer_name} (Attention)':<40} {str(output_shape):<30} {params:>10}\")\n",
    "        total_params += params\n",
    "        trainable_params += params\n",
    "\n",
    "    # Embedding layer (Decoder)\n",
    "    layer = model.embedding_decoder\n",
    "    output_shape = get_layer_output_shape(layer, (input_size[0], 1))\n",
    "    params = count_params(layer)\n",
    "    print(f\"{'Embedding (Decoder)':<40} {str(output_shape):<30} {params:>10}\")\n",
    "    total_params += params\n",
    "    trainable_params += params\n",
    "\n",
    "    # GRU Decoder\n",
    "    layer = model.gru_decoder\n",
    "    output_shape = get_layer_output_shape(layer, (input_size[0], 1, 2 * model.hidden_size))\n",
    "    params = count_params(layer)\n",
    "    print(f\"{'GRU (Decoder)':<40} {str(output_shape):<30} {params:>10}\")\n",
    "    total_params += params\n",
    "    trainable_params += params\n",
    "\n",
    "    # Linear layer\n",
    "    layer = model.out\n",
    "    output_shape = get_layer_output_shape(layer, (input_size[0], model.hidden_size))\n",
    "    params = count_params(layer)\n",
    "    print(f\"{'Linear (Output)':<40} {str(output_shape):<30} {params:>10}\")\n",
    "    total_params += params\n",
    "    trainable_params += params\n",
    "\n",
    "    print(\"=\" * 80)\n",
    "    print(f\"Total params: {total_params:,}\")\n",
    "    print(f\"Trainable params: {trainable_params:,}\")\n",
    "    print(f\"Non-trainable params: {non_trainable_params:,}\")"
   ]
  },
  {
   "cell_type": "code",
   "execution_count": 12,
   "id": "912e050a",
   "metadata": {
    "execution": {
     "iopub.execute_input": "2024-10-20T13:44:06.607661Z",
     "iopub.status.busy": "2024-10-20T13:44:06.607275Z",
     "iopub.status.idle": "2024-10-20T13:44:06.613899Z",
     "shell.execute_reply": "2024-10-20T13:44:06.613047Z"
    },
    "papermill": {
     "duration": 0.217901,
     "end_time": "2024-10-20T13:44:06.615786",
     "exception": false,
     "start_time": "2024-10-20T13:44:06.397885",
     "status": "completed"
    },
    "tags": []
   },
   "outputs": [],
   "source": [
    "# Utility Function to fuse optimizer step into backward pass\n",
    "def attach_optimizer_hooks(model):\n",
    "    # Instead of having just *one* optimizer, we will have a ``dict`` of optimizers\n",
    "    # for every parameter so we could reference them in our hook.\n",
    "    optimizer_dict = {\n",
    "        p: torch.optim.Adam([p], lr=1e-3, betas=(0.9, 0.98), eps=1e-9, foreach=False)\n",
    "        for p in model.parameters()\n",
    "    }\n",
    "    # Define our hook, which will call the optimizer ``step()`` and ``zero_grad()``\n",
    "    def optimizer_hook(parameter) -> None:\n",
    "        optimizer_dict[parameter].step()\n",
    "        optimizer_dict[parameter].zero_grad()\n",
    "    # Register the hook onto every parameter\n",
    "    for p in model.parameters():\n",
    "        p.register_post_accumulate_grad_hook(optimizer_hook)\n",
    "        # Initialize the parameters\n",
    "        if p.dim() > 1:\n",
    "            nn.init.xavier_uniform_(p)"
   ]
  },
  {
   "cell_type": "code",
   "execution_count": 13,
   "id": "6702693a",
   "metadata": {
    "execution": {
     "iopub.execute_input": "2024-10-20T13:44:07.031297Z",
     "iopub.status.busy": "2024-10-20T13:44:07.030935Z",
     "iopub.status.idle": "2024-10-20T13:44:07.039805Z",
     "shell.execute_reply": "2024-10-20T13:44:07.038897Z"
    },
    "papermill": {
     "duration": 0.218267,
     "end_time": "2024-10-20T13:44:07.041689",
     "exception": false,
     "start_time": "2024-10-20T13:44:06.823422",
     "status": "completed"
    },
    "tags": []
   },
   "outputs": [],
   "source": [
    "def transform_input_token(sentence: str, vocab: EDA = v):\n",
    "    sentence = sentence.lower()\n",
    "    for pattern, repl in patterns:\n",
    "        sentence = re.sub(pattern, repl, sentence)\n",
    "    sentence = re.sub(r\"[^\\w\\s]\", \"\", sentence)\n",
    "    sentence = sentence + \" <eos>\"\n",
    "    words = vocab.tokenizer.encode(sentence, max_length=3000, truncation=True)\n",
    "    return torch.tensor(words)\n",
    "\n",
    "def transform_output_token(ids, vocab: EDA = v):\n",
    "    \"\"\"Converts token ids back to text.\"\"\"\n",
    "    if ids.dim() not in {1, 2}:\n",
    "        raise RuntimeError(f\"Expected ids to have 1 or 2 dimensions, got {ids.dim()} dimensions\")\n",
    "    return (vocab.tokenizer.batch_decode if ids.dim() == 2 else vocab.tokenizer.decode)(ids, skip_special_tokens=True)\n",
    "\n",
    "def collate_fn(batch: list):\n",
    "    \"\"\"Pads inputs with pad_idx to have batches of equal length.\"\"\"\n",
    "    src_batch, tgt_batch = zip(*[(transform_input_token(v[\"article\"]), transform_input_token(v[\"highlights\"])) for v in batch])\n",
    "    return pad_sequence(src_batch, padding_value=PAD_IDX, batch_first=True), pad_sequence(tgt_batch, padding_value=PAD_IDX, batch_first=True)"
   ]
  },
  {
   "cell_type": "code",
   "execution_count": 14,
   "id": "9f8ac44b",
   "metadata": {
    "execution": {
     "iopub.execute_input": "2024-10-20T13:44:07.500538Z",
     "iopub.status.busy": "2024-10-20T13:44:07.499663Z",
     "iopub.status.idle": "2024-10-20T13:44:07.507037Z",
     "shell.execute_reply": "2024-10-20T13:44:07.505991Z"
    },
    "papermill": {
     "duration": 0.219953,
     "end_time": "2024-10-20T13:44:07.508925",
     "exception": false,
     "start_time": "2024-10-20T13:44:07.288972",
     "status": "completed"
    },
    "tags": []
   },
   "outputs": [],
   "source": [
    "def plotLoss(train_loss, val_loss):\n",
    "    plt.figure()\n",
    "    fig, axs = plt.subplots(1, 2, figsize=(12, 5))\n",
    "    fig.suptitle(\"Training and Validation Loss\")\n",
    "    axs[0].plot(train_loss, label=\"Train Loss\", color=\"blue\")\n",
    "    axs[0].set_title(\"Train Loss\")\n",
    "    axs[0].set_xlabel(\"Batch Index\")\n",
    "    axs[0].set_ylabel(\"Loss\")\n",
    "    axs[1].plot(val_loss, label=\"Validation Loss\", color=\"red\")\n",
    "    axs[1].set_title(\"Validation Loss\")\n",
    "    axs[1].set_xlabel(\"Batch Index\")\n",
    "    axs[1].set_ylabel(\"Loss\")\n",
    "    plt.show()"
   ]
  },
  {
   "cell_type": "code",
   "execution_count": 15,
   "id": "20482b7c",
   "metadata": {
    "execution": {
     "iopub.execute_input": "2024-10-20T13:44:07.923618Z",
     "iopub.status.busy": "2024-10-20T13:44:07.923212Z",
     "iopub.status.idle": "2024-10-20T13:44:07.930981Z",
     "shell.execute_reply": "2024-10-20T13:44:07.930103Z"
    },
    "papermill": {
     "duration": 0.216746,
     "end_time": "2024-10-20T13:44:07.932961",
     "exception": false,
     "start_time": "2024-10-20T13:44:07.716215",
     "status": "completed"
    },
    "tags": []
   },
   "outputs": [],
   "source": [
    "def train_epoch(dataloader, model, criterion):\n",
    "    loss_history = []\n",
    "    model.train()  # Set model to training mode\n",
    "    tepoch = tqdm(dataloader, total=len(dataloader))\n",
    "    for data in tepoch:\n",
    "        input_tensor, target_tensor = data\n",
    "        input_tensor, target_tensor = input_tensor.to(device), target_tensor.to(device)\n",
    "        # Forward pass through the Seq2Seq model\n",
    "        decoder_outputs, attentions = model(input_tensor, target_tensor)\n",
    "        # Compute loss\n",
    "        loss = criterion(decoder_outputs.view(-1, decoder_outputs.size(-1)), target_tensor.view(-1))\n",
    "        # Backward pass (computing gradients)\n",
    "        loss.backward()\n",
    "        # Gradient clipping (check if gradient exists first)\n",
    "        torch.nn.utils.clip_grad_norm_(model.parameters(), max_norm=5)\n",
    "        # Track the loss for history\n",
    "        loss_history.append(loss.item())\n",
    "        tepoch.set_postfix({\"loss\": loss.item()})\n",
    "    return loss_history"
   ]
  },
  {
   "cell_type": "code",
   "execution_count": 16,
   "id": "834f7b7d",
   "metadata": {
    "execution": {
     "iopub.execute_input": "2024-10-20T13:44:08.351844Z",
     "iopub.status.busy": "2024-10-20T13:44:08.351106Z",
     "iopub.status.idle": "2024-10-20T13:44:08.360363Z",
     "shell.execute_reply": "2024-10-20T13:44:08.359522Z"
    },
    "papermill": {
     "duration": 0.221423,
     "end_time": "2024-10-20T13:44:08.362165",
     "exception": false,
     "start_time": "2024-10-20T13:44:08.140742",
     "status": "completed"
    },
    "tags": []
   },
   "outputs": [],
   "source": [
    "def eval(dataloader, model, criterion):\n",
    "    model.eval()  # Set the model to evaluation mode\n",
    "    loss_history = []\n",
    "    tepoch = tqdm(dataloader, total=len(dataloader))\n",
    "    rouge = Rouge(variants=[\"L\", 2])  # ROUGE metrics\n",
    "    with torch.no_grad():\n",
    "        for data in tepoch:\n",
    "            input_tensor, target_tensor = data\n",
    "            input_tensor, target_tensor = input_tensor.to(device), target_tensor.to(device)\n",
    "            # Forward pass through the combined Seq2Seq model\n",
    "            output, _ = model(input_tensor, target_tensor)\n",
    "            # Compute the loss\n",
    "            loss = criterion(\n",
    "                output.view(-1, output.size(-1)),  # Reshape to (batch_size * seq_len, vocab_size)\n",
    "                target_tensor.view(-1)  # Reshape to (batch_size * seq_len)\n",
    "            )\n",
    "            # Get predictions from the model output\n",
    "            pred = transform_output_token(output.argmax(-1))  # Get the index with the highest probability\n",
    "            pred = [sent.split() for sent in pred]\n",
    "            target = transform_output_token(target_tensor)\n",
    "            target = [sent.split() for sent in target]\n",
    "            # Update the ROUGE scores\n",
    "            rouge.update((pred, [target]))\n",
    "            loss_history.append(loss.item())\n",
    "            tepoch.set_postfix({\"loss\": loss.item()})\n",
    "    # Compute final ROUGE score across the entire dataset\n",
    "    rouge_score = rouge.compute()\n",
    "    return loss_history, rouge_score"
   ]
  },
  {
   "cell_type": "code",
   "execution_count": 17,
   "id": "6f3bc202",
   "metadata": {
    "execution": {
     "iopub.execute_input": "2024-10-20T13:44:08.780926Z",
     "iopub.status.busy": "2024-10-20T13:44:08.780556Z",
     "iopub.status.idle": "2024-10-20T13:44:08.789206Z",
     "shell.execute_reply": "2024-10-20T13:44:08.788283Z"
    },
    "papermill": {
     "duration": 0.220461,
     "end_time": "2024-10-20T13:44:08.791042",
     "exception": false,
     "start_time": "2024-10-20T13:44:08.570581",
     "status": "completed"
    },
    "tags": []
   },
   "outputs": [],
   "source": [
    "def train(train_dataloader, val_dataloader, model, n_epochs, plot_every=1):\n",
    "    attach_optimizer_hooks(model)  # Assuming this function sets up optimizers for the model\n",
    "    criterion = nn.NLLLoss(ignore_index=PAD_IDX)\n",
    "    early_stopper = EarlyStopping(tolerance=3, min_delta=0.01)\n",
    "    for epoch in range(1, n_epochs + 1):\n",
    "        model.train()  # Set model to training mode\n",
    "        total_train_loss = 0  # Accumulate train loss\n",
    "        # Perform a training step for the current batch and return batch loss\n",
    "        train_loss = train_epoch(train_dataloader, model, criterion)\n",
    "        val_loss, rouge_scores = eval(val_dataloader, model, criterion)\n",
    "        print(f\"Epoch: {epoch}, Train Loss: {train_loss[-1]:.4f}, Val ROUGE-L: {rouge_scores['Rouge-L-F']:.4f}, Val ROUGE-2: {rouge_scores['Rouge-2-F']:.4f}\")\n",
    "        # Check early stopping based on validation loss\n",
    "        early_stopper(torch.sum(torch.tensor(train_loss)).item(), torch.sum(torch.tensor(val_loss)).item())\n",
    "        if epoch % plot_every == 0:\n",
    "            plotLoss(train_loss, val_loss) # Plot training vs validation loss\n",
    "        if early_stopper.early_stop:\n",
    "            print(f\"Early stopping at epoch {epoch}...\")\n",
    "            break"
   ]
  },
  {
   "cell_type": "markdown",
   "id": "25035295",
   "metadata": {
    "papermill": {
     "duration": 0.208377,
     "end_time": "2024-10-20T13:44:09.211421",
     "exception": false,
     "start_time": "2024-10-20T13:44:09.003044",
     "status": "completed"
    },
    "tags": []
   },
   "source": [
    "## V. Training Model (Encoder-Decoder Architecture)"
   ]
  },
  {
   "cell_type": "code",
   "execution_count": 18,
   "id": "5cd4c2cd",
   "metadata": {
    "execution": {
     "iopub.execute_input": "2024-10-20T13:44:09.629212Z",
     "iopub.status.busy": "2024-10-20T13:44:09.628850Z",
     "iopub.status.idle": "2024-10-20T13:44:10.086180Z",
     "shell.execute_reply": "2024-10-20T13:44:10.085374Z"
    },
    "papermill": {
     "duration": 0.670278,
     "end_time": "2024-10-20T13:44:10.088748",
     "exception": false,
     "start_time": "2024-10-20T13:44:09.418470",
     "status": "completed"
    },
    "tags": []
   },
   "outputs": [],
   "source": [
    "HIDDEN_SIZE = 128\n",
    "BATCH_SIZE = 8\n",
    "model = Seq2Seq(v.vocab_size, HIDDEN_SIZE, v.vocab_size).to(device)\n",
    "train_dataloader = DataLoader(train_ds, batch_size=BATCH_SIZE, collate_fn=collate_fn)\n",
    "val_dataloader = DataLoader(val_ds, batch_size=BATCH_SIZE, collate_fn=collate_fn)"
   ]
  },
  {
   "cell_type": "code",
   "execution_count": 19,
   "id": "a438b27d",
   "metadata": {
    "execution": {
     "iopub.execute_input": "2024-10-20T13:44:10.576223Z",
     "iopub.status.busy": "2024-10-20T13:44:10.575568Z",
     "iopub.status.idle": "2024-10-20T14:44:05.897300Z",
     "shell.execute_reply": "2024-10-20T14:44:05.896289Z"
    },
    "papermill": {
     "duration": 3595.580692,
     "end_time": "2024-10-20T14:44:05.900246",
     "exception": false,
     "start_time": "2024-10-20T13:44:10.319554",
     "status": "completed"
    },
    "tags": []
   },
   "outputs": [
    {
     "name": "stderr",
     "output_type": "stream",
     "text": [
      "100%|██████████| 3589/3589 [19:21<00:00,  3.09it/s, loss=6.01]\n",
      "100%|██████████| 167/167 [00:27<00:00,  6.15it/s, loss=6.09]\n"
     ]
    },
    {
     "name": "stdout",
     "output_type": "stream",
     "text": [
      "Epoch: 1, Train Loss: 6.0055, Val ROUGE-L: 0.1241, Val ROUGE-2: 0.0102\n"
     ]
    },
    {
     "data": {
      "text/plain": [
       "<Figure size 640x480 with 0 Axes>"
      ]
     },
     "metadata": {},
     "output_type": "display_data"
    },
    {
     "data": {
      "image/png": "[encoded data removed]",
      "text/plain": [
       "<Figure size 1200x500 with 2 Axes>"
      ]
     },
     "metadata": {},
     "output_type": "display_data"
    },
    {
     "name": "stderr",
     "output_type": "stream",
     "text": [
      "100%|██████████| 3589/3589 [19:39<00:00,  3.04it/s, loss=5.59]\n",
      "100%|██████████| 167/167 [00:27<00:00,  6.12it/s, loss=5.83]\n"
     ]
    },
    {
     "name": "stdout",
     "output_type": "stream",
     "text": [
      "Epoch: 2, Train Loss: 5.5867, Val ROUGE-L: 0.1227, Val ROUGE-2: 0.0106\n"
     ]
    },
    {
     "data": {
      "text/plain": [
       "<Figure size 640x480 with 0 Axes>"
      ]
     },
     "metadata": {},
     "output_type": "display_data"
    },
    {
     "data": {
      "image/png": "[encoded data removed]",
      "text/plain": [
       "<Figure size 1200x500 with 2 Axes>"
      ]
     },
     "metadata": {},
     "output_type": "display_data"
    },
    {
     "name": "stderr",
     "output_type": "stream",
     "text": [
      "100%|██████████| 3589/3589 [19:31<00:00,  3.06it/s, loss=5.36]\n",
      "100%|██████████| 167/167 [00:26<00:00,  6.19it/s, loss=5.75]\n"
     ]
    },
    {
     "name": "stdout",
     "output_type": "stream",
     "text": [
      "Epoch: 3, Train Loss: 5.3625, Val ROUGE-L: 0.1215, Val ROUGE-2: 0.0105\n"
     ]
    },
    {
     "data": {
      "text/plain": [
       "<Figure size 640x480 with 0 Axes>"
      ]
     },
     "metadata": {},
     "output_type": "display_data"
    },
    {
     "data": {
      "image/png": "[encoded data removed]",
      "text/plain": [
       "<Figure size 1200x500 with 2 Axes>"
      ]
     },
     "metadata": {},
     "output_type": "display_data"
    },
    {
     "name": "stdout",
     "output_type": "stream",
     "text": [
      "Early stopping at epoch 3...\n"
     ]
    }
   ],
   "source": [
    "train(train_dataloader, val_dataloader, model, n_epochs=10)"
   ]
  },
  {
   "cell_type": "markdown",
   "id": "62a2348a",
   "metadata": {
    "papermill": {
     "duration": 2.091667,
     "end_time": "2024-10-20T14:44:09.970089",
     "exception": false,
     "start_time": "2024-10-20T14:44:07.878422",
     "status": "completed"
    },
    "tags": []
   },
   "source": [
    "## VI. Inference Stage: Making Predictions!"
   ]
  },
  {
   "cell_type": "code",
   "execution_count": 20,
   "id": "b25322b5",
   "metadata": {
    "execution": {
     "iopub.execute_input": "2024-10-20T14:44:13.994060Z",
     "iopub.status.busy": "2024-10-20T14:44:13.993651Z",
     "iopub.status.idle": "2024-10-20T14:44:14.131384Z",
     "shell.execute_reply": "2024-10-20T14:44:14.130572Z"
    },
    "papermill": {
     "duration": 2.161581,
     "end_time": "2024-10-20T14:44:14.133581",
     "exception": false,
     "start_time": "2024-10-20T14:44:11.972000",
     "status": "completed"
    },
    "tags": []
   },
   "outputs": [],
   "source": [
    "torch.save(model.state_dict(), \"model.pth\")"
   ]
  },
  {
   "cell_type": "code",
   "execution_count": 21,
   "id": "e6119f4c",
   "metadata": {
    "execution": {
     "iopub.execute_input": "2024-10-20T14:44:18.180868Z",
     "iopub.status.busy": "2024-10-20T14:44:18.180469Z",
     "iopub.status.idle": "2024-10-20T14:47:59.662517Z",
     "shell.execute_reply": "2024-10-20T14:47:59.661566Z"
    },
    "papermill": {
     "duration": 223.456288,
     "end_time": "2024-10-20T14:47:59.664744",
     "exception": false,
     "start_time": "2024-10-20T14:44:16.208456",
     "status": "completed"
    },
    "tags": []
   },
   "outputs": [
    {
     "name": "stderr",
     "output_type": "stream",
     "text": [
      "100%|██████████| 1437/1437 [03:41<00:00,  6.49it/s, loss=4.96]"
     ]
    },
    {
     "name": "stdout",
     "output_type": "stream",
     "text": [
      "Test ROUGE-L: 0.1243, Test ROUGE-2: 0.0105\n"
     ]
    },
    {
     "name": "stderr",
     "output_type": "stream",
     "text": [
      "\n"
     ]
    }
   ],
   "source": [
    "test_dataloader = DataLoader(test_ds, batch_size=BATCH_SIZE, collate_fn=collate_fn)\n",
    "test_loss, rouge_scores = eval(test_dataloader, model, nn.NLLLoss(ignore_index=PAD_IDX))\n",
    "print(f\"Test ROUGE-L: {rouge_scores['Rouge-L-F']:.4f}, Test ROUGE-2: {rouge_scores['Rouge-2-F']:.4f}\")"
   ]
  },
  {
   "cell_type": "markdown",
   "id": "fd3eee62",
   "metadata": {
    "papermill": {
     "duration": 2.259168,
     "end_time": "2024-10-20T14:48:04.200064",
     "exception": false,
     "start_time": "2024-10-20T14:48:01.940896",
     "status": "completed"
    },
    "tags": []
   },
   "source": [
    "# Part 2: Applying the Model to New Data (20 Marks)"
   ]
  },
  {
   "cell_type": "code",
   "execution_count": 22,
   "id": "ff2d84de",
   "metadata": {
    "execution": {
     "iopub.execute_input": "2024-10-20T14:48:08.697944Z",
     "iopub.status.busy": "2024-10-20T14:48:08.697581Z",
     "iopub.status.idle": "2024-10-20T14:48:08.704096Z",
     "shell.execute_reply": "2024-10-20T14:48:08.703150Z"
    },
    "papermill": {
     "duration": 2.261121,
     "end_time": "2024-10-20T14:48:08.706228",
     "exception": false,
     "start_time": "2024-10-20T14:48:06.445107",
     "status": "completed"
    },
    "tags": []
   },
   "outputs": [],
   "source": [
    "def collate_fn(batch: list):\n",
    "    \"\"\" This function pads inputs with pad_idx to have batches of equal length \"\"\"\n",
    "    src_batch, tgt_batch = [], []\n",
    "    for v in batch:\n",
    "        src_sample = v[\"full_text\"]\n",
    "        tgt_sample = v[\"summary\"]\n",
    "        src_batch.append(transform_input_token(src_sample))\n",
    "        tgt_batch.append(transform_input_token(tgt_sample))\n",
    "    src_batch = pad_sequence(src_batch, padding_value=PAD_IDX, batch_first=True)\n",
    "    tgt_batch = pad_sequence(tgt_batch, padding_value=PAD_IDX, batch_first=True)\n",
    "    return src_batch, tgt_batch"
   ]
  },
  {
   "cell_type": "code",
   "execution_count": 23,
   "id": "770d99b1",
   "metadata": {
    "execution": {
     "iopub.execute_input": "2024-10-20T14:48:13.224166Z",
     "iopub.status.busy": "2024-10-20T14:48:13.223224Z",
     "iopub.status.idle": "2024-10-20T14:53:55.522334Z",
     "shell.execute_reply": "2024-10-20T14:53:55.520474Z"
    },
    "papermill": {
     "duration": 344.543785,
     "end_time": "2024-10-20T14:53:55.526028",
     "exception": false,
     "start_time": "2024-10-20T14:48:10.982243",
     "status": "completed"
    },
    "tags": []
   },
   "outputs": [
    {
     "data": {
      "application/vnd.jupyter.widget-view+json": {
       "model_id": "7cb21b70068b4279808f47ac98cf6a5d",
       "version_major": 2,
       "version_minor": 0
      },
      "text/plain": [
       "README.md:   0%|          | 0.00/1.21k [00:00<?, ?B/s]"
      ]
     },
     "metadata": {},
     "output_type": "display_data"
    },
    {
     "name": "stderr",
     "output_type": "stream",
     "text": [
      "Repo card metadata block was not found. Setting CardData to empty.\n"
     ]
    },
    {
     "data": {
      "application/vnd.jupyter.widget-view+json": {
       "model_id": "dd0c36e642964d82baac8bd27dc940cc",
       "version_major": 2,
       "version_minor": 0
      },
      "text/plain": [
       "df_withDescription.parquet:   0%|          | 0.00/8.65G [00:00<?, ?B/s]"
      ]
     },
     "metadata": {},
     "output_type": "display_data"
    },
    {
     "data": {
      "application/vnd.jupyter.widget-view+json": {
       "model_id": "975e63d784314169b08d2fa002914246",
       "version_major": 2,
       "version_minor": 0
      },
      "text/plain": [
       "df_withoutDescription.parquet:   0%|          | 0.00/6.77G [00:00<?, ?B/s]"
      ]
     },
     "metadata": {},
     "output_type": "display_data"
    },
    {
     "data": {
      "application/vnd.jupyter.widget-view+json": {
       "model_id": "329ed9b1797545dd8e7259a46e785b40",
       "version_major": 2,
       "version_minor": 0
      },
      "text/plain": [
       "Generating train split: 0 examples [00:00, ? examples/s]"
      ]
     },
     "metadata": {},
     "output_type": "display_data"
    }
   ],
   "source": [
    "wiki_ds = load_dataset(\"jordiclive/wikipedia-summary-dataset\")\n",
    "wiki_ds = wiki_ds[\"train\"].select(list(range(10000)))"
   ]
  },
  {
   "cell_type": "code",
   "execution_count": 24,
   "id": "fdfa94e9",
   "metadata": {
    "execution": {
     "iopub.execute_input": "2024-10-20T14:54:00.247126Z",
     "iopub.status.busy": "2024-10-20T14:54:00.246741Z",
     "iopub.status.idle": "2024-10-20T15:19:35.559065Z",
     "shell.execute_reply": "2024-10-20T15:19:35.558040Z"
    },
    "papermill": {
     "duration": 1537.849737,
     "end_time": "2024-10-20T15:19:35.561026",
     "exception": false,
     "start_time": "2024-10-20T14:53:57.711289",
     "status": "completed"
    },
    "tags": []
   },
   "outputs": [
    {
     "name": "stderr",
     "output_type": "stream",
     "text": [
      "100%|██████████| 1250/1250 [25:35<00:00,  1.23s/it, loss=6.89]"
     ]
    },
    {
     "name": "stdout",
     "output_type": "stream",
     "text": [
      "Wiki ROUGE-L: 0.1272, Wiki ROUGE-2: 0.0233\n"
     ]
    },
    {
     "name": "stderr",
     "output_type": "stream",
     "text": [
      "\n"
     ]
    }
   ],
   "source": [
    "wiki_dataloader = DataLoader(wiki_ds, batch_size=BATCH_SIZE, collate_fn=collate_fn)\n",
    "loss, rouge_scores = eval(wiki_dataloader, model, nn.NLLLoss(ignore_index=PAD_IDX))\n",
    "print(f\"Wiki ROUGE-L: {rouge_scores['Rouge-L-F']:.4f}, Wiki ROUGE-2: {rouge_scores['Rouge-2-F']:.4f}\")"
   ]
  }
 ],
 "metadata": {
  "kaggle": {
   "accelerator": "gpu",
   "dataSources": [],
   "dockerImageVersionId": 30786,
   "isGpuEnabled": true,
   "isInternetEnabled": true,
   "language": "python",
   "sourceType": "notebook"
  },
  "kernelspec": {
   "display_name": "Python 3",
   "language": "python",
   "name": "python3"
  },
  "language_info": {
   "codemirror_mode": {
    "name": "ipython",
    "version": 3
   },
   "file_extension": ".py",
   "mimetype": "text/x-python",
   "name": "python",
   "nbconvert_exporter": "python",
   "pygments_lexer": "ipython3",
   "version": "3.10.14"
  },
  "papermill": {
   "default_parameters": {},
   "duration": 6027.057335,
   "end_time": "2024-10-20T15:19:39.952380",
   "environment_variables": {},
   "exception": null,
   "input_path": "__notebook__.ipynb",
   "output_path": "__notebook__.ipynb",
   "parameters": {},
   "start_time": "2024-10-20T13:39:12.895045",
   "version": "2.6.0"
  },
  "widgets": {
   "application/vnd.jupyter.widget-state+json": {
    "state": {
     "00c8b9fc5bea481ba431a241b8a80825": {
      "model_module": "@jupyter-widgets/base",
      "model_module_version": "1.2.0",
      "model_name": "LayoutModel",
      "state": {
       "_model_module": "@jupyter-widgets/base",
       "_model_module_version": "1.2.0",
       "_model_name": "LayoutModel",
       "_view_count": null,
       "_view_module": "@jupyter-widgets/base",
       "_view_module_version": "1.2.0",
       "_view_name": "LayoutView",
       "align_content": null,
       "align_items": null,
       "align_self": null,
       "border": null,
       "bottom": null,
       "display": null,
       "flex": null,
       "flex_flow": null,
       "grid_area": null,
       "grid_auto_columns": null,
       "grid_auto_flow": null,
       "grid_auto_rows": null,
       "grid_column": null,
       "grid_gap": null,
       "grid_row": null,
       "grid_template_areas": null,
       "grid_template_columns": null,
       "grid_template_rows": null,
       "height": null,
       "justify_content": null,
       "justify_items": null,
       "left": null,
       "margin": null,
       "max_height": null,
       "max_width": null,
       "min_height": null,
       "min_width": null,
       "object_fit": null,
       "object_position": null,
       "order": null,
       "overflow": null,
       "overflow_x": null,
       "overflow_y": null,
       "padding": null,
       "right": null,
       "top": null,
       "visibility": null,
       "width": null
      }
     },
     "01674c6b925a4869862059873bd72651": {
      "model_module": "@jupyter-widgets/base",
      "model_module_version": "1.2.0",
      "model_name": "LayoutModel",
      "state": {
       "_model_module": "@jupyter-widgets/base",
       "_model_module_version": "1.2.0",
       "_model_name": "LayoutModel",
       "_view_count": null,
       "_view_module": "@jupyter-widgets/base",
       "_view_module_version": "1.2.0",
       "_view_name": "LayoutView",
       "align_content": null,
       "align_items": null,
       "align_self": null,
       "border": null,
       "bottom": null,
       "display": null,
       "flex": null,
       "flex_flow": null,
       "grid_area": null,
       "grid_auto_columns": null,
       "grid_auto_flow": null,
       "grid_auto_rows": null,
       "grid_column": null,
       "grid_gap": null,
       "grid_row": null,
       "grid_template_areas": null,
       "grid_template_columns": null,
       "grid_template_rows": null,
       "height": null,
       "justify_content": null,
       "justify_items": null,
       "left": null,
       "margin": null,
       "max_height": null,
       "max_width": null,
       "min_height": null,
       "min_width": null,
       "object_fit": null,
       "object_position": null,
       "order": null,
       "overflow": null,
       "overflow_x": null,
       "overflow_y": null,
       "padding": null,
       "right": null,
       "top": null,
       "visibility": null,
       "width": null
      }
     },
     "02e539f7dd404795a960ac784867ddab": {
      "model_module": "@jupyter-widgets/controls",
      "model_module_version": "1.5.0",
      "model_name": "ProgressStyleModel",
      "state": {
       "_model_module": "@jupyter-widgets/controls",
       "_model_module_version": "1.5.0",
       "_model_name": "ProgressStyleModel",
       "_view_count": null,
       "_view_module": "@jupyter-widgets/base",
       "_view_module_version": "1.2.0",
       "_view_name": "StyleView",
       "bar_color": null,
       "description_width": ""
      }
     },
     "05cb54c40c7941ad94760f41996238ed": {
      "model_module": "@jupyter-widgets/controls",
      "model_module_version": "1.5.0",
      "model_name": "HTMLModel",
      "state": {
       "_dom_classes": [],
       "_model_module": "@jupyter-widgets/controls",
       "_model_module_version": "1.5.0",
       "_model_name": "HTMLModel",
       "_view_count": null,
       "_view_module": "@jupyter-widgets/controls",
       "_view_module_version": "1.5.0",
       "_view_name": "HTMLView",
       "description": "",
       "description_tooltip": null,
       "layout": "IPY_MODEL_acad0ddf201144e0b81179d186af100e",
       "placeholder": "​",
       "style": "IPY_MODEL_c2dcf0b892734058b6c79f4c536a9885",
       "value": "tokenizer.json: 100%"
      }
     },
     "093b74da687043259c9956f45c5e9f5b": {
      "model_module": "@jupyter-widgets/base",
      "model_module_version": "1.2.0",
      "model_name": "LayoutModel",
      "state": {
       "_model_module": "@jupyter-widgets/base",
       "_model_module_version": "1.2.0",
       "_model_name": "LayoutModel",
       "_view_count": null,
       "_view_module": "@jupyter-widgets/base",
       "_view_module_version": "1.2.0",
       "_view_name": "LayoutView",
       "align_content": null,
       "align_items": null,
       "align_self": null,
       "border": null,
       "bottom": null,
       "display": null,
       "flex": null,
       "flex_flow": null,
       "grid_area": null,
       "grid_auto_columns": null,
       "grid_auto_flow": null,
       "grid_auto_rows": null,
       "grid_column": null,
       "grid_gap": null,
       "grid_row": null,
       "grid_template_areas": null,
       "grid_template_columns": null,
       "grid_template_rows": null,
       "height": null,
       "justify_content": null,
       "justify_items": null,
       "left": null,
       "margin": null,
       "max_height": null,
       "max_width": null,
       "min_height": null,
       "min_width": null,
       "object_fit": null,
       "object_position": null,
       "order": null,
       "overflow": null,
       "overflow_x": null,
       "overflow_y": null,
       "padding": null,
       "right": null,
       "top": null,
       "visibility": null,
       "width": null
      }
     },
     "0a4dee3e30fb4dfb87f20843a2718f21": {
      "model_module": "@jupyter-widgets/controls",
      "model_module_version": "1.5.0",
      "model_name": "FloatProgressModel",
      "state": {
       "_dom_classes": [],
       "_model_module": "@jupyter-widgets/controls",
       "_model_module_version": "1.5.0",
       "_model_name": "FloatProgressModel",
       "_view_count": null,
       "_view_module": "@jupyter-widgets/controls",
       "_view_module_version": "1.5.0",
       "_view_name": "ProgressView",
       "bar_style": "success",
       "description": "",
       "description_tooltip": null,
       "layout": "IPY_MODEL_7a77b96338c947adacaccfd80e9bfe01",
       "max": 26.0,
       "min": 0.0,
       "orientation": "horizontal",
       "style": "IPY_MODEL_560274175e4849ce916517896ad5d08e",
       "value": 26.0
      }
     },
     "0a86a556d17d49359a6fc463e8edea3f": {
      "model_module": "@jupyter-widgets/controls",
      "model_module_version": "1.5.0",
      "model_name": "HTMLModel",
      "state": {
       "_dom_classes": [],
       "_model_module": "@jupyter-widgets/controls",
       "_model_module_version": "1.5.0",
       "_model_name": "HTMLModel",
       "_view_count": null,
       "_view_module": "@jupyter-widgets/controls",
       "_view_module_version": "1.5.0",
       "_view_name": "HTMLView",
       "description": "",
       "description_tooltip": null,
       "layout": "IPY_MODEL_50fe4d883b4043238407177d721ee30e",
       "placeholder": "​",
       "style": "IPY_MODEL_2c09a83f865f459686e6de013d788dba",
       "value": "vocab.json: 100%"
      }
     },
     "0aa6b114125a44e48b05675e6d8d2ab3": {
      "model_module": "@jupyter-widgets/controls",
      "model_module_version": "1.5.0",
      "model_name": "HTMLModel",
      "state": {
       "_dom_classes": [],
       "_model_module": "@jupyter-widgets/controls",
       "_model_module_version": "1.5.0",
       "_model_name": "HTMLModel",
       "_view_count": null,
       "_view_module": "@jupyter-widgets/controls",
       "_view_module_version": "1.5.0",
       "_view_name": "HTMLView",
       "description": "",
       "description_tooltip": null,
       "layout": "IPY_MODEL_0b31de4dbc6f4605a168261c9bb892c5",
       "placeholder": "​",
       "style": "IPY_MODEL_bc043a976c9c409b88911655e6a4c03e",
       "value": "tokenizer_config.json: 100%"
      }
     },
     "0b31de4dbc6f4605a168261c9bb892c5": {
      "model_module": "@jupyter-widgets/base",
      "model_module_version": "1.2.0",
      "model_name": "LayoutModel",
      "state": {
       "_model_module": "@jupyter-widgets/base",
       "_model_module_version": "1.2.0",
       "_model_name": "LayoutModel",
       "_view_count": null,
       "_view_module": "@jupyter-widgets/base",
       "_view_module_version": "1.2.0",
       "_view_name": "LayoutView",
       "align_content": null,
       "align_items": null,
       "align_self": null,
       "border": null,
       "bottom": null,
       "display": null,
       "flex": null,
       "flex_flow": null,
       "grid_area": null,
       "grid_auto_columns": null,
       "grid_auto_flow": null,
       "grid_auto_rows": null,
       "grid_column": null,
       "grid_gap": null,
       "grid_row": null,
       "grid_template_areas": null,
       "grid_template_columns": null,
       "grid_template_rows": null,
       "height": null,
       "justify_content": null,
       "justify_items": null,
       "left": null,
       "margin": null,
       "max_height": null,
       "max_width": null,
       "min_height": null,
       "min_width": null,
       "object_fit": null,
       "object_position": null,
       "order": null,
       "overflow": null,
       "overflow_x": null,
       "overflow_y": null,
       "padding": null,
       "right": null,
       "top": null,
       "visibility": null,
       "width": null
      }
     },
     "0c9d23780a97485a888b42feaa3e4f77": {
      "model_module": "@jupyter-widgets/base",
      "model_module_version": "1.2.0",
      "model_name": "LayoutModel",
      "state": {
       "_model_module": "@jupyter-widgets/base",
       "_model_module_version": "1.2.0",
       "_model_name": "LayoutModel",
       "_view_count": null,
       "_view_module": "@jupyter-widgets/base",
       "_view_module_version": "1.2.0",
       "_view_name": "LayoutView",
       "align_content": null,
       "align_items": null,
       "align_self": null,
       "border": null,
       "bottom": null,
       "display": null,
       "flex": null,
       "flex_flow": null,
       "grid_area": null,
       "grid_auto_columns": null,
       "grid_auto_flow": null,
       "grid_auto_rows": null,
       "grid_column": null,
       "grid_gap": null,
       "grid_row": null,
       "grid_template_areas": null,
       "grid_template_columns": null,
       "grid_template_rows": null,
       "height": null,
       "justify_content": null,
       "justify_items": null,
       "left": null,
       "margin": null,
       "max_height": null,
       "max_width": null,
       "min_height": null,
       "min_width": null,
       "object_fit": null,
       "object_position": null,
       "order": null,
       "overflow": null,
       "overflow_x": null,
       "overflow_y": null,
       "padding": null,
       "right": null,
       "top": null,
       "visibility": null,
       "width": null
      }
     },
     "0fd9d0b034d44b98a27596d8037b121a": {
      "model_module": "@jupyter-widgets/controls",
      "model_module_version": "1.5.0",
      "model_name": "DescriptionStyleModel",
      "state": {
       "_model_module": "@jupyter-widgets/controls",
       "_model_module_version": "1.5.0",
       "_model_name": "DescriptionStyleModel",
       "_view_count": null,
       "_view_module": "@jupyter-widgets/base",
       "_view_module_version": "1.2.0",
       "_view_name": "StyleView",
       "description_width": ""
      }
     },
     "1020e8127dec479cbdad44122d333e2b": {
      "model_module": "@jupyter-widgets/controls",
      "model_module_version": "1.5.0",
      "model_name": "DescriptionStyleModel",
      "state": {
       "_model_module": "@jupyter-widgets/controls",
       "_model_module_version": "1.5.0",
       "_model_name": "DescriptionStyleModel",
       "_view_count": null,
       "_view_module": "@jupyter-widgets/base",
       "_view_module_version": "1.2.0",
       "_view_name": "StyleView",
       "description_width": ""
      }
     },
     "13e363dfbc2640aca691c506d1b7353b": {
      "model_module": "@jupyter-widgets/controls",
      "model_module_version": "1.5.0",
      "model_name": "HTMLModel",
      "state": {
       "_dom_classes": [],
       "_model_module": "@jupyter-widgets/controls",
       "_model_module_version": "1.5.0",
       "_model_name": "HTMLModel",
       "_view_count": null,
       "_view_module": "@jupyter-widgets/controls",
       "_view_module_version": "1.5.0",
       "_view_name": "HTMLView",
       "description": "",
       "description_tooltip": null,
       "layout": "IPY_MODEL_cbe1e492ae774d09b817cec256d313e7",
       "placeholder": "​",
       "style": "IPY_MODEL_a1d18c2620c4428ab5d8e3c7549a5830",
       "value": "config.json: 100%"
      }
     },
     "14b8afacfcb34bbdb0e2fa046586a083": {
      "model_module": "@jupyter-widgets/controls",
      "model_module_version": "1.5.0",
      "model_name": "HTMLModel",
      "state": {
       "_dom_classes": [],
       "_model_module": "@jupyter-widgets/controls",
       "_model_module_version": "1.5.0",
       "_model_name": "HTMLModel",
       "_view_count": null,
       "_view_module": "@jupyter-widgets/controls",
       "_view_module_version": "1.5.0",
       "_view_name": "HTMLView",
       "description": "",
       "description_tooltip": null,
       "layout": "IPY_MODEL_87a8f21d651a48d498776859dfc1cf15",
       "placeholder": "​",
       "style": "IPY_MODEL_f218611f16b74d38a6a56de9a7ea47ac",
       "value": " 8.65G/8.65G [00:25&lt;00:00, 298MB/s]"
      }
     },
     "17a7077a01ba42a5b1dbe6afefa99c35": {
      "model_module": "@jupyter-widgets/controls",
      "model_module_version": "1.5.0",
      "model_name": "ProgressStyleModel",
      "state": {
       "_model_module": "@jupyter-widgets/controls",
       "_model_module_version": "1.5.0",
       "_model_name": "ProgressStyleModel",
       "_view_count": null,
       "_view_module": "@jupyter-widgets/base",
       "_view_module_version": "1.2.0",
       "_view_name": "StyleView",
       "bar_color": null,
       "description_width": ""
      }
     },
     "1c831076f99943a48eeeb325c2d824d5": {
      "model_module": "@jupyter-widgets/controls",
      "model_module_version": "1.5.0",
      "model_name": "DescriptionStyleModel",
      "state": {
       "_model_module": "@jupyter-widgets/controls",
       "_model_module_version": "1.5.0",
       "_model_name": "DescriptionStyleModel",
       "_view_count": null,
       "_view_module": "@jupyter-widgets/base",
       "_view_module_version": "1.2.0",
       "_view_name": "StyleView",
       "description_width": ""
      }
     },
     "1da89e03ba5a4b95a6181c524ee40a39": {
      "model_module": "@jupyter-widgets/controls",
      "model_module_version": "1.5.0",
      "model_name": "HTMLModel",
      "state": {
       "_dom_classes": [],
       "_model_module": "@jupyter-widgets/controls",
       "_model_module_version": "1.5.0",
       "_model_name": "HTMLModel",
       "_view_count": null,
       "_view_module": "@jupyter-widgets/controls",
       "_view_module_version": "1.5.0",
       "_view_name": "HTMLView",
       "description": "",
       "description_tooltip": null,
       "layout": "IPY_MODEL_c52beb209e1f4cad8c265626b99eead4",
       "placeholder": "​",
       "style": "IPY_MODEL_35bcdc8b91a5427388e48e60a832f94f",
       "value": "merges.txt: 100%"
      }
     },
     "210ad71fdd194031a600143d1401a4f4": {
      "model_module": "@jupyter-widgets/controls",
      "model_module_version": "1.5.0",
      "model_name": "HTMLModel",
      "state": {
       "_dom_classes": [],
       "_model_module": "@jupyter-widgets/controls",
       "_model_module_version": "1.5.0",
       "_model_name": "HTMLModel",
       "_view_count": null,
       "_view_module": "@jupyter-widgets/controls",
       "_view_module_version": "1.5.0",
       "_view_name": "HTMLView",
       "description": "",
       "description_tooltip": null,
       "layout": "IPY_MODEL_91e4f03f311c432798edf22275eac079",
       "placeholder": "​",
       "style": "IPY_MODEL_e003d2512ec540ce985f34252bf2d5f6",
       "value": " 456k/456k [00:00&lt;00:00, 7.74MB/s]"
      }
     },
     "2c09a83f865f459686e6de013d788dba": {
      "model_module": "@jupyter-widgets/controls",
      "model_module_version": "1.5.0",
      "model_name": "DescriptionStyleModel",
      "state": {
       "_model_module": "@jupyter-widgets/controls",
       "_model_module_version": "1.5.0",
       "_model_name": "DescriptionStyleModel",
       "_view_count": null,
       "_view_module": "@jupyter-widgets/base",
       "_view_module_version": "1.2.0",
       "_view_name": "StyleView",
       "description_width": ""
      }
     },
     "2dfce939d1444509b2f50fa06c20bef2": {
      "model_module": "@jupyter-widgets/base",
      "model_module_version": "1.2.0",
      "model_name": "LayoutModel",
      "state": {
       "_model_module": "@jupyter-widgets/base",
       "_model_module_version": "1.2.0",
       "_model_name": "LayoutModel",
       "_view_count": null,
       "_view_module": "@jupyter-widgets/base",
       "_view_module_version": "1.2.0",
       "_view_name": "LayoutView",
       "align_content": null,
       "align_items": null,
       "align_self": null,
       "border": null,
       "bottom": null,
       "display": null,
       "flex": null,
       "flex_flow": null,
       "grid_area": null,
       "grid_auto_columns": null,
       "grid_auto_flow": null,
       "grid_auto_rows": null,
       "grid_column": null,
       "grid_gap": null,
       "grid_row": null,
       "grid_template_areas": null,
       "grid_template_columns": null,
       "grid_template_rows": null,
       "height": null,
       "justify_content": null,
       "justify_items": null,
       "left": null,
       "margin": null,
       "max_height": null,
       "max_width": null,
       "min_height": null,
       "min_width": null,
       "object_fit": null,
       "object_position": null,
       "order": null,
       "overflow": null,
       "overflow_x": null,
       "overflow_y": null,
       "padding": null,
       "right": null,
       "top": null,
       "visibility": null,
       "width": null
      }
     },
     "329ed9b1797545dd8e7259a46e785b40": {
      "model_module": "@jupyter-widgets/controls",
      "model_module_version": "1.5.0",
      "model_name": "HBoxModel",
      "state": {
       "_dom_classes": [],
       "_model_module": "@jupyter-widgets/controls",
       "_model_module_version": "1.5.0",
       "_model_name": "HBoxModel",
       "_view_count": null,
       "_view_module": "@jupyter-widgets/controls",
       "_view_module_version": "1.5.0",
       "_view_name": "HBoxView",
       "box_style": "",
       "children": [
        "IPY_MODEL_9e1ca3521c7d448c9ad7f463ce4f181c",
        "IPY_MODEL_a29bf300ee2f412f857c8faa571e4f7e",
        "IPY_MODEL_c83bd8b32a9d4798be4e0867ed4225aa"
       ],
       "layout": "IPY_MODEL_593e4d2597be49dfba76fd8a6e68fa29"
      }
     },
     "35bcdc8b91a5427388e48e60a832f94f": {
      "model_module": "@jupyter-widgets/controls",
      "model_module_version": "1.5.0",
      "model_name": "DescriptionStyleModel",
      "state": {
       "_model_module": "@jupyter-widgets/controls",
       "_model_module_version": "1.5.0",
       "_model_name": "DescriptionStyleModel",
       "_view_count": null,
       "_view_module": "@jupyter-widgets/base",
       "_view_module_version": "1.2.0",
       "_view_name": "StyleView",
       "description_width": ""
      }
     },
     "3808f428c3d24770aea82724d0922155": {
      "model_module": "@jupyter-widgets/controls",
      "model_module_version": "1.5.0",
      "model_name": "ProgressStyleModel",
      "state": {
       "_model_module": "@jupyter-widgets/controls",
       "_model_module_version": "1.5.0",
       "_model_name": "ProgressStyleModel",
       "_view_count": null,
       "_view_module": "@jupyter-widgets/base",
       "_view_module_version": "1.2.0",
       "_view_name": "StyleView",
       "bar_color": null,
       "description_width": ""
      }
     },
     "397e13eb99f649e09adb48bd0de6fc6f": {
      "model_module": "@jupyter-widgets/controls",
      "model_module_version": "1.5.0",
      "model_name": "ProgressStyleModel",
      "state": {
       "_model_module": "@jupyter-widgets/controls",
       "_model_module_version": "1.5.0",
       "_model_name": "ProgressStyleModel",
       "_view_count": null,
       "_view_module": "@jupyter-widgets/base",
       "_view_module_version": "1.2.0",
       "_view_name": "StyleView",
       "bar_color": null,
       "description_width": ""
      }
     },
     "39bda6d6a77a4ee79218745c3c2665aa": {
      "model_module": "@jupyter-widgets/controls",
      "model_module_version": "1.5.0",
      "model_name": "DescriptionStyleModel",
      "state": {
       "_model_module": "@jupyter-widgets/controls",
       "_model_module_version": "1.5.0",
       "_model_name": "DescriptionStyleModel",
       "_view_count": null,
       "_view_module": "@jupyter-widgets/base",
       "_view_module_version": "1.2.0",
       "_view_name": "StyleView",
       "description_width": ""
      }
     },
     "3ae98dd9e1c4478f901a2e51ee6f2968": {
      "model_module": "@jupyter-widgets/controls",
      "model_module_version": "1.5.0",
      "model_name": "FloatProgressModel",
      "state": {
       "_dom_classes": [],
       "_model_module": "@jupyter-widgets/controls",
       "_model_module_version": "1.5.0",
       "_model_name": "FloatProgressModel",
       "_view_count": null,
       "_view_module": "@jupyter-widgets/controls",
       "_view_module_version": "1.5.0",
       "_view_name": "ProgressView",
       "bar_style": "success",
       "description": "",
       "description_tooltip": null,
       "layout": "IPY_MODEL_2dfce939d1444509b2f50fa06c20bef2",
       "max": 2.0,
       "min": 0.0,
       "orientation": "horizontal",
       "style": "IPY_MODEL_cecfc73cdc9f40a695b992311afafcb5",
       "value": 2.0
      }
     },
     "4171bca16bd849ccbc1d4e28e367c366": {
      "model_module": "@jupyter-widgets/base",
      "model_module_version": "1.2.0",
      "model_name": "LayoutModel",
      "state": {
       "_model_module": "@jupyter-widgets/base",
       "_model_module_version": "1.2.0",
       "_model_name": "LayoutModel",
       "_view_count": null,
       "_view_module": "@jupyter-widgets/base",
       "_view_module_version": "1.2.0",
       "_view_name": "LayoutView",
       "align_content": null,
       "align_items": null,
       "align_self": null,
       "border": null,
       "bottom": null,
       "display": null,
       "flex": null,
       "flex_flow": null,
       "grid_area": null,
       "grid_auto_columns": null,
       "grid_auto_flow": null,
       "grid_auto_rows": null,
       "grid_column": null,
       "grid_gap": null,
       "grid_row": null,
       "grid_template_areas": null,
       "grid_template_columns": null,
       "grid_template_rows": null,
       "height": null,
       "justify_content": null,
       "justify_items": null,
       "left": null,
       "margin": null,
       "max_height": null,
       "max_width": null,
       "min_height": null,
       "min_width": null,
       "object_fit": null,
       "object_position": null,
       "order": null,
       "overflow": null,
       "overflow_x": null,
       "overflow_y": null,
       "padding": null,
       "right": null,
       "top": null,
       "visibility": null,
       "width": null
      }
     },
     "418b495ebba949deab046f4f6e045c6e": {
      "model_module": "@jupyter-widgets/base",
      "model_module_version": "1.2.0",
      "model_name": "LayoutModel",
      "state": {
       "_model_module": "@jupyter-widgets/base",
       "_model_module_version": "1.2.0",
       "_model_name": "LayoutModel",
       "_view_count": null,
       "_view_module": "@jupyter-widgets/base",
       "_view_module_version": "1.2.0",
       "_view_name": "LayoutView",
       "align_content": null,
       "align_items": null,
       "align_self": null,
       "border": null,
       "bottom": null,
       "display": null,
       "flex": null,
       "flex_flow": null,
       "grid_area": null,
       "grid_auto_columns": null,
       "grid_auto_flow": null,
       "grid_auto_rows": null,
       "grid_column": null,
       "grid_gap": null,
       "grid_row": null,
       "grid_template_areas": null,
       "grid_template_columns": null,
       "grid_template_rows": null,
       "height": null,
       "justify_content": null,
       "justify_items": null,
       "left": null,
       "margin": null,
       "max_height": null,
       "max_width": null,
       "min_height": null,
       "min_width": null,
       "object_fit": null,
       "object_position": null,
       "order": null,
       "overflow": null,
       "overflow_x": null,
       "overflow_y": null,
       "padding": null,
       "right": null,
       "top": null,
       "visibility": null,
       "width": null
      }
     },
     "426fba052c2a4948a2fadf6197051b60": {
      "model_module": "@jupyter-widgets/controls",
      "model_module_version": "1.5.0",
      "model_name": "FloatProgressModel",
      "state": {
       "_dom_classes": [],
       "_model_module": "@jupyter-widgets/controls",
       "_model_module_version": "1.5.0",
       "_model_name": "FloatProgressModel",
       "_view_count": null,
       "_view_module": "@jupyter-widgets/controls",
       "_view_module_version": "1.5.0",
       "_view_name": "ProgressView",
       "bar_style": "success",
       "description": "",
       "description_tooltip": null,
       "layout": "IPY_MODEL_44825f7865ea4604b83684b4ff45491d",
       "max": 8650642356.0,
       "min": 0.0,
       "orientation": "horizontal",
       "style": "IPY_MODEL_59ba9423af8e4470a41d22081ea9d6d6",
       "value": 8650642356.0
      }
     },
     "44825f7865ea4604b83684b4ff45491d": {
      "model_module": "@jupyter-widgets/base",
      "model_module_version": "1.2.0",
      "model_name": "LayoutModel",
      "state": {
       "_model_module": "@jupyter-widgets/base",
       "_model_module_version": "1.2.0",
       "_model_name": "LayoutModel",
       "_view_count": null,
       "_view_module": "@jupyter-widgets/base",
       "_view_module_version": "1.2.0",
       "_view_name": "LayoutView",
       "align_content": null,
       "align_items": null,
       "align_self": null,
       "border": null,
       "bottom": null,
       "display": null,
       "flex": null,
       "flex_flow": null,
       "grid_area": null,
       "grid_auto_columns": null,
       "grid_auto_flow": null,
       "grid_auto_rows": null,
       "grid_column": null,
       "grid_gap": null,
       "grid_row": null,
       "grid_template_areas": null,
       "grid_template_columns": null,
       "grid_template_rows": null,
       "height": null,
       "justify_content": null,
       "justify_items": null,
       "left": null,
       "margin": null,
       "max_height": null,
       "max_width": null,
       "min_height": null,
       "min_width": null,
       "object_fit": null,
       "object_position": null,
       "order": null,
       "overflow": null,
       "overflow_x": null,
       "overflow_y": null,
       "padding": null,
       "right": null,
       "top": null,
       "visibility": null,
       "width": null
      }
     },
     "47f9a6bee6f1466e934630604099134e": {
      "model_module": "@jupyter-widgets/controls",
      "model_module_version": "1.5.0",
      "model_name": "HTMLModel",
      "state": {
       "_dom_classes": [],
       "_model_module": "@jupyter-widgets/controls",
       "_model_module_version": "1.5.0",
       "_model_name": "HTMLModel",
       "_view_count": null,
       "_view_module": "@jupyter-widgets/controls",
       "_view_module_version": "1.5.0",
       "_view_name": "HTMLView",
       "description": "",
       "description_tooltip": null,
       "layout": "IPY_MODEL_54036f681ed3452da43593bd8b56be04",
       "placeholder": "​",
       "style": "IPY_MODEL_53b7836bc946456081f2b676c8fddd5e",
       "value": " 1.04M/1.04M [00:00&lt;00:00, 9.64MB/s]"
      }
     },
     "48fed751f48e468180a3f71994eb0bb4": {
      "model_module": "@jupyter-widgets/controls",
      "model_module_version": "1.5.0",
      "model_name": "FloatProgressModel",
      "state": {
       "_dom_classes": [],
       "_model_module": "@jupyter-widgets/controls",
       "_model_module_version": "1.5.0",
       "_model_name": "FloatProgressModel",
       "_view_count": null,
       "_view_module": "@jupyter-widgets/controls",
       "_view_module_version": "1.5.0",
       "_view_name": "ProgressView",
       "bar_style": "success",
       "description": "",
       "description_tooltip": null,
       "layout": "IPY_MODEL_50fd56d0c9e245068e8df1fa2f6d2c8d",
       "max": 1211.0,
       "min": 0.0,
       "orientation": "horizontal",
       "style": "IPY_MODEL_17a7077a01ba42a5b1dbe6afefa99c35",
       "value": 1211.0
      }
     },
     "50fd56d0c9e245068e8df1fa2f6d2c8d": {
      "model_module": "@jupyter-widgets/base",
      "model_module_version": "1.2.0",
      "model_name": "LayoutModel",
      "state": {
       "_model_module": "@jupyter-widgets/base",
       "_model_module_version": "1.2.0",
       "_model_name": "LayoutModel",
       "_view_count": null,
       "_view_module": "@jupyter-widgets/base",
       "_view_module_version": "1.2.0",
       "_view_name": "LayoutView",
       "align_content": null,
       "align_items": null,
       "align_self": null,
       "border": null,
       "bottom": null,
       "display": null,
       "flex": null,
       "flex_flow": null,
       "grid_area": null,
       "grid_auto_columns": null,
       "grid_auto_flow": null,
       "grid_auto_rows": null,
       "grid_column": null,
       "grid_gap": null,
       "grid_row": null,
       "grid_template_areas": null,
       "grid_template_columns": null,
       "grid_template_rows": null,
       "height": null,
       "justify_content": null,
       "justify_items": null,
       "left": null,
       "margin": null,
       "max_height": null,
       "max_width": null,
       "min_height": null,
       "min_width": null,
       "object_fit": null,
       "object_position": null,
       "order": null,
       "overflow": null,
       "overflow_x": null,
       "overflow_y": null,
       "padding": null,
       "right": null,
       "top": null,
       "visibility": null,
       "width": null
      }
     },
     "50fe4d883b4043238407177d721ee30e": {
      "model_module": "@jupyter-widgets/base",
      "model_module_version": "1.2.0",
      "model_name": "LayoutModel",
      "state": {
       "_model_module": "@jupyter-widgets/base",
       "_model_module_version": "1.2.0",
       "_model_name": "LayoutModel",
       "_view_count": null,
       "_view_module": "@jupyter-widgets/base",
       "_view_module_version": "1.2.0",
       "_view_name": "LayoutView",
       "align_content": null,
       "align_items": null,
       "align_self": null,
       "border": null,
       "bottom": null,
       "display": null,
       "flex": null,
       "flex_flow": null,
       "grid_area": null,
       "grid_auto_columns": null,
       "grid_auto_flow": null,
       "grid_auto_rows": null,
       "grid_column": null,
       "grid_gap": null,
       "grid_row": null,
       "grid_template_areas": null,
       "grid_template_columns": null,
       "grid_template_rows": null,
       "height": null,
       "justify_content": null,
       "justify_items": null,
       "left": null,
       "margin": null,
       "max_height": null,
       "max_width": null,
       "min_height": null,
       "min_width": null,
       "object_fit": null,
       "object_position": null,
       "order": null,
       "overflow": null,
       "overflow_x": null,
       "overflow_y": null,
       "padding": null,
       "right": null,
       "top": null,
       "visibility": null,
       "width": null
      }
     },
     "5236c87cef6447ceac7abc474d930219": {
      "model_module": "@jupyter-widgets/base",
      "model_module_version": "1.2.0",
      "model_name": "LayoutModel",
      "state": {
       "_model_module": "@jupyter-widgets/base",
       "_model_module_version": "1.2.0",
       "_model_name": "LayoutModel",
       "_view_count": null,
       "_view_module": "@jupyter-widgets/base",
       "_view_module_version": "1.2.0",
       "_view_name": "LayoutView",
       "align_content": null,
       "align_items": null,
       "align_self": null,
       "border": null,
       "bottom": null,
       "display": null,
       "flex": null,
       "flex_flow": null,
       "grid_area": null,
       "grid_auto_columns": null,
       "grid_auto_flow": null,
       "grid_auto_rows": null,
       "grid_column": null,
       "grid_gap": null,
       "grid_row": null,
       "grid_template_areas": null,
       "grid_template_columns": null,
       "grid_template_rows": null,
       "height": null,
       "justify_content": null,
       "justify_items": null,
       "left": null,
       "margin": null,
       "max_height": null,
       "max_width": null,
       "min_height": null,
       "min_width": null,
       "object_fit": null,
       "object_position": null,
       "order": null,
       "overflow": null,
       "overflow_x": null,
       "overflow_y": null,
       "padding": null,
       "right": null,
       "top": null,
       "visibility": null,
       "width": null
      }
     },
     "53361d7201d24554a15bd7a4c6dccde0": {
      "model_module": "@jupyter-widgets/base",
      "model_module_version": "1.2.0",
      "model_name": "LayoutModel",
      "state": {
       "_model_module": "@jupyter-widgets/base",
       "_model_module_version": "1.2.0",
       "_model_name": "LayoutModel",
       "_view_count": null,
       "_view_module": "@jupyter-widgets/base",
       "_view_module_version": "1.2.0",
       "_view_name": "LayoutView",
       "align_content": null,
       "align_items": null,
       "align_self": null,
       "border": null,
       "bottom": null,
       "display": null,
       "flex": null,
       "flex_flow": null,
       "grid_area": null,
       "grid_auto_columns": null,
       "grid_auto_flow": null,
       "grid_auto_rows": null,
       "grid_column": null,
       "grid_gap": null,
       "grid_row": null,
       "grid_template_areas": null,
       "grid_template_columns": null,
       "grid_template_rows": null,
       "height": null,
       "justify_content": null,
       "justify_items": null,
       "left": null,
       "margin": null,
       "max_height": null,
       "max_width": null,
       "min_height": null,
       "min_width": null,
       "object_fit": null,
       "object_position": null,
       "order": null,
       "overflow": null,
       "overflow_x": null,
       "overflow_y": null,
       "padding": null,
       "right": null,
       "top": null,
       "visibility": null,
       "width": null
      }
     },
     "53a25165ed15456e8a7b1ee1bd0fafe3": {
      "model_module": "@jupyter-widgets/base",
      "model_module_version": "1.2.0",
      "model_name": "LayoutModel",
      "state": {
       "_model_module": "@jupyter-widgets/base",
       "_model_module_version": "1.2.0",
       "_model_name": "LayoutModel",
       "_view_count": null,
       "_view_module": "@jupyter-widgets/base",
       "_view_module_version": "1.2.0",
       "_view_name": "LayoutView",
       "align_content": null,
       "align_items": null,
       "align_self": null,
       "border": null,
       "bottom": null,
       "display": null,
       "flex": null,
       "flex_flow": null,
       "grid_area": null,
       "grid_auto_columns": null,
       "grid_auto_flow": null,
       "grid_auto_rows": null,
       "grid_column": null,
       "grid_gap": null,
       "grid_row": null,
       "grid_template_areas": null,
       "grid_template_columns": null,
       "grid_template_rows": null,
       "height": null,
       "justify_content": null,
       "justify_items": null,
       "left": null,
       "margin": null,
       "max_height": null,
       "max_width": null,
       "min_height": null,
       "min_width": null,
       "object_fit": null,
       "object_position": null,
       "order": null,
       "overflow": null,
       "overflow_x": null,
       "overflow_y": null,
       "padding": null,
       "right": null,
       "top": null,
       "visibility": null,
       "width": null
      }
     },
     "53b7836bc946456081f2b676c8fddd5e": {
      "model_module": "@jupyter-widgets/controls",
      "model_module_version": "1.5.0",
      "model_name": "DescriptionStyleModel",
      "state": {
       "_model_module": "@jupyter-widgets/controls",
       "_model_module_version": "1.5.0",
       "_model_name": "DescriptionStyleModel",
       "_view_count": null,
       "_view_module": "@jupyter-widgets/base",
       "_view_module_version": "1.2.0",
       "_view_name": "StyleView",
       "description_width": ""
      }
     },
     "54036f681ed3452da43593bd8b56be04": {
      "model_module": "@jupyter-widgets/base",
      "model_module_version": "1.2.0",
      "model_name": "LayoutModel",
      "state": {
       "_model_module": "@jupyter-widgets/base",
       "_model_module_version": "1.2.0",
       "_model_name": "LayoutModel",
       "_view_count": null,
       "_view_module": "@jupyter-widgets/base",
       "_view_module_version": "1.2.0",
       "_view_name": "LayoutView",
       "align_content": null,
       "align_items": null,
       "align_self": null,
       "border": null,
       "bottom": null,
       "display": null,
       "flex": null,
       "flex_flow": null,
       "grid_area": null,
       "grid_auto_columns": null,
       "grid_auto_flow": null,
       "grid_auto_rows": null,
       "grid_column": null,
       "grid_gap": null,
       "grid_row": null,
       "grid_template_areas": null,
       "grid_template_columns": null,
       "grid_template_rows": null,
       "height": null,
       "justify_content": null,
       "justify_items": null,
       "left": null,
       "margin": null,
       "max_height": null,
       "max_width": null,
       "min_height": null,
       "min_width": null,
       "object_fit": null,
       "object_position": null,
       "order": null,
       "overflow": null,
       "overflow_x": null,
       "overflow_y": null,
       "padding": null,
       "right": null,
       "top": null,
       "visibility": null,
       "width": null
      }
     },
     "560274175e4849ce916517896ad5d08e": {
      "model_module": "@jupyter-widgets/controls",
      "model_module_version": "1.5.0",
      "model_name": "ProgressStyleModel",
      "state": {
       "_model_module": "@jupyter-widgets/controls",
       "_model_module_version": "1.5.0",
       "_model_name": "ProgressStyleModel",
       "_view_count": null,
       "_view_module": "@jupyter-widgets/base",
       "_view_module_version": "1.2.0",
       "_view_name": "StyleView",
       "bar_color": null,
       "description_width": ""
      }
     },
     "58c937d7cf5d483d9634dd5459e03758": {
      "model_module": "@jupyter-widgets/base",
      "model_module_version": "1.2.0",
      "model_name": "LayoutModel",
      "state": {
       "_model_module": "@jupyter-widgets/base",
       "_model_module_version": "1.2.0",
       "_model_name": "LayoutModel",
       "_view_count": null,
       "_view_module": "@jupyter-widgets/base",
       "_view_module_version": "1.2.0",
       "_view_name": "LayoutView",
       "align_content": null,
       "align_items": null,
       "align_self": null,
       "border": null,
       "bottom": null,
       "display": null,
       "flex": null,
       "flex_flow": null,
       "grid_area": null,
       "grid_auto_columns": null,
       "grid_auto_flow": null,
       "grid_auto_rows": null,
       "grid_column": null,
       "grid_gap": null,
       "grid_row": null,
       "grid_template_areas": null,
       "grid_template_columns": null,
       "grid_template_rows": null,
       "height": null,
       "justify_content": null,
       "justify_items": null,
       "left": null,
       "margin": null,
       "max_height": null,
       "max_width": null,
       "min_height": null,
       "min_width": null,
       "object_fit": null,
       "object_position": null,
       "order": null,
       "overflow": null,
       "overflow_x": null,
       "overflow_y": null,
       "padding": null,
       "right": null,
       "top": null,
       "visibility": null,
       "width": null
      }
     },
     "593e4d2597be49dfba76fd8a6e68fa29": {
      "model_module": "@jupyter-widgets/base",
      "model_module_version": "1.2.0",
      "model_name": "LayoutModel",
      "state": {
       "_model_module": "@jupyter-widgets/base",
       "_model_module_version": "1.2.0",
       "_model_name": "LayoutModel",
       "_view_count": null,
       "_view_module": "@jupyter-widgets/base",
       "_view_module_version": "1.2.0",
       "_view_name": "LayoutView",
       "align_content": null,
       "align_items": null,
       "align_self": null,
       "border": null,
       "bottom": null,
       "display": null,
       "flex": null,
       "flex_flow": null,
       "grid_area": null,
       "grid_auto_columns": null,
       "grid_auto_flow": null,
       "grid_auto_rows": null,
       "grid_column": null,
       "grid_gap": null,
       "grid_row": null,
       "grid_template_areas": null,
       "grid_template_columns": null,
       "grid_template_rows": null,
       "height": null,
       "justify_content": null,
       "justify_items": null,
       "left": null,
       "margin": null,
       "max_height": null,
       "max_width": null,
       "min_height": null,
       "min_width": null,
       "object_fit": null,
       "object_position": null,
       "order": null,
       "overflow": null,
       "overflow_x": null,
       "overflow_y": null,
       "padding": null,
       "right": null,
       "top": null,
       "visibility": null,
       "width": null
      }
     },
     "59ba9423af8e4470a41d22081ea9d6d6": {
      "model_module": "@jupyter-widgets/controls",
      "model_module_version": "1.5.0",
      "model_name": "ProgressStyleModel",
      "state": {
       "_model_module": "@jupyter-widgets/controls",
       "_model_module_version": "1.5.0",
       "_model_name": "ProgressStyleModel",
       "_view_count": null,
       "_view_module": "@jupyter-widgets/base",
       "_view_module_version": "1.2.0",
       "_view_name": "StyleView",
       "bar_color": null,
       "description_width": ""
      }
     },
     "5a39ca60d15f4971bece9de1e49082f6": {
      "model_module": "@jupyter-widgets/base",
      "model_module_version": "1.2.0",
      "model_name": "LayoutModel",
      "state": {
       "_model_module": "@jupyter-widgets/base",
       "_model_module_version": "1.2.0",
       "_model_name": "LayoutModel",
       "_view_count": null,
       "_view_module": "@jupyter-widgets/base",
       "_view_module_version": "1.2.0",
       "_view_name": "LayoutView",
       "align_content": null,
       "align_items": null,
       "align_self": null,
       "border": null,
       "bottom": null,
       "display": null,
       "flex": null,
       "flex_flow": null,
       "grid_area": null,
       "grid_auto_columns": null,
       "grid_auto_flow": null,
       "grid_auto_rows": null,
       "grid_column": null,
       "grid_gap": null,
       "grid_row": null,
       "grid_template_areas": null,
       "grid_template_columns": null,
       "grid_template_rows": null,
       "height": null,
       "justify_content": null,
       "justify_items": null,
       "left": null,
       "margin": null,
       "max_height": null,
       "max_width": null,
       "min_height": null,
       "min_width": null,
       "object_fit": null,
       "object_position": null,
       "order": null,
       "overflow": null,
       "overflow_x": null,
       "overflow_y": null,
       "padding": null,
       "right": null,
       "top": null,
       "visibility": null,
       "width": null
      }
     },
     "5a9549823d7b4fb68ebc5540dcfd406c": {
      "model_module": "@jupyter-widgets/base",
      "model_module_version": "1.2.0",
      "model_name": "LayoutModel",
      "state": {
       "_model_module": "@jupyter-widgets/base",
       "_model_module_version": "1.2.0",
       "_model_name": "LayoutModel",
       "_view_count": null,
       "_view_module": "@jupyter-widgets/base",
       "_view_module_version": "1.2.0",
       "_view_name": "LayoutView",
       "align_content": null,
       "align_items": null,
       "align_self": null,
       "border": null,
       "bottom": null,
       "display": null,
       "flex": null,
       "flex_flow": null,
       "grid_area": null,
       "grid_auto_columns": null,
       "grid_auto_flow": null,
       "grid_auto_rows": null,
       "grid_column": null,
       "grid_gap": null,
       "grid_row": null,
       "grid_template_areas": null,
       "grid_template_columns": null,
       "grid_template_rows": null,
       "height": null,
       "justify_content": null,
       "justify_items": null,
       "left": null,
       "margin": null,
       "max_height": null,
       "max_width": null,
       "min_height": null,
       "min_width": null,
       "object_fit": null,
       "object_position": null,
       "order": null,
       "overflow": null,
       "overflow_x": null,
       "overflow_y": null,
       "padding": null,
       "right": null,
       "top": null,
       "visibility": null,
       "width": null
      }
     },
     "5b7849c9b728479085563bf3479f17d5": {
      "model_module": "@jupyter-widgets/controls",
      "model_module_version": "1.5.0",
      "model_name": "HTMLModel",
      "state": {
       "_dom_classes": [],
       "_model_module": "@jupyter-widgets/controls",
       "_model_module_version": "1.5.0",
       "_model_name": "HTMLModel",
       "_view_count": null,
       "_view_module": "@jupyter-widgets/controls",
       "_view_module_version": "1.5.0",
       "_view_name": "HTMLView",
       "description": "",
       "description_tooltip": null,
       "layout": "IPY_MODEL_5a9549823d7b4fb68ebc5540dcfd406c",
       "placeholder": "​",
       "style": "IPY_MODEL_39bda6d6a77a4ee79218745c3c2665aa",
       "value": " 6.77G/6.77G [00:34&lt;00:00, 367MB/s]"
      }
     },
     "5c94d635835747828b95d0bcd06a55fd": {
      "model_module": "@jupyter-widgets/controls",
      "model_module_version": "1.5.0",
      "model_name": "HTMLModel",
      "state": {
       "_dom_classes": [],
       "_model_module": "@jupyter-widgets/controls",
       "_model_module_version": "1.5.0",
       "_model_name": "HTMLModel",
       "_view_count": null,
       "_view_module": "@jupyter-widgets/controls",
       "_view_module_version": "1.5.0",
       "_view_name": "HTMLView",
       "description": "",
       "description_tooltip": null,
       "layout": "IPY_MODEL_dc1c21ce1d534673a19131054cad3453",
       "placeholder": "​",
       "style": "IPY_MODEL_1c831076f99943a48eeeb325c2d824d5",
       "value": "df_withDescription.parquet: 100%"
      }
     },
     "5f34f43df66749808105c9d9835c040f": {
      "model_module": "@jupyter-widgets/controls",
      "model_module_version": "1.5.0",
      "model_name": "DescriptionStyleModel",
      "state": {
       "_model_module": "@jupyter-widgets/controls",
       "_model_module_version": "1.5.0",
       "_model_name": "DescriptionStyleModel",
       "_view_count": null,
       "_view_module": "@jupyter-widgets/base",
       "_view_module_version": "1.2.0",
       "_view_name": "StyleView",
       "description_width": ""
      }
     },
     "617a489b2676419eb3834f07099bf886": {
      "model_module": "@jupyter-widgets/base",
      "model_module_version": "1.2.0",
      "model_name": "LayoutModel",
      "state": {
       "_model_module": "@jupyter-widgets/base",
       "_model_module_version": "1.2.0",
       "_model_name": "LayoutModel",
       "_view_count": null,
       "_view_module": "@jupyter-widgets/base",
       "_view_module_version": "1.2.0",
       "_view_name": "LayoutView",
       "align_content": null,
       "align_items": null,
       "align_self": null,
       "border": null,
       "bottom": null,
       "display": null,
       "flex": null,
       "flex_flow": null,
       "grid_area": null,
       "grid_auto_columns": null,
       "grid_auto_flow": null,
       "grid_auto_rows": null,
       "grid_column": null,
       "grid_gap": null,
       "grid_row": null,
       "grid_template_areas": null,
       "grid_template_columns": null,
       "grid_template_rows": null,
       "height": null,
       "justify_content": null,
       "justify_items": null,
       "left": null,
       "margin": null,
       "max_height": null,
       "max_width": null,
       "min_height": null,
       "min_width": null,
       "object_fit": null,
       "object_position": null,
       "order": null,
       "overflow": null,
       "overflow_x": null,
       "overflow_y": null,
       "padding": null,
       "right": null,
       "top": null,
       "visibility": null,
       "width": null
      }
     },
     "61f4510b00f24520bea8c8352186052b": {
      "model_module": "@jupyter-widgets/base",
      "model_module_version": "1.2.0",
      "model_name": "LayoutModel",
      "state": {
       "_model_module": "@jupyter-widgets/base",
       "_model_module_version": "1.2.0",
       "_model_name": "LayoutModel",
       "_view_count": null,
       "_view_module": "@jupyter-widgets/base",
       "_view_module_version": "1.2.0",
       "_view_name": "LayoutView",
       "align_content": null,
       "align_items": null,
       "align_self": null,
       "border": null,
       "bottom": null,
       "display": null,
       "flex": null,
       "flex_flow": null,
       "grid_area": null,
       "grid_auto_columns": null,
       "grid_auto_flow": null,
       "grid_auto_rows": null,
       "grid_column": null,
       "grid_gap": null,
       "grid_row": null,
       "grid_template_areas": null,
       "grid_template_columns": null,
       "grid_template_rows": null,
       "height": null,
       "justify_content": null,
       "justify_items": null,
       "left": null,
       "margin": null,
       "max_height": null,
       "max_width": null,
       "min_height": null,
       "min_width": null,
       "object_fit": null,
       "object_position": null,
       "order": null,
       "overflow": null,
       "overflow_x": null,
       "overflow_y": null,
       "padding": null,
       "right": null,
       "top": null,
       "visibility": null,
       "width": null
      }
     },
     "69c586d2eeee48f79e78eaa1ea329850": {
      "model_module": "@jupyter-widgets/controls",
      "model_module_version": "1.5.0",
      "model_name": "HTMLModel",
      "state": {
       "_dom_classes": [],
       "_model_module": "@jupyter-widgets/controls",
       "_model_module_version": "1.5.0",
       "_model_name": "HTMLModel",
       "_view_count": null,
       "_view_module": "@jupyter-widgets/controls",
       "_view_module_version": "1.5.0",
       "_view_name": "HTMLView",
       "description": "",
       "description_tooltip": null,
       "layout": "IPY_MODEL_bcd47ef314be45d8aad6fc1ab4869ca7",
       "placeholder": "​",
       "style": "IPY_MODEL_1020e8127dec479cbdad44122d333e2b",
       "value": "README.md: 100%"
      }
     },
     "6ac13c38d30d4b36901bce96bfceb9fd": {
      "model_module": "@jupyter-widgets/controls",
      "model_module_version": "1.5.0",
      "model_name": "HTMLModel",
      "state": {
       "_dom_classes": [],
       "_model_module": "@jupyter-widgets/controls",
       "_model_module_version": "1.5.0",
       "_model_name": "HTMLModel",
       "_view_count": null,
       "_view_module": "@jupyter-widgets/controls",
       "_view_module_version": "1.5.0",
       "_view_name": "HTMLView",
       "description": "",
       "description_tooltip": null,
       "layout": "IPY_MODEL_d464e97224d54a3ea7ca384b9463fb2b",
       "placeholder": "​",
       "style": "IPY_MODEL_8d9eee27f44a418a8635bb032eaa36a7",
       "value": "Computing checksums: 100%"
      }
     },
     "6e25570026874d3ab0c98fffaea0ec8c": {
      "model_module": "@jupyter-widgets/controls",
      "model_module_version": "1.5.0",
      "model_name": "DescriptionStyleModel",
      "state": {
       "_model_module": "@jupyter-widgets/controls",
       "_model_module_version": "1.5.0",
       "_model_name": "DescriptionStyleModel",
       "_view_count": null,
       "_view_module": "@jupyter-widgets/base",
       "_view_module_version": "1.2.0",
       "_view_name": "StyleView",
       "description_width": ""
      }
     },
     "7238e1a1a1f648cd8bdfe5f3543ba203": {
      "model_module": "@jupyter-widgets/controls",
      "model_module_version": "1.5.0",
      "model_name": "HTMLModel",
      "state": {
       "_dom_classes": [],
       "_model_module": "@jupyter-widgets/controls",
       "_model_module_version": "1.5.0",
       "_model_name": "HTMLModel",
       "_view_count": null,
       "_view_module": "@jupyter-widgets/controls",
       "_view_module_version": "1.5.0",
       "_view_name": "HTMLView",
       "description": "",
       "description_tooltip": null,
       "layout": "IPY_MODEL_c828fbeed2ee429d8e3e2c8566dbedd9",
       "placeholder": "​",
       "style": "IPY_MODEL_cf6b33e21ffb4853a51b01e35923cbc2",
       "value": " 665/665 [00:00&lt;00:00, 56.2kB/s]"
      }
     },
     "7575cdbbc01249078a51a7fe39cd858b": {
      "model_module": "@jupyter-widgets/controls",
      "model_module_version": "1.5.0",
      "model_name": "HBoxModel",
      "state": {
       "_dom_classes": [],
       "_model_module": "@jupyter-widgets/controls",
       "_model_module_version": "1.5.0",
       "_model_name": "HBoxModel",
       "_view_count": null,
       "_view_module": "@jupyter-widgets/controls",
       "_view_module_version": "1.5.0",
       "_view_name": "HBoxView",
       "box_style": "",
       "children": [
        "IPY_MODEL_1da89e03ba5a4b95a6181c524ee40a39",
        "IPY_MODEL_7a5b8a0566de4b54ae4bfc871d5e6257",
        "IPY_MODEL_210ad71fdd194031a600143d1401a4f4"
       ],
       "layout": "IPY_MODEL_418b495ebba949deab046f4f6e045c6e"
      }
     },
     "76096d846886424a9b485ce2dc0f8da6": {
      "model_module": "@jupyter-widgets/base",
      "model_module_version": "1.2.0",
      "model_name": "LayoutModel",
      "state": {
       "_model_module": "@jupyter-widgets/base",
       "_model_module_version": "1.2.0",
       "_model_name": "LayoutModel",
       "_view_count": null,
       "_view_module": "@jupyter-widgets/base",
       "_view_module_version": "1.2.0",
       "_view_name": "LayoutView",
       "align_content": null,
       "align_items": null,
       "align_self": null,
       "border": null,
       "bottom": null,
       "display": null,
       "flex": null,
       "flex_flow": null,
       "grid_area": null,
       "grid_auto_columns": null,
       "grid_auto_flow": null,
       "grid_auto_rows": null,
       "grid_column": null,
       "grid_gap": null,
       "grid_row": null,
       "grid_template_areas": null,
       "grid_template_columns": null,
       "grid_template_rows": null,
       "height": null,
       "justify_content": null,
       "justify_items": null,
       "left": null,
       "margin": null,
       "max_height": null,
       "max_width": null,
       "min_height": null,
       "min_width": null,
       "object_fit": null,
       "object_position": null,
       "order": null,
       "overflow": null,
       "overflow_x": null,
       "overflow_y": null,
       "padding": null,
       "right": null,
       "top": null,
       "visibility": null,
       "width": null
      }
     },
     "7a5b8a0566de4b54ae4bfc871d5e6257": {
      "model_module": "@jupyter-widgets/controls",
      "model_module_version": "1.5.0",
      "model_name": "FloatProgressModel",
      "state": {
       "_dom_classes": [],
       "_model_module": "@jupyter-widgets/controls",
       "_model_module_version": "1.5.0",
       "_model_name": "FloatProgressModel",
       "_view_count": null,
       "_view_module": "@jupyter-widgets/controls",
       "_view_module_version": "1.5.0",
       "_view_name": "ProgressView",
       "bar_style": "success",
       "description": "",
       "description_tooltip": null,
       "layout": "IPY_MODEL_58c937d7cf5d483d9634dd5459e03758",
       "max": 456318.0,
       "min": 0.0,
       "orientation": "horizontal",
       "style": "IPY_MODEL_02e539f7dd404795a960ac784867ddab",
       "value": 456318.0
      }
     },
     "7a77b96338c947adacaccfd80e9bfe01": {
      "model_module": "@jupyter-widgets/base",
      "model_module_version": "1.2.0",
      "model_name": "LayoutModel",
      "state": {
       "_model_module": "@jupyter-widgets/base",
       "_model_module_version": "1.2.0",
       "_model_name": "LayoutModel",
       "_view_count": null,
       "_view_module": "@jupyter-widgets/base",
       "_view_module_version": "1.2.0",
       "_view_name": "LayoutView",
       "align_content": null,
       "align_items": null,
       "align_self": null,
       "border": null,
       "bottom": null,
       "display": null,
       "flex": null,
       "flex_flow": null,
       "grid_area": null,
       "grid_auto_columns": null,
       "grid_auto_flow": null,
       "grid_auto_rows": null,
       "grid_column": null,
       "grid_gap": null,
       "grid_row": null,
       "grid_template_areas": null,
       "grid_template_columns": null,
       "grid_template_rows": null,
       "height": null,
       "justify_content": null,
       "justify_items": null,
       "left": null,
       "margin": null,
       "max_height": null,
       "max_width": null,
       "min_height": null,
       "min_width": null,
       "object_fit": null,
       "object_position": null,
       "order": null,
       "overflow": null,
       "overflow_x": null,
       "overflow_y": null,
       "padding": null,
       "right": null,
       "top": null,
       "visibility": null,
       "width": null
      }
     },
     "7b2eadbb1b1a4d6a808a0af54bd7e226": {
      "model_module": "@jupyter-widgets/controls",
      "model_module_version": "1.5.0",
      "model_name": "HBoxModel",
      "state": {
       "_dom_classes": [],
       "_model_module": "@jupyter-widgets/controls",
       "_model_module_version": "1.5.0",
       "_model_name": "HBoxModel",
       "_view_count": null,
       "_view_module": "@jupyter-widgets/controls",
       "_view_module_version": "1.5.0",
       "_view_name": "HBoxView",
       "box_style": "",
       "children": [
        "IPY_MODEL_0aa6b114125a44e48b05675e6d8d2ab3",
        "IPY_MODEL_0a4dee3e30fb4dfb87f20843a2718f21",
        "IPY_MODEL_e9d45aa2a93c4c38be2f8aa7074021a8"
       ],
       "layout": "IPY_MODEL_f102b82aa84a47c08fc026e090824fe3"
      }
     },
     "7cb21b70068b4279808f47ac98cf6a5d": {
      "model_module": "@jupyter-widgets/controls",
      "model_module_version": "1.5.0",
      "model_name": "HBoxModel",
      "state": {
       "_dom_classes": [],
       "_model_module": "@jupyter-widgets/controls",
       "_model_module_version": "1.5.0",
       "_model_name": "HBoxModel",
       "_view_count": null,
       "_view_module": "@jupyter-widgets/controls",
       "_view_module_version": "1.5.0",
       "_view_name": "HBoxView",
       "box_style": "",
       "children": [
        "IPY_MODEL_69c586d2eeee48f79e78eaa1ea329850",
        "IPY_MODEL_48fed751f48e468180a3f71994eb0bb4",
        "IPY_MODEL_ea82d1068e564467826e1271723f6a8c"
       ],
       "layout": "IPY_MODEL_ad373e7cf76a47639db955f53858b437"
      }
     },
     "87a8f21d651a48d498776859dfc1cf15": {
      "model_module": "@jupyter-widgets/base",
      "model_module_version": "1.2.0",
      "model_name": "LayoutModel",
      "state": {
       "_model_module": "@jupyter-widgets/base",
       "_model_module_version": "1.2.0",
       "_model_name": "LayoutModel",
       "_view_count": null,
       "_view_module": "@jupyter-widgets/base",
       "_view_module_version": "1.2.0",
       "_view_name": "LayoutView",
       "align_content": null,
       "align_items": null,
       "align_self": null,
       "border": null,
       "bottom": null,
       "display": null,
       "flex": null,
       "flex_flow": null,
       "grid_area": null,
       "grid_auto_columns": null,
       "grid_auto_flow": null,
       "grid_auto_rows": null,
       "grid_column": null,
       "grid_gap": null,
       "grid_row": null,
       "grid_template_areas": null,
       "grid_template_columns": null,
       "grid_template_rows": null,
       "height": null,
       "justify_content": null,
       "justify_items": null,
       "left": null,
       "margin": null,
       "max_height": null,
       "max_width": null,
       "min_height": null,
       "min_width": null,
       "object_fit": null,
       "object_position": null,
       "order": null,
       "overflow": null,
       "overflow_x": null,
       "overflow_y": null,
       "padding": null,
       "right": null,
       "top": null,
       "visibility": null,
       "width": null
      }
     },
     "8c05e3aa4b174c04ab45904d0e016bcb": {
      "model_module": "@jupyter-widgets/controls",
      "model_module_version": "1.5.0",
      "model_name": "HBoxModel",
      "state": {
       "_dom_classes": [],
       "_model_module": "@jupyter-widgets/controls",
       "_model_module_version": "1.5.0",
       "_model_name": "HBoxModel",
       "_view_count": null,
       "_view_module": "@jupyter-widgets/controls",
       "_view_module_version": "1.5.0",
       "_view_name": "HBoxView",
       "box_style": "",
       "children": [
        "IPY_MODEL_13e363dfbc2640aca691c506d1b7353b",
        "IPY_MODEL_c288ce09e45445ef80d89eb49b053c7d",
        "IPY_MODEL_7238e1a1a1f648cd8bdfe5f3543ba203"
       ],
       "layout": "IPY_MODEL_00c8b9fc5bea481ba431a241b8a80825"
      }
     },
     "8d722258c11243d2a315e9b2ba56ba21": {
      "model_module": "@jupyter-widgets/controls",
      "model_module_version": "1.5.0",
      "model_name": "HTMLModel",
      "state": {
       "_dom_classes": [],
       "_model_module": "@jupyter-widgets/controls",
       "_model_module_version": "1.5.0",
       "_model_name": "HTMLModel",
       "_view_count": null,
       "_view_module": "@jupyter-widgets/controls",
       "_view_module_version": "1.5.0",
       "_view_name": "HTMLView",
       "description": "",
       "description_tooltip": null,
       "layout": "IPY_MODEL_53361d7201d24554a15bd7a4c6dccde0",
       "placeholder": "​",
       "style": "IPY_MODEL_f7e2f4ed5ae54d6891cc3f0151651cdf",
       "value": " 1.36M/1.36M [00:00&lt;00:00, 9.95MB/s]"
      }
     },
     "8d9eee27f44a418a8635bb032eaa36a7": {
      "model_module": "@jupyter-widgets/controls",
      "model_module_version": "1.5.0",
      "model_name": "DescriptionStyleModel",
      "state": {
       "_model_module": "@jupyter-widgets/controls",
       "_model_module_version": "1.5.0",
       "_model_name": "DescriptionStyleModel",
       "_view_count": null,
       "_view_module": "@jupyter-widgets/base",
       "_view_module_version": "1.2.0",
       "_view_name": "StyleView",
       "description_width": ""
      }
     },
     "91e4f03f311c432798edf22275eac079": {
      "model_module": "@jupyter-widgets/base",
      "model_module_version": "1.2.0",
      "model_name": "LayoutModel",
      "state": {
       "_model_module": "@jupyter-widgets/base",
       "_model_module_version": "1.2.0",
       "_model_name": "LayoutModel",
       "_view_count": null,
       "_view_module": "@jupyter-widgets/base",
       "_view_module_version": "1.2.0",
       "_view_name": "LayoutView",
       "align_content": null,
       "align_items": null,
       "align_self": null,
       "border": null,
       "bottom": null,
       "display": null,
       "flex": null,
       "flex_flow": null,
       "grid_area": null,
       "grid_auto_columns": null,
       "grid_auto_flow": null,
       "grid_auto_rows": null,
       "grid_column": null,
       "grid_gap": null,
       "grid_row": null,
       "grid_template_areas": null,
       "grid_template_columns": null,
       "grid_template_rows": null,
       "height": null,
       "justify_content": null,
       "justify_items": null,
       "left": null,
       "margin": null,
       "max_height": null,
       "max_width": null,
       "min_height": null,
       "min_width": null,
       "object_fit": null,
       "object_position": null,
       "order": null,
       "overflow": null,
       "overflow_x": null,
       "overflow_y": null,
       "padding": null,
       "right": null,
       "top": null,
       "visibility": null,
       "width": null
      }
     },
     "975e63d784314169b08d2fa002914246": {
      "model_module": "@jupyter-widgets/controls",
      "model_module_version": "1.5.0",
      "model_name": "HBoxModel",
      "state": {
       "_dom_classes": [],
       "_model_module": "@jupyter-widgets/controls",
       "_model_module_version": "1.5.0",
       "_model_name": "HBoxModel",
       "_view_count": null,
       "_view_module": "@jupyter-widgets/controls",
       "_view_module_version": "1.5.0",
       "_view_name": "HBoxView",
       "box_style": "",
       "children": [
        "IPY_MODEL_ba5d18cbaac34296bceec79a42e057d7",
        "IPY_MODEL_a96070d03fff472896e6fb64f751ab38",
        "IPY_MODEL_5b7849c9b728479085563bf3479f17d5"
       ],
       "layout": "IPY_MODEL_0c9d23780a97485a888b42feaa3e4f77"
      }
     },
     "9b58ad408b194565807012d4d4f288f0": {
      "model_module": "@jupyter-widgets/controls",
      "model_module_version": "1.5.0",
      "model_name": "DescriptionStyleModel",
      "state": {
       "_model_module": "@jupyter-widgets/controls",
       "_model_module_version": "1.5.0",
       "_model_name": "DescriptionStyleModel",
       "_view_count": null,
       "_view_module": "@jupyter-widgets/base",
       "_view_module_version": "1.2.0",
       "_view_name": "StyleView",
       "description_width": ""
      }
     },
     "9e1ca3521c7d448c9ad7f463ce4f181c": {
      "model_module": "@jupyter-widgets/controls",
      "model_module_version": "1.5.0",
      "model_name": "HTMLModel",
      "state": {
       "_dom_classes": [],
       "_model_module": "@jupyter-widgets/controls",
       "_model_module_version": "1.5.0",
       "_model_name": "HTMLModel",
       "_view_count": null,
       "_view_module": "@jupyter-widgets/controls",
       "_view_module_version": "1.5.0",
       "_view_name": "HTMLView",
       "description": "",
       "description_tooltip": null,
       "layout": "IPY_MODEL_4171bca16bd849ccbc1d4e28e367c366",
       "placeholder": "​",
       "style": "IPY_MODEL_e9cfcc20616947e79cdaf4c2c52c812f",
       "value": "Generating train split: "
      }
     },
     "a1c50a47fff54b78849739d86599cd63": {
      "model_module": "@jupyter-widgets/base",
      "model_module_version": "1.2.0",
      "model_name": "LayoutModel",
      "state": {
       "_model_module": "@jupyter-widgets/base",
       "_model_module_version": "1.2.0",
       "_model_name": "LayoutModel",
       "_view_count": null,
       "_view_module": "@jupyter-widgets/base",
       "_view_module_version": "1.2.0",
       "_view_name": "LayoutView",
       "align_content": null,
       "align_items": null,
       "align_self": null,
       "border": null,
       "bottom": null,
       "display": null,
       "flex": null,
       "flex_flow": null,
       "grid_area": null,
       "grid_auto_columns": null,
       "grid_auto_flow": null,
       "grid_auto_rows": null,
       "grid_column": null,
       "grid_gap": null,
       "grid_row": null,
       "grid_template_areas": null,
       "grid_template_columns": null,
       "grid_template_rows": null,
       "height": null,
       "justify_content": null,
       "justify_items": null,
       "left": null,
       "margin": null,
       "max_height": null,
       "max_width": null,
       "min_height": null,
       "min_width": null,
       "object_fit": null,
       "object_position": null,
       "order": null,
       "overflow": null,
       "overflow_x": null,
       "overflow_y": null,
       "padding": null,
       "right": null,
       "top": null,
       "visibility": null,
       "width": "20px"
      }
     },
     "a1d18c2620c4428ab5d8e3c7549a5830": {
      "model_module": "@jupyter-widgets/controls",
      "model_module_version": "1.5.0",
      "model_name": "DescriptionStyleModel",
      "state": {
       "_model_module": "@jupyter-widgets/controls",
       "_model_module_version": "1.5.0",
       "_model_name": "DescriptionStyleModel",
       "_view_count": null,
       "_view_module": "@jupyter-widgets/base",
       "_view_module_version": "1.2.0",
       "_view_name": "StyleView",
       "description_width": ""
      }
     },
     "a29bf300ee2f412f857c8faa571e4f7e": {
      "model_module": "@jupyter-widgets/controls",
      "model_module_version": "1.5.0",
      "model_name": "FloatProgressModel",
      "state": {
       "_dom_classes": [],
       "_model_module": "@jupyter-widgets/controls",
       "_model_module_version": "1.5.0",
       "_model_name": "FloatProgressModel",
       "_view_count": null,
       "_view_module": "@jupyter-widgets/controls",
       "_view_module_version": "1.5.0",
       "_view_name": "ProgressView",
       "bar_style": "success",
       "description": "",
       "description_tooltip": null,
       "layout": "IPY_MODEL_a1c50a47fff54b78849739d86599cd63",
       "max": 1.0,
       "min": 0.0,
       "orientation": "horizontal",
       "style": "IPY_MODEL_397e13eb99f649e09adb48bd0de6fc6f",
       "value": 1.0
      }
     },
     "a50677a96f3641cc97ecaadf90624788": {
      "model_module": "@jupyter-widgets/base",
      "model_module_version": "1.2.0",
      "model_name": "LayoutModel",
      "state": {
       "_model_module": "@jupyter-widgets/base",
       "_model_module_version": "1.2.0",
       "_model_name": "LayoutModel",
       "_view_count": null,
       "_view_module": "@jupyter-widgets/base",
       "_view_module_version": "1.2.0",
       "_view_name": "LayoutView",
       "align_content": null,
       "align_items": null,
       "align_self": null,
       "border": null,
       "bottom": null,
       "display": null,
       "flex": null,
       "flex_flow": null,
       "grid_area": null,
       "grid_auto_columns": null,
       "grid_auto_flow": null,
       "grid_auto_rows": null,
       "grid_column": null,
       "grid_gap": null,
       "grid_row": null,
       "grid_template_areas": null,
       "grid_template_columns": null,
       "grid_template_rows": null,
       "height": null,
       "justify_content": null,
       "justify_items": null,
       "left": null,
       "margin": null,
       "max_height": null,
       "max_width": null,
       "min_height": null,
       "min_width": null,
       "object_fit": null,
       "object_position": null,
       "order": null,
       "overflow": null,
       "overflow_x": null,
       "overflow_y": null,
       "padding": null,
       "right": null,
       "top": null,
       "visibility": null,
       "width": null
      }
     },
     "a96070d03fff472896e6fb64f751ab38": {
      "model_module": "@jupyter-widgets/controls",
      "model_module_version": "1.5.0",
      "model_name": "FloatProgressModel",
      "state": {
       "_dom_classes": [],
       "_model_module": "@jupyter-widgets/controls",
       "_model_module_version": "1.5.0",
       "_model_name": "FloatProgressModel",
       "_view_count": null,
       "_view_module": "@jupyter-widgets/controls",
       "_view_module_version": "1.5.0",
       "_view_name": "ProgressView",
       "bar_style": "success",
       "description": "",
       "description_tooltip": null,
       "layout": "IPY_MODEL_617a489b2676419eb3834f07099bf886",
       "max": 6769092597.0,
       "min": 0.0,
       "orientation": "horizontal",
       "style": "IPY_MODEL_3808f428c3d24770aea82724d0922155",
       "value": 6769092597.0
      }
     },
     "acad0ddf201144e0b81179d186af100e": {
      "model_module": "@jupyter-widgets/base",
      "model_module_version": "1.2.0",
      "model_name": "LayoutModel",
      "state": {
       "_model_module": "@jupyter-widgets/base",
       "_model_module_version": "1.2.0",
       "_model_name": "LayoutModel",
       "_view_count": null,
       "_view_module": "@jupyter-widgets/base",
       "_view_module_version": "1.2.0",
       "_view_name": "LayoutView",
       "align_content": null,
       "align_items": null,
       "align_self": null,
       "border": null,
       "bottom": null,
       "display": null,
       "flex": null,
       "flex_flow": null,
       "grid_area": null,
       "grid_auto_columns": null,
       "grid_auto_flow": null,
       "grid_auto_rows": null,
       "grid_column": null,
       "grid_gap": null,
       "grid_row": null,
       "grid_template_areas": null,
       "grid_template_columns": null,
       "grid_template_rows": null,
       "height": null,
       "justify_content": null,
       "justify_items": null,
       "left": null,
       "margin": null,
       "max_height": null,
       "max_width": null,
       "min_height": null,
       "min_width": null,
       "object_fit": null,
       "object_position": null,
       "order": null,
       "overflow": null,
       "overflow_x": null,
       "overflow_y": null,
       "padding": null,
       "right": null,
       "top": null,
       "visibility": null,
       "width": null
      }
     },
     "ad373e7cf76a47639db955f53858b437": {
      "model_module": "@jupyter-widgets/base",
      "model_module_version": "1.2.0",
      "model_name": "LayoutModel",
      "state": {
       "_model_module": "@jupyter-widgets/base",
       "_model_module_version": "1.2.0",
       "_model_name": "LayoutModel",
       "_view_count": null,
       "_view_module": "@jupyter-widgets/base",
       "_view_module_version": "1.2.0",
       "_view_name": "LayoutView",
       "align_content": null,
       "align_items": null,
       "align_self": null,
       "border": null,
       "bottom": null,
       "display": null,
       "flex": null,
       "flex_flow": null,
       "grid_area": null,
       "grid_auto_columns": null,
       "grid_auto_flow": null,
       "grid_auto_rows": null,
       "grid_column": null,
       "grid_gap": null,
       "grid_row": null,
       "grid_template_areas": null,
       "grid_template_columns": null,
       "grid_template_rows": null,
       "height": null,
       "justify_content": null,
       "justify_items": null,
       "left": null,
       "margin": null,
       "max_height": null,
       "max_width": null,
       "min_height": null,
       "min_width": null,
       "object_fit": null,
       "object_position": null,
       "order": null,
       "overflow": null,
       "overflow_x": null,
       "overflow_y": null,
       "padding": null,
       "right": null,
       "top": null,
       "visibility": null,
       "width": null
      }
     },
     "ada02e5a716a4081b06a82ad87185291": {
      "model_module": "@jupyter-widgets/base",
      "model_module_version": "1.2.0",
      "model_name": "LayoutModel",
      "state": {
       "_model_module": "@jupyter-widgets/base",
       "_model_module_version": "1.2.0",
       "_model_name": "LayoutModel",
       "_view_count": null,
       "_view_module": "@jupyter-widgets/base",
       "_view_module_version": "1.2.0",
       "_view_name": "LayoutView",
       "align_content": null,
       "align_items": null,
       "align_self": null,
       "border": null,
       "bottom": null,
       "display": null,
       "flex": null,
       "flex_flow": null,
       "grid_area": null,
       "grid_auto_columns": null,
       "grid_auto_flow": null,
       "grid_auto_rows": null,
       "grid_column": null,
       "grid_gap": null,
       "grid_row": null,
       "grid_template_areas": null,
       "grid_template_columns": null,
       "grid_template_rows": null,
       "height": null,
       "justify_content": null,
       "justify_items": null,
       "left": null,
       "margin": null,
       "max_height": null,
       "max_width": null,
       "min_height": null,
       "min_width": null,
       "object_fit": null,
       "object_position": null,
       "order": null,
       "overflow": null,
       "overflow_x": null,
       "overflow_y": null,
       "padding": null,
       "right": null,
       "top": null,
       "visibility": null,
       "width": null
      }
     },
     "b01ae575646a48b6a2917010bccc9dce": {
      "model_module": "@jupyter-widgets/controls",
      "model_module_version": "1.5.0",
      "model_name": "ProgressStyleModel",
      "state": {
       "_model_module": "@jupyter-widgets/controls",
       "_model_module_version": "1.5.0",
       "_model_name": "ProgressStyleModel",
       "_view_count": null,
       "_view_module": "@jupyter-widgets/base",
       "_view_module_version": "1.2.0",
       "_view_name": "StyleView",
       "bar_color": null,
       "description_width": ""
      }
     },
     "b2c51c2a9d4a47f5bee906784ff84218": {
      "model_module": "@jupyter-widgets/controls",
      "model_module_version": "1.5.0",
      "model_name": "HBoxModel",
      "state": {
       "_dom_classes": [],
       "_model_module": "@jupyter-widgets/controls",
       "_model_module_version": "1.5.0",
       "_model_name": "HBoxModel",
       "_view_count": null,
       "_view_module": "@jupyter-widgets/controls",
       "_view_module_version": "1.5.0",
       "_view_name": "HBoxView",
       "box_style": "",
       "children": [
        "IPY_MODEL_6ac13c38d30d4b36901bce96bfceb9fd",
        "IPY_MODEL_3ae98dd9e1c4478f901a2e51ee6f2968",
        "IPY_MODEL_c91df0492a3a4529b1c10451226850f0"
       ],
       "layout": "IPY_MODEL_ada02e5a716a4081b06a82ad87185291"
      }
     },
     "b4779ffd0ae04ffaae2aacebbbd22925": {
      "model_module": "@jupyter-widgets/controls",
      "model_module_version": "1.5.0",
      "model_name": "HBoxModel",
      "state": {
       "_dom_classes": [],
       "_model_module": "@jupyter-widgets/controls",
       "_model_module_version": "1.5.0",
       "_model_name": "HBoxModel",
       "_view_count": null,
       "_view_module": "@jupyter-widgets/controls",
       "_view_module_version": "1.5.0",
       "_view_name": "HBoxView",
       "box_style": "",
       "children": [
        "IPY_MODEL_05cb54c40c7941ad94760f41996238ed",
        "IPY_MODEL_f8d47dd380194d40a682a58593fda269",
        "IPY_MODEL_8d722258c11243d2a315e9b2ba56ba21"
       ],
       "layout": "IPY_MODEL_76096d846886424a9b485ce2dc0f8da6"
      }
     },
     "b4ab9b156b134bbaadeef51aec53ee2a": {
      "model_module": "@jupyter-widgets/base",
      "model_module_version": "1.2.0",
      "model_name": "LayoutModel",
      "state": {
       "_model_module": "@jupyter-widgets/base",
       "_model_module_version": "1.2.0",
       "_model_name": "LayoutModel",
       "_view_count": null,
       "_view_module": "@jupyter-widgets/base",
       "_view_module_version": "1.2.0",
       "_view_name": "LayoutView",
       "align_content": null,
       "align_items": null,
       "align_self": null,
       "border": null,
       "bottom": null,
       "display": null,
       "flex": null,
       "flex_flow": null,
       "grid_area": null,
       "grid_auto_columns": null,
       "grid_auto_flow": null,
       "grid_auto_rows": null,
       "grid_column": null,
       "grid_gap": null,
       "grid_row": null,
       "grid_template_areas": null,
       "grid_template_columns": null,
       "grid_template_rows": null,
       "height": null,
       "justify_content": null,
       "justify_items": null,
       "left": null,
       "margin": null,
       "max_height": null,
       "max_width": null,
       "min_height": null,
       "min_width": null,
       "object_fit": null,
       "object_position": null,
       "order": null,
       "overflow": null,
       "overflow_x": null,
       "overflow_y": null,
       "padding": null,
       "right": null,
       "top": null,
       "visibility": null,
       "width": null
      }
     },
     "ba5d18cbaac34296bceec79a42e057d7": {
      "model_module": "@jupyter-widgets/controls",
      "model_module_version": "1.5.0",
      "model_name": "HTMLModel",
      "state": {
       "_dom_classes": [],
       "_model_module": "@jupyter-widgets/controls",
       "_model_module_version": "1.5.0",
       "_model_name": "HTMLModel",
       "_view_count": null,
       "_view_module": "@jupyter-widgets/controls",
       "_view_module_version": "1.5.0",
       "_view_name": "HTMLView",
       "description": "",
       "description_tooltip": null,
       "layout": "IPY_MODEL_dde4e7a47c3443b58df0b46a787ce100",
       "placeholder": "​",
       "style": "IPY_MODEL_9b58ad408b194565807012d4d4f288f0",
       "value": "df_withoutDescription.parquet: 100%"
      }
     },
     "bb1b65dc7a494f23be89021d5f6e46e9": {
      "model_module": "@jupyter-widgets/base",
      "model_module_version": "1.2.0",
      "model_name": "LayoutModel",
      "state": {
       "_model_module": "@jupyter-widgets/base",
       "_model_module_version": "1.2.0",
       "_model_name": "LayoutModel",
       "_view_count": null,
       "_view_module": "@jupyter-widgets/base",
       "_view_module_version": "1.2.0",
       "_view_name": "LayoutView",
       "align_content": null,
       "align_items": null,
       "align_self": null,
       "border": null,
       "bottom": null,
       "display": null,
       "flex": null,
       "flex_flow": null,
       "grid_area": null,
       "grid_auto_columns": null,
       "grid_auto_flow": null,
       "grid_auto_rows": null,
       "grid_column": null,
       "grid_gap": null,
       "grid_row": null,
       "grid_template_areas": null,
       "grid_template_columns": null,
       "grid_template_rows": null,
       "height": null,
       "justify_content": null,
       "justify_items": null,
       "left": null,
       "margin": null,
       "max_height": null,
       "max_width": null,
       "min_height": null,
       "min_width": null,
       "object_fit": null,
       "object_position": null,
       "order": null,
       "overflow": null,
       "overflow_x": null,
       "overflow_y": null,
       "padding": null,
       "right": null,
       "top": null,
       "visibility": null,
       "width": null
      }
     },
     "bc043a976c9c409b88911655e6a4c03e": {
      "model_module": "@jupyter-widgets/controls",
      "model_module_version": "1.5.0",
      "model_name": "DescriptionStyleModel",
      "state": {
       "_model_module": "@jupyter-widgets/controls",
       "_model_module_version": "1.5.0",
       "_model_name": "DescriptionStyleModel",
       "_view_count": null,
       "_view_module": "@jupyter-widgets/base",
       "_view_module_version": "1.2.0",
       "_view_name": "StyleView",
       "description_width": ""
      }
     },
     "bc3666e401b9405ebe44301fe34a8c79": {
      "model_module": "@jupyter-widgets/controls",
      "model_module_version": "1.5.0",
      "model_name": "HBoxModel",
      "state": {
       "_dom_classes": [],
       "_model_module": "@jupyter-widgets/controls",
       "_model_module_version": "1.5.0",
       "_model_name": "HBoxModel",
       "_view_count": null,
       "_view_module": "@jupyter-widgets/controls",
       "_view_module_version": "1.5.0",
       "_view_name": "HBoxView",
       "box_style": "",
       "children": [
        "IPY_MODEL_0a86a556d17d49359a6fc463e8edea3f",
        "IPY_MODEL_e5b8fa7fc82d4936934c1c54f35999d5",
        "IPY_MODEL_47f9a6bee6f1466e934630604099134e"
       ],
       "layout": "IPY_MODEL_b4ab9b156b134bbaadeef51aec53ee2a"
      }
     },
     "bcd47ef314be45d8aad6fc1ab4869ca7": {
      "model_module": "@jupyter-widgets/base",
      "model_module_version": "1.2.0",
      "model_name": "LayoutModel",
      "state": {
       "_model_module": "@jupyter-widgets/base",
       "_model_module_version": "1.2.0",
       "_model_name": "LayoutModel",
       "_view_count": null,
       "_view_module": "@jupyter-widgets/base",
       "_view_module_version": "1.2.0",
       "_view_name": "LayoutView",
       "align_content": null,
       "align_items": null,
       "align_self": null,
       "border": null,
       "bottom": null,
       "display": null,
       "flex": null,
       "flex_flow": null,
       "grid_area": null,
       "grid_auto_columns": null,
       "grid_auto_flow": null,
       "grid_auto_rows": null,
       "grid_column": null,
       "grid_gap": null,
       "grid_row": null,
       "grid_template_areas": null,
       "grid_template_columns": null,
       "grid_template_rows": null,
       "height": null,
       "justify_content": null,
       "justify_items": null,
       "left": null,
       "margin": null,
       "max_height": null,
       "max_width": null,
       "min_height": null,
       "min_width": null,
       "object_fit": null,
       "object_position": null,
       "order": null,
       "overflow": null,
       "overflow_x": null,
       "overflow_y": null,
       "padding": null,
       "right": null,
       "top": null,
       "visibility": null,
       "width": null
      }
     },
     "c288ce09e45445ef80d89eb49b053c7d": {
      "model_module": "@jupyter-widgets/controls",
      "model_module_version": "1.5.0",
      "model_name": "FloatProgressModel",
      "state": {
       "_dom_classes": [],
       "_model_module": "@jupyter-widgets/controls",
       "_model_module_version": "1.5.0",
       "_model_name": "FloatProgressModel",
       "_view_count": null,
       "_view_module": "@jupyter-widgets/controls",
       "_view_module_version": "1.5.0",
       "_view_name": "ProgressView",
       "bar_style": "success",
       "description": "",
       "description_tooltip": null,
       "layout": "IPY_MODEL_61f4510b00f24520bea8c8352186052b",
       "max": 665.0,
       "min": 0.0,
       "orientation": "horizontal",
       "style": "IPY_MODEL_b01ae575646a48b6a2917010bccc9dce",
       "value": 665.0
      }
     },
     "c2dcf0b892734058b6c79f4c536a9885": {
      "model_module": "@jupyter-widgets/controls",
      "model_module_version": "1.5.0",
      "model_name": "DescriptionStyleModel",
      "state": {
       "_model_module": "@jupyter-widgets/controls",
       "_model_module_version": "1.5.0",
       "_model_name": "DescriptionStyleModel",
       "_view_count": null,
       "_view_module": "@jupyter-widgets/base",
       "_view_module_version": "1.2.0",
       "_view_name": "StyleView",
       "description_width": ""
      }
     },
     "c52beb209e1f4cad8c265626b99eead4": {
      "model_module": "@jupyter-widgets/base",
      "model_module_version": "1.2.0",
      "model_name": "LayoutModel",
      "state": {
       "_model_module": "@jupyter-widgets/base",
       "_model_module_version": "1.2.0",
       "_model_name": "LayoutModel",
       "_view_count": null,
       "_view_module": "@jupyter-widgets/base",
       "_view_module_version": "1.2.0",
       "_view_name": "LayoutView",
       "align_content": null,
       "align_items": null,
       "align_self": null,
       "border": null,
       "bottom": null,
       "display": null,
       "flex": null,
       "flex_flow": null,
       "grid_area": null,
       "grid_auto_columns": null,
       "grid_auto_flow": null,
       "grid_auto_rows": null,
       "grid_column": null,
       "grid_gap": null,
       "grid_row": null,
       "grid_template_areas": null,
       "grid_template_columns": null,
       "grid_template_rows": null,
       "height": null,
       "justify_content": null,
       "justify_items": null,
       "left": null,
       "margin": null,
       "max_height": null,
       "max_width": null,
       "min_height": null,
       "min_width": null,
       "object_fit": null,
       "object_position": null,
       "order": null,
       "overflow": null,
       "overflow_x": null,
       "overflow_y": null,
       "padding": null,
       "right": null,
       "top": null,
       "visibility": null,
       "width": null
      }
     },
     "c595f24c9a084333a47e493de0a75b61": {
      "model_module": "@jupyter-widgets/controls",
      "model_module_version": "1.5.0",
      "model_name": "DescriptionStyleModel",
      "state": {
       "_model_module": "@jupyter-widgets/controls",
       "_model_module_version": "1.5.0",
       "_model_name": "DescriptionStyleModel",
       "_view_count": null,
       "_view_module": "@jupyter-widgets/base",
       "_view_module_version": "1.2.0",
       "_view_name": "StyleView",
       "description_width": ""
      }
     },
     "c828fbeed2ee429d8e3e2c8566dbedd9": {
      "model_module": "@jupyter-widgets/base",
      "model_module_version": "1.2.0",
      "model_name": "LayoutModel",
      "state": {
       "_model_module": "@jupyter-widgets/base",
       "_model_module_version": "1.2.0",
       "_model_name": "LayoutModel",
       "_view_count": null,
       "_view_module": "@jupyter-widgets/base",
       "_view_module_version": "1.2.0",
       "_view_name": "LayoutView",
       "align_content": null,
       "align_items": null,
       "align_self": null,
       "border": null,
       "bottom": null,
       "display": null,
       "flex": null,
       "flex_flow": null,
       "grid_area": null,
       "grid_auto_columns": null,
       "grid_auto_flow": null,
       "grid_auto_rows": null,
       "grid_column": null,
       "grid_gap": null,
       "grid_row": null,
       "grid_template_areas": null,
       "grid_template_columns": null,
       "grid_template_rows": null,
       "height": null,
       "justify_content": null,
       "justify_items": null,
       "left": null,
       "margin": null,
       "max_height": null,
       "max_width": null,
       "min_height": null,
       "min_width": null,
       "object_fit": null,
       "object_position": null,
       "order": null,
       "overflow": null,
       "overflow_x": null,
       "overflow_y": null,
       "padding": null,
       "right": null,
       "top": null,
       "visibility": null,
       "width": null
      }
     },
     "c83bd8b32a9d4798be4e0867ed4225aa": {
      "model_module": "@jupyter-widgets/controls",
      "model_module_version": "1.5.0",
      "model_name": "HTMLModel",
      "state": {
       "_dom_classes": [],
       "_model_module": "@jupyter-widgets/controls",
       "_model_module_version": "1.5.0",
       "_model_name": "HTMLModel",
       "_view_count": null,
       "_view_module": "@jupyter-widgets/controls",
       "_view_module_version": "1.5.0",
       "_view_name": "HTMLView",
       "description": "",
       "description_tooltip": null,
       "layout": "IPY_MODEL_53a25165ed15456e8a7b1ee1bd0fafe3",
       "placeholder": "​",
       "style": "IPY_MODEL_c595f24c9a084333a47e493de0a75b61",
       "value": " 7750007/0 [04:24&lt;00:00, 62819.93 examples/s]"
      }
     },
     "c91df0492a3a4529b1c10451226850f0": {
      "model_module": "@jupyter-widgets/controls",
      "model_module_version": "1.5.0",
      "model_name": "HTMLModel",
      "state": {
       "_dom_classes": [],
       "_model_module": "@jupyter-widgets/controls",
       "_model_module_version": "1.5.0",
       "_model_name": "HTMLModel",
       "_view_count": null,
       "_view_module": "@jupyter-widgets/controls",
       "_view_module_version": "1.5.0",
       "_view_name": "HTMLView",
       "description": "",
       "description_tooltip": null,
       "layout": "IPY_MODEL_5a39ca60d15f4971bece9de1e49082f6",
       "placeholder": "​",
       "style": "IPY_MODEL_5f34f43df66749808105c9d9835c040f",
       "value": " 2/2 [00:00&lt;00:00, 195.36it/s]"
      }
     },
     "cbe1e492ae774d09b817cec256d313e7": {
      "model_module": "@jupyter-widgets/base",
      "model_module_version": "1.2.0",
      "model_name": "LayoutModel",
      "state": {
       "_model_module": "@jupyter-widgets/base",
       "_model_module_version": "1.2.0",
       "_model_name": "LayoutModel",
       "_view_count": null,
       "_view_module": "@jupyter-widgets/base",
       "_view_module_version": "1.2.0",
       "_view_name": "LayoutView",
       "align_content": null,
       "align_items": null,
       "align_self": null,
       "border": null,
       "bottom": null,
       "display": null,
       "flex": null,
       "flex_flow": null,
       "grid_area": null,
       "grid_auto_columns": null,
       "grid_auto_flow": null,
       "grid_auto_rows": null,
       "grid_column": null,
       "grid_gap": null,
       "grid_row": null,
       "grid_template_areas": null,
       "grid_template_columns": null,
       "grid_template_rows": null,
       "height": null,
       "justify_content": null,
       "justify_items": null,
       "left": null,
       "margin": null,
       "max_height": null,
       "max_width": null,
       "min_height": null,
       "min_width": null,
       "object_fit": null,
       "object_position": null,
       "order": null,
       "overflow": null,
       "overflow_x": null,
       "overflow_y": null,
       "padding": null,
       "right": null,
       "top": null,
       "visibility": null,
       "width": null
      }
     },
     "cecfc73cdc9f40a695b992311afafcb5": {
      "model_module": "@jupyter-widgets/controls",
      "model_module_version": "1.5.0",
      "model_name": "ProgressStyleModel",
      "state": {
       "_model_module": "@jupyter-widgets/controls",
       "_model_module_version": "1.5.0",
       "_model_name": "ProgressStyleModel",
       "_view_count": null,
       "_view_module": "@jupyter-widgets/base",
       "_view_module_version": "1.2.0",
       "_view_name": "StyleView",
       "bar_color": null,
       "description_width": ""
      }
     },
     "cf6b33e21ffb4853a51b01e35923cbc2": {
      "model_module": "@jupyter-widgets/controls",
      "model_module_version": "1.5.0",
      "model_name": "DescriptionStyleModel",
      "state": {
       "_model_module": "@jupyter-widgets/controls",
       "_model_module_version": "1.5.0",
       "_model_name": "DescriptionStyleModel",
       "_view_count": null,
       "_view_module": "@jupyter-widgets/base",
       "_view_module_version": "1.2.0",
       "_view_name": "StyleView",
       "description_width": ""
      }
     },
     "d464e97224d54a3ea7ca384b9463fb2b": {
      "model_module": "@jupyter-widgets/base",
      "model_module_version": "1.2.0",
      "model_name": "LayoutModel",
      "state": {
       "_model_module": "@jupyter-widgets/base",
       "_model_module_version": "1.2.0",
       "_model_name": "LayoutModel",
       "_view_count": null,
       "_view_module": "@jupyter-widgets/base",
       "_view_module_version": "1.2.0",
       "_view_name": "LayoutView",
       "align_content": null,
       "align_items": null,
       "align_self": null,
       "border": null,
       "bottom": null,
       "display": null,
       "flex": null,
       "flex_flow": null,
       "grid_area": null,
       "grid_auto_columns": null,
       "grid_auto_flow": null,
       "grid_auto_rows": null,
       "grid_column": null,
       "grid_gap": null,
       "grid_row": null,
       "grid_template_areas": null,
       "grid_template_columns": null,
       "grid_template_rows": null,
       "height": null,
       "justify_content": null,
       "justify_items": null,
       "left": null,
       "margin": null,
       "max_height": null,
       "max_width": null,
       "min_height": null,
       "min_width": null,
       "object_fit": null,
       "object_position": null,
       "order": null,
       "overflow": null,
       "overflow_x": null,
       "overflow_y": null,
       "padding": null,
       "right": null,
       "top": null,
       "visibility": null,
       "width": null
      }
     },
     "dc1c21ce1d534673a19131054cad3453": {
      "model_module": "@jupyter-widgets/base",
      "model_module_version": "1.2.0",
      "model_name": "LayoutModel",
      "state": {
       "_model_module": "@jupyter-widgets/base",
       "_model_module_version": "1.2.0",
       "_model_name": "LayoutModel",
       "_view_count": null,
       "_view_module": "@jupyter-widgets/base",
       "_view_module_version": "1.2.0",
       "_view_name": "LayoutView",
       "align_content": null,
       "align_items": null,
       "align_self": null,
       "border": null,
       "bottom": null,
       "display": null,
       "flex": null,
       "flex_flow": null,
       "grid_area": null,
       "grid_auto_columns": null,
       "grid_auto_flow": null,
       "grid_auto_rows": null,
       "grid_column": null,
       "grid_gap": null,
       "grid_row": null,
       "grid_template_areas": null,
       "grid_template_columns": null,
       "grid_template_rows": null,
       "height": null,
       "justify_content": null,
       "justify_items": null,
       "left": null,
       "margin": null,
       "max_height": null,
       "max_width": null,
       "min_height": null,
       "min_width": null,
       "object_fit": null,
       "object_position": null,
       "order": null,
       "overflow": null,
       "overflow_x": null,
       "overflow_y": null,
       "padding": null,
       "right": null,
       "top": null,
       "visibility": null,
       "width": null
      }
     },
     "dd0c36e642964d82baac8bd27dc940cc": {
      "model_module": "@jupyter-widgets/controls",
      "model_module_version": "1.5.0",
      "model_name": "HBoxModel",
      "state": {
       "_dom_classes": [],
       "_model_module": "@jupyter-widgets/controls",
       "_model_module_version": "1.5.0",
       "_model_name": "HBoxModel",
       "_view_count": null,
       "_view_module": "@jupyter-widgets/controls",
       "_view_module_version": "1.5.0",
       "_view_name": "HBoxView",
       "box_style": "",
       "children": [
        "IPY_MODEL_5c94d635835747828b95d0bcd06a55fd",
        "IPY_MODEL_426fba052c2a4948a2fadf6197051b60",
        "IPY_MODEL_14b8afacfcb34bbdb0e2fa046586a083"
       ],
       "layout": "IPY_MODEL_a50677a96f3641cc97ecaadf90624788"
      }
     },
     "dde4e7a47c3443b58df0b46a787ce100": {
      "model_module": "@jupyter-widgets/base",
      "model_module_version": "1.2.0",
      "model_name": "LayoutModel",
      "state": {
       "_model_module": "@jupyter-widgets/base",
       "_model_module_version": "1.2.0",
       "_model_name": "LayoutModel",
       "_view_count": null,
       "_view_module": "@jupyter-widgets/base",
       "_view_module_version": "1.2.0",
       "_view_name": "LayoutView",
       "align_content": null,
       "align_items": null,
       "align_self": null,
       "border": null,
       "bottom": null,
       "display": null,
       "flex": null,
       "flex_flow": null,
       "grid_area": null,
       "grid_auto_columns": null,
       "grid_auto_flow": null,
       "grid_auto_rows": null,
       "grid_column": null,
       "grid_gap": null,
       "grid_row": null,
       "grid_template_areas": null,
       "grid_template_columns": null,
       "grid_template_rows": null,
       "height": null,
       "justify_content": null,
       "justify_items": null,
       "left": null,
       "margin": null,
       "max_height": null,
       "max_width": null,
       "min_height": null,
       "min_width": null,
       "object_fit": null,
       "object_position": null,
       "order": null,
       "overflow": null,
       "overflow_x": null,
       "overflow_y": null,
       "padding": null,
       "right": null,
       "top": null,
       "visibility": null,
       "width": null
      }
     },
     "e003d2512ec540ce985f34252bf2d5f6": {
      "model_module": "@jupyter-widgets/controls",
      "model_module_version": "1.5.0",
      "model_name": "DescriptionStyleModel",
      "state": {
       "_model_module": "@jupyter-widgets/controls",
       "_model_module_version": "1.5.0",
       "_model_name": "DescriptionStyleModel",
       "_view_count": null,
       "_view_module": "@jupyter-widgets/base",
       "_view_module_version": "1.2.0",
       "_view_name": "StyleView",
       "description_width": ""
      }
     },
     "e0b8b32833fd4cfdaeea91905e15b8b8": {
      "model_module": "@jupyter-widgets/controls",
      "model_module_version": "1.5.0",
      "model_name": "ProgressStyleModel",
      "state": {
       "_model_module": "@jupyter-widgets/controls",
       "_model_module_version": "1.5.0",
       "_model_name": "ProgressStyleModel",
       "_view_count": null,
       "_view_module": "@jupyter-widgets/base",
       "_view_module_version": "1.2.0",
       "_view_name": "StyleView",
       "bar_color": null,
       "description_width": ""
      }
     },
     "e5b8fa7fc82d4936934c1c54f35999d5": {
      "model_module": "@jupyter-widgets/controls",
      "model_module_version": "1.5.0",
      "model_name": "FloatProgressModel",
      "state": {
       "_dom_classes": [],
       "_model_module": "@jupyter-widgets/controls",
       "_model_module_version": "1.5.0",
       "_model_name": "FloatProgressModel",
       "_view_count": null,
       "_view_module": "@jupyter-widgets/controls",
       "_view_module_version": "1.5.0",
       "_view_name": "ProgressView",
       "bar_style": "success",
       "description": "",
       "description_tooltip": null,
       "layout": "IPY_MODEL_bb1b65dc7a494f23be89021d5f6e46e9",
       "max": 1042301.0,
       "min": 0.0,
       "orientation": "horizontal",
       "style": "IPY_MODEL_e0b8b32833fd4cfdaeea91905e15b8b8",
       "value": 1042301.0
      }
     },
     "e9cfcc20616947e79cdaf4c2c52c812f": {
      "model_module": "@jupyter-widgets/controls",
      "model_module_version": "1.5.0",
      "model_name": "DescriptionStyleModel",
      "state": {
       "_model_module": "@jupyter-widgets/controls",
       "_model_module_version": "1.5.0",
       "_model_name": "DescriptionStyleModel",
       "_view_count": null,
       "_view_module": "@jupyter-widgets/base",
       "_view_module_version": "1.2.0",
       "_view_name": "StyleView",
       "description_width": ""
      }
     },
     "e9d45aa2a93c4c38be2f8aa7074021a8": {
      "model_module": "@jupyter-widgets/controls",
      "model_module_version": "1.5.0",
      "model_name": "HTMLModel",
      "state": {
       "_dom_classes": [],
       "_model_module": "@jupyter-widgets/controls",
       "_model_module_version": "1.5.0",
       "_model_name": "HTMLModel",
       "_view_count": null,
       "_view_module": "@jupyter-widgets/controls",
       "_view_module_version": "1.5.0",
       "_view_name": "HTMLView",
       "description": "",
       "description_tooltip": null,
       "layout": "IPY_MODEL_01674c6b925a4869862059873bd72651",
       "placeholder": "​",
       "style": "IPY_MODEL_6e25570026874d3ab0c98fffaea0ec8c",
       "value": " 26.0/26.0 [00:00&lt;00:00, 1.82kB/s]"
      }
     },
     "ea82d1068e564467826e1271723f6a8c": {
      "model_module": "@jupyter-widgets/controls",
      "model_module_version": "1.5.0",
      "model_name": "HTMLModel",
      "state": {
       "_dom_classes": [],
       "_model_module": "@jupyter-widgets/controls",
       "_model_module_version": "1.5.0",
       "_model_name": "HTMLModel",
       "_view_count": null,
       "_view_module": "@jupyter-widgets/controls",
       "_view_module_version": "1.5.0",
       "_view_name": "HTMLView",
       "description": "",
       "description_tooltip": null,
       "layout": "IPY_MODEL_5236c87cef6447ceac7abc474d930219",
       "placeholder": "​",
       "style": "IPY_MODEL_0fd9d0b034d44b98a27596d8037b121a",
       "value": " 1.21k/1.21k [00:00&lt;00:00, 93.8kB/s]"
      }
     },
     "f102b82aa84a47c08fc026e090824fe3": {
      "model_module": "@jupyter-widgets/base",
      "model_module_version": "1.2.0",
      "model_name": "LayoutModel",
      "state": {
       "_model_module": "@jupyter-widgets/base",
       "_model_module_version": "1.2.0",
       "_model_name": "LayoutModel",
       "_view_count": null,
       "_view_module": "@jupyter-widgets/base",
       "_view_module_version": "1.2.0",
       "_view_name": "LayoutView",
       "align_content": null,
       "align_items": null,
       "align_self": null,
       "border": null,
       "bottom": null,
       "display": null,
       "flex": null,
       "flex_flow": null,
       "grid_area": null,
       "grid_auto_columns": null,
       "grid_auto_flow": null,
       "grid_auto_rows": null,
       "grid_column": null,
       "grid_gap": null,
       "grid_row": null,
       "grid_template_areas": null,
       "grid_template_columns": null,
       "grid_template_rows": null,
       "height": null,
       "justify_content": null,
       "justify_items": null,
       "left": null,
       "margin": null,
       "max_height": null,
       "max_width": null,
       "min_height": null,
       "min_width": null,
       "object_fit": null,
       "object_position": null,
       "order": null,
       "overflow": null,
       "overflow_x": null,
       "overflow_y": null,
       "padding": null,
       "right": null,
       "top": null,
       "visibility": null,
       "width": null
      }
     },
     "f218611f16b74d38a6a56de9a7ea47ac": {
      "model_module": "@jupyter-widgets/controls",
      "model_module_version": "1.5.0",
      "model_name": "DescriptionStyleModel",
      "state": {
       "_model_module": "@jupyter-widgets/controls",
       "_model_module_version": "1.5.0",
       "_model_name": "DescriptionStyleModel",
       "_view_count": null,
       "_view_module": "@jupyter-widgets/base",
       "_view_module_version": "1.2.0",
       "_view_name": "StyleView",
       "description_width": ""
      }
     },
     "f4da3e9ce4a3448dbff32057d96b64dd": {
      "model_module": "@jupyter-widgets/controls",
      "model_module_version": "1.5.0",
      "model_name": "ProgressStyleModel",
      "state": {
       "_model_module": "@jupyter-widgets/controls",
       "_model_module_version": "1.5.0",
       "_model_name": "ProgressStyleModel",
       "_view_count": null,
       "_view_module": "@jupyter-widgets/base",
       "_view_module_version": "1.2.0",
       "_view_name": "StyleView",
       "bar_color": null,
       "description_width": ""
      }
     },
     "f7e2f4ed5ae54d6891cc3f0151651cdf": {
      "model_module": "@jupyter-widgets/controls",
      "model_module_version": "1.5.0",
      "model_name": "DescriptionStyleModel",
      "state": {
       "_model_module": "@jupyter-widgets/controls",
       "_model_module_version": "1.5.0",
       "_model_name": "DescriptionStyleModel",
       "_view_count": null,
       "_view_module": "@jupyter-widgets/base",
       "_view_module_version": "1.2.0",
       "_view_name": "StyleView",
       "description_width": ""
      }
     },
     "f8d47dd380194d40a682a58593fda269": {
      "model_module": "@jupyter-widgets/controls",
      "model_module_version": "1.5.0",
      "model_name": "FloatProgressModel",
      "state": {
       "_dom_classes": [],
       "_model_module": "@jupyter-widgets/controls",
       "_model_module_version": "1.5.0",
       "_model_name": "FloatProgressModel",
       "_view_count": null,
       "_view_module": "@jupyter-widgets/controls",
       "_view_module_version": "1.5.0",
       "_view_name": "ProgressView",
       "bar_style": "success",
       "description": "",
       "description_tooltip": null,
       "layout": "IPY_MODEL_093b74da687043259c9956f45c5e9f5b",
       "max": 1355256.0,
       "min": 0.0,
       "orientation": "horizontal",
       "style": "IPY_MODEL_f4da3e9ce4a3448dbff32057d96b64dd",
       "value": 1355256.0
      }
     }
    },
    "version_major": 2,
    "version_minor": 0
   }
  }
 },
 "nbformat": 4,
 "nbformat_minor": 5
}
