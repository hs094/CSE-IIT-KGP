{
 "cells": [
  {
   "cell_type": "markdown",
   "id": "60e0416d",
   "metadata": {
    "papermill": {
     "duration": 0.007401,
     "end_time": "2024-11-15T17:16:25.943544",
     "exception": false,
     "start_time": "2024-11-15T17:16:25.936143",
     "status": "completed"
    },
    "tags": []
   },
   "source": [
    "# Data Analytics, Autumn 2024\n",
    "## Assignment 3\n",
    "#### Team Members:\n",
    "* Hardik Soni (20CS30023)\n",
    "* Astitva (20CS30007)\n",
    "* Sake Venkata Vighan Kumar (20CS10052)"
   ]
  },
  {
   "cell_type": "code",
   "execution_count": 1,
   "id": "7f9787db",
   "metadata": {
    "execution": {
     "iopub.execute_input": "2024-11-15T17:16:25.957777Z",
     "iopub.status.busy": "2024-11-15T17:16:25.957200Z",
     "iopub.status.idle": "2024-11-15T17:16:39.800567Z",
     "shell.execute_reply": "2024-11-15T17:16:39.799060Z"
    },
    "papermill": {
     "duration": 13.853678,
     "end_time": "2024-11-15T17:16:39.803358",
     "exception": false,
     "start_time": "2024-11-15T17:16:25.949680",
     "status": "completed"
    },
    "tags": []
   },
   "outputs": [],
   "source": [
    "! pip install surprise --quiet"
   ]
  },
  {
   "cell_type": "code",
   "execution_count": 2,
   "id": "5bad4742",
   "metadata": {
    "execution": {
     "iopub.execute_input": "2024-11-15T17:16:39.817075Z",
     "iopub.status.busy": "2024-11-15T17:16:39.816612Z",
     "iopub.status.idle": "2024-11-15T17:16:43.054378Z",
     "shell.execute_reply": "2024-11-15T17:16:43.053262Z"
    },
    "papermill": {
     "duration": 3.24806,
     "end_time": "2024-11-15T17:16:43.057274",
     "exception": false,
     "start_time": "2024-11-15T17:16:39.809214",
     "status": "completed"
    },
    "tags": []
   },
   "outputs": [],
   "source": [
    "from kaggle_secrets import UserSecretsClient\n",
    "from concurrent.futures import ProcessPoolExecutor\n",
    "from surprise import SVD, Reader, Dataset, accuracy\n",
    "from surprise.model_selection import train_test_split, GridSearchCV\n",
    "from collections import namedtuple\n",
    "from collections import defaultdict\n",
    "import matplotlib.pyplot as plt\n",
    "import seaborn as sns\n",
    "from tqdm import tqdm\n",
    "import numpy as np\n",
    "import pandas as pd\n",
    "import time\n",
    "import random\n",
    "import os\n",
    "import re\n",
    "import asyncio\n",
    "import aiohttp\n",
    "import requests"
   ]
  },
  {
   "cell_type": "code",
   "execution_count": 3,
   "id": "c347bbd3",
   "metadata": {
    "execution": {
     "iopub.execute_input": "2024-11-15T17:16:43.072527Z",
     "iopub.status.busy": "2024-11-15T17:16:43.071124Z",
     "iopub.status.idle": "2024-11-15T17:16:43.159545Z",
     "shell.execute_reply": "2024-11-15T17:16:43.158326Z"
    },
    "papermill": {
     "duration": 0.098392,
     "end_time": "2024-11-15T17:16:43.162051",
     "exception": false,
     "start_time": "2024-11-15T17:16:43.063659",
     "status": "completed"
    },
    "tags": []
   },
   "outputs": [],
   "source": [
    "user_secrets = UserSecretsClient()\n",
    "API_KEY = user_secrets.get_secret(\"tmdb_api_key\")"
   ]
  },
  {
   "cell_type": "markdown",
   "id": "609cbd80",
   "metadata": {
    "papermill": {
     "duration": 0.005507,
     "end_time": "2024-11-15T17:16:43.173451",
     "exception": false,
     "start_time": "2024-11-15T17:16:43.167944",
     "status": "completed"
    },
    "tags": []
   },
   "source": [
    "## Task 1: Finding Top Actors for Each Movie"
   ]
  },
  {
   "cell_type": "code",
   "execution_count": 4,
   "id": "8bb0a8f1",
   "metadata": {
    "execution": {
     "iopub.execute_input": "2024-11-15T17:16:43.187145Z",
     "iopub.status.busy": "2024-11-15T17:16:43.186663Z",
     "iopub.status.idle": "2024-11-15T17:16:43.310522Z",
     "shell.execute_reply": "2024-11-15T17:16:43.309088Z"
    },
    "papermill": {
     "duration": 0.133946,
     "end_time": "2024-11-15T17:16:43.313204",
     "exception": false,
     "start_time": "2024-11-15T17:16:43.179258",
     "status": "completed"
    },
    "tags": []
   },
   "outputs": [
    {
     "data": {
      "text/html": [
       "<div>\n",
       "<style scoped>\n",
       "    .dataframe tbody tr th:only-of-type {\n",
       "        vertical-align: middle;\n",
       "    }\n",
       "\n",
       "    .dataframe tbody tr th {\n",
       "        vertical-align: top;\n",
       "    }\n",
       "\n",
       "    .dataframe thead th {\n",
       "        text-align: right;\n",
       "    }\n",
       "</style>\n",
       "<table border=\"1\" class=\"dataframe\">\n",
       "  <thead>\n",
       "    <tr style=\"text-align: right;\">\n",
       "      <th></th>\n",
       "      <th>movieId</th>\n",
       "      <th>title</th>\n",
       "      <th>genres</th>\n",
       "      <th>imdbId</th>\n",
       "      <th>tmdbId</th>\n",
       "    </tr>\n",
       "  </thead>\n",
       "  <tbody>\n",
       "    <tr>\n",
       "      <th>0</th>\n",
       "      <td>120510</td>\n",
       "      <td>Value for Money (1955)</td>\n",
       "      <td>Comedy|Romance</td>\n",
       "      <td>48772</td>\n",
       "      <td>171394.0</td>\n",
       "    </tr>\n",
       "    <tr>\n",
       "      <th>1</th>\n",
       "      <td>212955</td>\n",
       "      <td>Face of Evil (1996)</td>\n",
       "      <td>Drama|Thriller</td>\n",
       "      <td>116264</td>\n",
       "      <td>268881.0</td>\n",
       "    </tr>\n",
       "    <tr>\n",
       "      <th>2</th>\n",
       "      <td>193912</td>\n",
       "      <td>Spring 1941 (2007)</td>\n",
       "      <td>Drama|Romance|War</td>\n",
       "      <td>1252616</td>\n",
       "      <td>53604.0</td>\n",
       "    </tr>\n",
       "    <tr>\n",
       "      <th>3</th>\n",
       "      <td>163921</td>\n",
       "      <td>Wolf Creek (2016)</td>\n",
       "      <td>Crime|Horror|Thriller</td>\n",
       "      <td>4460878</td>\n",
       "      <td>388131.0</td>\n",
       "    </tr>\n",
       "    <tr>\n",
       "      <th>4</th>\n",
       "      <td>126652</td>\n",
       "      <td>Raven the Little Rascal (2012)</td>\n",
       "      <td>Animation|Children</td>\n",
       "      <td>1695770</td>\n",
       "      <td>142638.0</td>\n",
       "    </tr>\n",
       "    <tr>\n",
       "      <th>...</th>\n",
       "      <td>...</td>\n",
       "      <td>...</td>\n",
       "      <td>...</td>\n",
       "      <td>...</td>\n",
       "      <td>...</td>\n",
       "    </tr>\n",
       "    <tr>\n",
       "      <th>19995</th>\n",
       "      <td>216811</td>\n",
       "      <td>Song Without a Name (2020)</td>\n",
       "      <td>Drama</td>\n",
       "      <td>1824932</td>\n",
       "      <td>582925.0</td>\n",
       "    </tr>\n",
       "    <tr>\n",
       "      <th>19996</th>\n",
       "      <td>171417</td>\n",
       "      <td>Şabaniye (1984)</td>\n",
       "      <td>Comedy|Drama|Romance</td>\n",
       "      <td>253616</td>\n",
       "      <td>327935.0</td>\n",
       "    </tr>\n",
       "    <tr>\n",
       "      <th>19997</th>\n",
       "      <td>220072</td>\n",
       "      <td>Ellen DeGeneres: Here and Now (2003)</td>\n",
       "      <td>Comedy</td>\n",
       "      <td>365156</td>\n",
       "      <td>19511.0</td>\n",
       "    </tr>\n",
       "    <tr>\n",
       "      <th>19998</th>\n",
       "      <td>32329</td>\n",
       "      <td>Paradise Alley (1978)</td>\n",
       "      <td>Drama</td>\n",
       "      <td>78056</td>\n",
       "      <td>23916.0</td>\n",
       "    </tr>\n",
       "    <tr>\n",
       "      <th>19999</th>\n",
       "      <td>291118</td>\n",
       "      <td>Farmer Seeking Love (2022)</td>\n",
       "      <td>Comedy|Romance</td>\n",
       "      <td>15029944</td>\n",
       "      <td>857850.0</td>\n",
       "    </tr>\n",
       "  </tbody>\n",
       "</table>\n",
       "<p>20000 rows × 5 columns</p>\n",
       "</div>"
      ],
      "text/plain": [
       "       movieId                                 title                 genres  \\\n",
       "0       120510                Value for Money (1955)         Comedy|Romance   \n",
       "1       212955                   Face of Evil (1996)         Drama|Thriller   \n",
       "2       193912                    Spring 1941 (2007)      Drama|Romance|War   \n",
       "3       163921                     Wolf Creek (2016)  Crime|Horror|Thriller   \n",
       "4       126652        Raven the Little Rascal (2012)     Animation|Children   \n",
       "...        ...                                   ...                    ...   \n",
       "19995   216811            Song Without a Name (2020)                  Drama   \n",
       "19996   171417                       Şabaniye (1984)   Comedy|Drama|Romance   \n",
       "19997   220072  Ellen DeGeneres: Here and Now (2003)                 Comedy   \n",
       "19998    32329                 Paradise Alley (1978)                  Drama   \n",
       "19999   291118            Farmer Seeking Love (2022)         Comedy|Romance   \n",
       "\n",
       "         imdbId    tmdbId  \n",
       "0         48772  171394.0  \n",
       "1        116264  268881.0  \n",
       "2       1252616   53604.0  \n",
       "3       4460878  388131.0  \n",
       "4       1695770  142638.0  \n",
       "...         ...       ...  \n",
       "19995   1824932  582925.0  \n",
       "19996    253616  327935.0  \n",
       "19997    365156   19511.0  \n",
       "19998     78056   23916.0  \n",
       "19999  15029944  857850.0  \n",
       "\n",
       "[20000 rows x 5 columns]"
      ]
     },
     "execution_count": 4,
     "metadata": {},
     "output_type": "execute_result"
    }
   ],
   "source": [
    "# Load the datasets\n",
    "links = pd.read_csv('/kaggle/input/movies-dataset/ml-32m/links_set1.csv')\n",
    "movies = pd.read_csv('/kaggle/input/movies-dataset/ml-32m/movies_set1.csv')\n",
    "\n",
    "# Merge DataFrames on the 'movieId' column\n",
    "combined_df = pd.merge(movies, links, on='movieId', how='inner')\n",
    "\n",
    "# Display the updated DataFrame\n",
    "combined_df"
   ]
  },
  {
   "cell_type": "code",
   "execution_count": 5,
   "id": "7c3ac045",
   "metadata": {
    "execution": {
     "iopub.execute_input": "2024-11-15T17:16:43.329090Z",
     "iopub.status.busy": "2024-11-15T17:16:43.328065Z",
     "iopub.status.idle": "2024-11-15T17:16:43.351702Z",
     "shell.execute_reply": "2024-11-15T17:16:43.350108Z"
    },
    "papermill": {
     "duration": 0.033702,
     "end_time": "2024-11-15T17:16:43.354256",
     "exception": false,
     "start_time": "2024-11-15T17:16:43.320554",
     "status": "completed"
    },
    "tags": []
   },
   "outputs": [
    {
     "name": "stdout",
     "output_type": "stream",
     "text": [
      "<class 'pandas.core.frame.DataFrame'>\n",
      "RangeIndex: 20000 entries, 0 to 19999\n",
      "Data columns (total 5 columns):\n",
      " #   Column   Non-Null Count  Dtype  \n",
      "---  ------   --------------  -----  \n",
      " 0   movieId  20000 non-null  int64  \n",
      " 1   title    20000 non-null  object \n",
      " 2   genres   20000 non-null  object \n",
      " 3   imdbId   20000 non-null  int64  \n",
      " 4   tmdbId   19980 non-null  float64\n",
      "dtypes: float64(1), int64(2), object(2)\n",
      "memory usage: 781.4+ KB\n"
     ]
    }
   ],
   "source": [
    "combined_df.info()"
   ]
  },
  {
   "cell_type": "code",
   "execution_count": 6,
   "id": "219b09c2",
   "metadata": {
    "execution": {
     "iopub.execute_input": "2024-11-15T17:16:43.369886Z",
     "iopub.status.busy": "2024-11-15T17:16:43.369133Z",
     "iopub.status.idle": "2024-11-15T17:16:43.391987Z",
     "shell.execute_reply": "2024-11-15T17:16:43.390719Z"
    },
    "papermill": {
     "duration": 0.03355,
     "end_time": "2024-11-15T17:16:43.394634",
     "exception": false,
     "start_time": "2024-11-15T17:16:43.361084",
     "status": "completed"
    },
    "tags": []
   },
   "outputs": [],
   "source": [
    "async def search_movie_by_title(title):\n",
    "    \"\"\"Search for a movie by title if tmdbId is missing.\"\"\"\n",
    "    try:\n",
    "        url = f'https://api.themoviedb.org/3/search/movie'\n",
    "        params = {'api_key': API_KEY, 'query': title}\n",
    "        \n",
    "        async with aiohttp.ClientSession() as session:\n",
    "            async with session.get(url, params=params) as response:\n",
    "                if response.status == 200:\n",
    "                    data = await response.json()\n",
    "                    results = data.get('results', [])\n",
    "                    if results:\n",
    "                        return results[0]['id']  # Return the first result's TMDb ID\n",
    "    except Exception as e:\n",
    "        return []\n",
    "\n",
    "async def search_movie_by_imdb_id(imdb_id):\n",
    "    \"\"\"Search for a movie using IMDb ID.\"\"\"\n",
    "    try:\n",
    "        url = f'https://api.themoviedb.org/3/find/{imdb_id}'\n",
    "        params = {'api_key': API_KEY, 'external_source': 'imdb_id'}\n",
    "        \n",
    "        async with aiohttp.ClientSession() as session:\n",
    "            async with session.get(url, params=params) as response:\n",
    "                if response.status == 200:\n",
    "                    data = await response.json()\n",
    "                    movie_results = data.get('movie_results', [])\n",
    "                    if movie_results:\n",
    "                        return movie_results[0]['id']  # Return the first result's TMDb ID\n",
    "    except Exception as e:\n",
    "        return []\n",
    "\n",
    "async def fetch_cast(tmdb_id, title=None, imdb_id=None):\n",
    "    \"\"\"Fetch top 10 cast members for a movie by TMDb ID, IMDb ID, or title.\"\"\"\n",
    "    try:\n",
    "        # Attempt using TMDb ID if provided\n",
    "        if not pd.isna(tmdb_id):\n",
    "            url = f'https://api.themoviedb.org/3/movie/{int(tmdb_id)}?api_key={API_KEY}&append_to_response=credits'\n",
    "            async with aiohttp.ClientSession() as session:\n",
    "                async with session.get(url) as response:\n",
    "                    if response.status == 200:\n",
    "                        data = await response.json()\n",
    "                        return extract_cast(data)  # Extract and return the cast\n",
    "                    # print(f\"Failed to fetch data using tmdb_id: {tmdb_id}, status: {response.status}\")\n",
    "\n",
    "        # Fallback: Attempt using IMDb ID\n",
    "        if imdb_id:\n",
    "            tmdb_id = await search_movie_by_imdb_id(imdb_id)\n",
    "            if tmdb_id:\n",
    "                url = f'https://api.themoviedb.org/3/movie/{int(tmdb_id)}?api_key={API_KEY}&append_to_response=credits'\n",
    "                async with aiohttp.ClientSession() as session:\n",
    "                    async with session.get(url) as response:\n",
    "                        if response.status == 200:\n",
    "                            data = await response.json()\n",
    "                            return extract_cast(data)  # Extract and return the cast\n",
    "                        # print(f\"Failed to fetch data using imdb_id: {imdb_id}, status: {response.status}\")\n",
    "\n",
    "        # Fallback: Attempt using Title\n",
    "        if title:\n",
    "            tmdb_id = await search_movie_by_title(title)\n",
    "            if tmdb_id is None:\n",
    "                # Retry by removing year from the title\n",
    "                title_without_year = re.sub(r\"\\s*\\(\\d{4}\\)\", \"\", title)\n",
    "                tmdb_id = await search_movie_by_title(title_without_year)\n",
    "\n",
    "            if tmdb_id:\n",
    "                url = f'https://api.themoviedb.org/3/movie/{int(tmdb_id)}?api_key={API_KEY}&append_to_response=credits'\n",
    "                async with aiohttp.ClientSession() as session:\n",
    "                    async with session.get(url) as response:\n",
    "                        if response.status == 200:\n",
    "                            data = await response.json()\n",
    "                            return extract_cast(data)  # Extract and return the cast\n",
    "                        # print(f\"Failed to fetch data using title: {title}, status: {response.status}\")\n",
    "\n",
    "        # If all methods fail, return None\n",
    "        # print(f\"Failed to retrieve cast for movie: title='{title}', imdb_id='{imdb_id}', tmdb_id='{tmdb_id}'\")\n",
    "        return []\n",
    "\n",
    "    except Exception as e:\n",
    "        # print(f\"Error in fetch_cast: {e}\")\n",
    "        return []\n",
    "\n",
    "def extract_cast(data):\n",
    "    \"\"\"Extract top 10 cast members from the movie data.\"\"\"\n",
    "    cast_data = data.get('credits', {}).get('cast', [])\n",
    "    sorted_cast = sorted(cast_data, key=lambda x: x['popularity'], reverse=True)\n",
    "    top_actors = [actor['name'] for actor in sorted_cast[:10]]\n",
    "    return top_actors\n",
    "\n",
    "async def process_movie_chunk(movie_chunk):\n",
    "    tasks = []\n",
    "    for index, row in movie_chunk.iterrows():\n",
    "        tasks.append(fetch_cast(row['tmdbId'], row['title'], row.get('imdbId')))\n",
    "    results = await asyncio.gather(*tasks)\n",
    "    return results\n",
    "\n",
    "def run_async_task(movie_chunk):\n",
    "    return asyncio.run(process_movie_chunk(movie_chunk))\n",
    "\n",
    "def main(combined_df):\n",
    "    # Split the DataFrame into chunks for each process\n",
    "    num_processes = os.cpu_count()\n",
    "    chunk_size = len(combined_df) // num_processes\n",
    "    chunks = [combined_df.iloc[i:i + chunk_size] for i in range(0, len(combined_df), chunk_size)]\n",
    "    with ProcessPoolExecutor(max_workers=num_processes) as executor:\n",
    "        results = list(executor.map(run_async_task, chunks))\n",
    "    # Flatten and assign results to the original DataFrame\n",
    "    combined_df['top_actors'] = [actor for chunk_result in results for actor in chunk_result]\n",
    "    return combined_df"
   ]
  },
  {
   "cell_type": "code",
   "execution_count": 7,
   "id": "ab8bd7f3",
   "metadata": {
    "execution": {
     "iopub.execute_input": "2024-11-15T17:16:43.410176Z",
     "iopub.status.busy": "2024-11-15T17:16:43.409689Z",
     "iopub.status.idle": "2024-11-15T17:21:46.167510Z",
     "shell.execute_reply": "2024-11-15T17:21:46.165778Z"
    },
    "papermill": {
     "duration": 302.773783,
     "end_time": "2024-11-15T17:21:46.175628",
     "exception": false,
     "start_time": "2024-11-15T17:16:43.401845",
     "status": "completed"
    },
    "tags": []
   },
   "outputs": [
    {
     "name": "stdout",
     "output_type": "stream",
     "text": [
      "Time to Extract Actor Data: 302.75047612190247 seconds\n"
     ]
    }
   ],
   "source": [
    "# Run the function and add the 'top_actors' column\n",
    "tic = time.time()\n",
    "updated_df = main(combined_df)\n",
    "updated_df\n",
    "print(f\"Time to Extract Actor Data: {time.time()-tic} seconds\")"
   ]
  },
  {
   "cell_type": "code",
   "execution_count": 8,
   "id": "707a75ea",
   "metadata": {
    "execution": {
     "iopub.execute_input": "2024-11-15T17:21:46.190560Z",
     "iopub.status.busy": "2024-11-15T17:21:46.189657Z",
     "iopub.status.idle": "2024-11-15T17:21:46.208373Z",
     "shell.execute_reply": "2024-11-15T17:21:46.207168Z"
    },
    "papermill": {
     "duration": 0.029107,
     "end_time": "2024-11-15T17:21:46.210856",
     "exception": false,
     "start_time": "2024-11-15T17:21:46.181749",
     "status": "completed"
    },
    "tags": []
   },
   "outputs": [
    {
     "name": "stdout",
     "output_type": "stream",
     "text": [
      "<class 'pandas.core.frame.DataFrame'>\n",
      "RangeIndex: 20000 entries, 0 to 19999\n",
      "Data columns (total 6 columns):\n",
      " #   Column      Non-Null Count  Dtype  \n",
      "---  ------      --------------  -----  \n",
      " 0   movieId     20000 non-null  int64  \n",
      " 1   title       20000 non-null  object \n",
      " 2   genres      20000 non-null  object \n",
      " 3   imdbId      20000 non-null  int64  \n",
      " 4   tmdbId      19980 non-null  float64\n",
      " 5   top_actors  20000 non-null  object \n",
      "dtypes: float64(1), int64(2), object(3)\n",
      "memory usage: 937.6+ KB\n"
     ]
    }
   ],
   "source": [
    "updated_df.info()"
   ]
  },
  {
   "cell_type": "code",
   "execution_count": 9,
   "id": "304a4fdb",
   "metadata": {
    "execution": {
     "iopub.execute_input": "2024-11-15T17:21:46.225608Z",
     "iopub.status.busy": "2024-11-15T17:21:46.225147Z",
     "iopub.status.idle": "2024-11-15T17:21:46.249767Z",
     "shell.execute_reply": "2024-11-15T17:21:46.248510Z"
    },
    "papermill": {
     "duration": 0.035895,
     "end_time": "2024-11-15T17:21:46.253329",
     "exception": false,
     "start_time": "2024-11-15T17:21:46.217434",
     "status": "completed"
    },
    "tags": []
   },
   "outputs": [
    {
     "data": {
      "text/html": [
       "<div>\n",
       "<style scoped>\n",
       "    .dataframe tbody tr th:only-of-type {\n",
       "        vertical-align: middle;\n",
       "    }\n",
       "\n",
       "    .dataframe tbody tr th {\n",
       "        vertical-align: top;\n",
       "    }\n",
       "\n",
       "    .dataframe thead th {\n",
       "        text-align: right;\n",
       "    }\n",
       "</style>\n",
       "<table border=\"1\" class=\"dataframe\">\n",
       "  <thead>\n",
       "    <tr style=\"text-align: right;\">\n",
       "      <th></th>\n",
       "      <th>movieId</th>\n",
       "      <th>title</th>\n",
       "      <th>genres</th>\n",
       "      <th>imdbId</th>\n",
       "      <th>tmdbId</th>\n",
       "      <th>top_actors</th>\n",
       "    </tr>\n",
       "  </thead>\n",
       "  <tbody>\n",
       "    <tr>\n",
       "      <th>0</th>\n",
       "      <td>120510</td>\n",
       "      <td>Value for Money (1955)</td>\n",
       "      <td>Comedy|Romance</td>\n",
       "      <td>48772</td>\n",
       "      <td>171394.0</td>\n",
       "      <td>[Donald Pleasence, Oliver Reed, Leslie Phillip...</td>\n",
       "    </tr>\n",
       "    <tr>\n",
       "      <th>1</th>\n",
       "      <td>212955</td>\n",
       "      <td>Face of Evil (1996)</td>\n",
       "      <td>Drama|Thriller</td>\n",
       "      <td>116264</td>\n",
       "      <td>268881.0</td>\n",
       "      <td>[Shawnee Smith, Perry King, Melissa Moore, Mir...</td>\n",
       "    </tr>\n",
       "    <tr>\n",
       "      <th>2</th>\n",
       "      <td>193912</td>\n",
       "      <td>Spring 1941 (2007)</td>\n",
       "      <td>Drama|Romance|War</td>\n",
       "      <td>1252616</td>\n",
       "      <td>53604.0</td>\n",
       "      <td>[]</td>\n",
       "    </tr>\n",
       "    <tr>\n",
       "      <th>3</th>\n",
       "      <td>163921</td>\n",
       "      <td>Wolf Creek (2016)</td>\n",
       "      <td>Crime|Horror|Thriller</td>\n",
       "      <td>4460878</td>\n",
       "      <td>388131.0</td>\n",
       "      <td>[]</td>\n",
       "    </tr>\n",
       "    <tr>\n",
       "      <th>4</th>\n",
       "      <td>126652</td>\n",
       "      <td>Raven the Little Rascal (2012)</td>\n",
       "      <td>Animation|Children</td>\n",
       "      <td>1695770</td>\n",
       "      <td>142638.0</td>\n",
       "      <td>[Katharina Thalbach, Anna Thalbach, Constantin...</td>\n",
       "    </tr>\n",
       "    <tr>\n",
       "      <th>...</th>\n",
       "      <td>...</td>\n",
       "      <td>...</td>\n",
       "      <td>...</td>\n",
       "      <td>...</td>\n",
       "      <td>...</td>\n",
       "      <td>...</td>\n",
       "    </tr>\n",
       "    <tr>\n",
       "      <th>19995</th>\n",
       "      <td>216811</td>\n",
       "      <td>Song Without a Name (2020)</td>\n",
       "      <td>Drama</td>\n",
       "      <td>1824932</td>\n",
       "      <td>582925.0</td>\n",
       "      <td>[]</td>\n",
       "    </tr>\n",
       "    <tr>\n",
       "      <th>19996</th>\n",
       "      <td>171417</td>\n",
       "      <td>Şabaniye (1984)</td>\n",
       "      <td>Comedy|Drama|Romance</td>\n",
       "      <td>253616</td>\n",
       "      <td>327935.0</td>\n",
       "      <td>[Kemal Sunal, Erdal Özyağcılar, Adile Naşit, R...</td>\n",
       "    </tr>\n",
       "    <tr>\n",
       "      <th>19997</th>\n",
       "      <td>220072</td>\n",
       "      <td>Ellen DeGeneres: Here and Now (2003)</td>\n",
       "      <td>Comedy</td>\n",
       "      <td>365156</td>\n",
       "      <td>19511.0</td>\n",
       "      <td>[]</td>\n",
       "    </tr>\n",
       "    <tr>\n",
       "      <th>19998</th>\n",
       "      <td>32329</td>\n",
       "      <td>Paradise Alley (1978)</td>\n",
       "      <td>Drama</td>\n",
       "      <td>78056</td>\n",
       "      <td>23916.0</td>\n",
       "      <td>[]</td>\n",
       "    </tr>\n",
       "    <tr>\n",
       "      <th>19999</th>\n",
       "      <td>291118</td>\n",
       "      <td>Farmer Seeking Love (2022)</td>\n",
       "      <td>Comedy|Romance</td>\n",
       "      <td>15029944</td>\n",
       "      <td>857850.0</td>\n",
       "      <td>[]</td>\n",
       "    </tr>\n",
       "  </tbody>\n",
       "</table>\n",
       "<p>20000 rows × 6 columns</p>\n",
       "</div>"
      ],
      "text/plain": [
       "       movieId                                 title                 genres  \\\n",
       "0       120510                Value for Money (1955)         Comedy|Romance   \n",
       "1       212955                   Face of Evil (1996)         Drama|Thriller   \n",
       "2       193912                    Spring 1941 (2007)      Drama|Romance|War   \n",
       "3       163921                     Wolf Creek (2016)  Crime|Horror|Thriller   \n",
       "4       126652        Raven the Little Rascal (2012)     Animation|Children   \n",
       "...        ...                                   ...                    ...   \n",
       "19995   216811            Song Without a Name (2020)                  Drama   \n",
       "19996   171417                       Şabaniye (1984)   Comedy|Drama|Romance   \n",
       "19997   220072  Ellen DeGeneres: Here and Now (2003)                 Comedy   \n",
       "19998    32329                 Paradise Alley (1978)                  Drama   \n",
       "19999   291118            Farmer Seeking Love (2022)         Comedy|Romance   \n",
       "\n",
       "         imdbId    tmdbId                                         top_actors  \n",
       "0         48772  171394.0  [Donald Pleasence, Oliver Reed, Leslie Phillip...  \n",
       "1        116264  268881.0  [Shawnee Smith, Perry King, Melissa Moore, Mir...  \n",
       "2       1252616   53604.0                                                 []  \n",
       "3       4460878  388131.0                                                 []  \n",
       "4       1695770  142638.0  [Katharina Thalbach, Anna Thalbach, Constantin...  \n",
       "...         ...       ...                                                ...  \n",
       "19995   1824932  582925.0                                                 []  \n",
       "19996    253616  327935.0  [Kemal Sunal, Erdal Özyağcılar, Adile Naşit, R...  \n",
       "19997    365156   19511.0                                                 []  \n",
       "19998     78056   23916.0                                                 []  \n",
       "19999  15029944  857850.0                                                 []  \n",
       "\n",
       "[20000 rows x 6 columns]"
      ]
     },
     "execution_count": 9,
     "metadata": {},
     "output_type": "execute_result"
    }
   ],
   "source": [
    "updated_df"
   ]
  },
  {
   "cell_type": "code",
   "execution_count": 10,
   "id": "b6149b25",
   "metadata": {
    "execution": {
     "iopub.execute_input": "2024-11-15T17:21:46.270061Z",
     "iopub.status.busy": "2024-11-15T17:21:46.269616Z",
     "iopub.status.idle": "2024-11-15T17:21:47.483147Z",
     "shell.execute_reply": "2024-11-15T17:21:47.481737Z"
    },
    "papermill": {
     "duration": 1.225613,
     "end_time": "2024-11-15T17:21:47.486022",
     "exception": false,
     "start_time": "2024-11-15T17:21:46.260409",
     "status": "completed"
    },
    "tags": []
   },
   "outputs": [
    {
     "name": "stdout",
     "output_type": "stream",
     "text": [
      "       movieId         top_actor\n",
      "0       120510  Donald Pleasence\n",
      "1       120510       Oliver Reed\n",
      "2       120510   Leslie Phillips\n",
      "3       120510        Diana Dors\n",
      "4       120510      Joan Hickson\n",
      "...        ...               ...\n",
      "21631   171417     Reha Yurdakul\n",
      "21632   171417        İhsan Yüce\n",
      "21633   171417     Turgut Boralı\n",
      "21634   171417        Aliye Rona\n",
      "21635   171417       Çiğdem Tunç\n",
      "\n",
      "[21636 rows x 2 columns]\n"
     ]
    }
   ],
   "source": [
    "# Flatten the 'top_actors' column into individual rows along with 'movieId'\n",
    "movie_actors = [\n",
    "    {'movieId': row['movieId'], 'top_actor': actor}\n",
    "    for _, row in updated_df.iterrows()\n",
    "    for actor in row['top_actors']\n",
    "]\n",
    "\n",
    "# Convert the list of dictionaries into a DataFrame\n",
    "movies_actors_df = pd.DataFrame(movie_actors)\n",
    "print(movies_actors_df)"
   ]
  },
  {
   "cell_type": "markdown",
   "id": "035af3fe",
   "metadata": {
    "papermill": {
     "duration": 0.007026,
     "end_time": "2024-11-15T17:21:47.500179",
     "exception": false,
     "start_time": "2024-11-15T17:21:47.493153",
     "status": "completed"
    },
    "tags": []
   },
   "source": [
    "## Task 2: Constructing the User-Actor Rating Matrix"
   ]
  },
  {
   "cell_type": "code",
   "execution_count": 11,
   "id": "2dbe0ae6",
   "metadata": {
    "execution": {
     "iopub.execute_input": "2024-11-15T17:21:47.515522Z",
     "iopub.status.busy": "2024-11-15T17:21:47.515050Z",
     "iopub.status.idle": "2024-11-15T17:21:47.879483Z",
     "shell.execute_reply": "2024-11-15T17:21:47.878201Z"
    },
    "papermill": {
     "duration": 0.375384,
     "end_time": "2024-11-15T17:21:47.882312",
     "exception": false,
     "start_time": "2024-11-15T17:21:47.506928",
     "status": "completed"
    },
    "tags": []
   },
   "outputs": [
    {
     "data": {
      "text/html": [
       "<div>\n",
       "<style scoped>\n",
       "    .dataframe tbody tr th:only-of-type {\n",
       "        vertical-align: middle;\n",
       "    }\n",
       "\n",
       "    .dataframe tbody tr th {\n",
       "        vertical-align: top;\n",
       "    }\n",
       "\n",
       "    .dataframe thead th {\n",
       "        text-align: right;\n",
       "    }\n",
       "</style>\n",
       "<table border=\"1\" class=\"dataframe\">\n",
       "  <thead>\n",
       "    <tr style=\"text-align: right;\">\n",
       "      <th></th>\n",
       "      <th>userId</th>\n",
       "      <th>top_actor</th>\n",
       "      <th>rating</th>\n",
       "    </tr>\n",
       "  </thead>\n",
       "  <tbody>\n",
       "    <tr>\n",
       "      <th>0</th>\n",
       "      <td>5</td>\n",
       "      <td>Chris O'Donnell</td>\n",
       "      <td>3.0</td>\n",
       "    </tr>\n",
       "    <tr>\n",
       "      <th>1</th>\n",
       "      <td>5</td>\n",
       "      <td>Debi Mazar</td>\n",
       "      <td>3.0</td>\n",
       "    </tr>\n",
       "    <tr>\n",
       "      <th>2</th>\n",
       "      <td>5</td>\n",
       "      <td>Drew Barrymore</td>\n",
       "      <td>3.0</td>\n",
       "    </tr>\n",
       "    <tr>\n",
       "      <th>3</th>\n",
       "      <td>5</td>\n",
       "      <td>Ed Begley Jr.</td>\n",
       "      <td>3.0</td>\n",
       "    </tr>\n",
       "    <tr>\n",
       "      <th>4</th>\n",
       "      <td>5</td>\n",
       "      <td>Jessica Tuck</td>\n",
       "      <td>3.0</td>\n",
       "    </tr>\n",
       "    <tr>\n",
       "      <th>...</th>\n",
       "      <td>...</td>\n",
       "      <td>...</td>\n",
       "      <td>...</td>\n",
       "    </tr>\n",
       "    <tr>\n",
       "      <th>269798</th>\n",
       "      <td>200928</td>\n",
       "      <td>Tobin Bell</td>\n",
       "      <td>4.0</td>\n",
       "    </tr>\n",
       "    <tr>\n",
       "      <th>269799</th>\n",
       "      <td>200928</td>\n",
       "      <td>Tony Sirico</td>\n",
       "      <td>4.0</td>\n",
       "    </tr>\n",
       "    <tr>\n",
       "      <th>269800</th>\n",
       "      <td>200928</td>\n",
       "      <td>Valentina Vargas</td>\n",
       "      <td>4.0</td>\n",
       "    </tr>\n",
       "    <tr>\n",
       "      <th>269801</th>\n",
       "      <td>200928</td>\n",
       "      <td>Vernon Dobtcheff</td>\n",
       "      <td>4.0</td>\n",
       "    </tr>\n",
       "    <tr>\n",
       "      <th>269802</th>\n",
       "      <td>200928</td>\n",
       "      <td>William Hickey</td>\n",
       "      <td>4.0</td>\n",
       "    </tr>\n",
       "  </tbody>\n",
       "</table>\n",
       "<p>269803 rows × 3 columns</p>\n",
       "</div>"
      ],
      "text/plain": [
       "        userId         top_actor  rating\n",
       "0            5   Chris O'Donnell     3.0\n",
       "1            5        Debi Mazar     3.0\n",
       "2            5    Drew Barrymore     3.0\n",
       "3            5     Ed Begley Jr.     3.0\n",
       "4            5      Jessica Tuck     3.0\n",
       "...        ...               ...     ...\n",
       "269798  200928        Tobin Bell     4.0\n",
       "269799  200928       Tony Sirico     4.0\n",
       "269800  200928  Valentina Vargas     4.0\n",
       "269801  200928  Vernon Dobtcheff     4.0\n",
       "269802  200928    William Hickey     4.0\n",
       "\n",
       "[269803 rows x 3 columns]"
      ]
     },
     "execution_count": 11,
     "metadata": {},
     "output_type": "execute_result"
    }
   ],
   "source": [
    "# Load the necessary data files\n",
    "ratings_df = pd.read_csv('/kaggle/input/movies-dataset/ml-32m/ratings_set1.csv')\n",
    "\n",
    "# Merge the ratings with movie-actor associations\n",
    "user_ratings = ratings_df.merge(movies_actors_df, on=\"movieId\")\n",
    "\n",
    "# Calculate the average rating for each user-actor pair\n",
    "user_actor_ratings = user_ratings.groupby(['userId', 'top_actor']).agg({'rating': 'mean'}).reset_index()\n",
    "user_actor_ratings"
   ]
  },
  {
   "cell_type": "code",
   "execution_count": 12,
   "id": "349f9a94",
   "metadata": {
    "execution": {
     "iopub.execute_input": "2024-11-15T17:21:47.898535Z",
     "iopub.status.busy": "2024-11-15T17:21:47.898037Z",
     "iopub.status.idle": "2024-11-15T17:21:50.831754Z",
     "shell.execute_reply": "2024-11-15T17:21:50.830514Z"
    },
    "papermill": {
     "duration": 2.945375,
     "end_time": "2024-11-15T17:21:50.834828",
     "exception": false,
     "start_time": "2024-11-15T17:21:47.889453",
     "status": "completed"
    },
    "tags": []
   },
   "outputs": [
    {
     "name": "stdout",
     "output_type": "stream",
     "text": [
      "Rating Description:\n",
      "count    269803.000000\n",
      "mean          3.520572\n",
      "std           1.101040\n",
      "min           0.500000\n",
      "25%           3.000000\n",
      "50%           3.500000\n",
      "75%           4.500000\n",
      "max           5.000000\n",
      "Name: rating, dtype: float64\n"
     ]
    },
    {
     "data": {
      "image/png": "[encoded data removed]",
      "text/plain": [
       "<Figure size 1000x600 with 1 Axes>"
      ]
     },
     "metadata": {},
     "output_type": "display_data"
    },
    {
     "name": "stdout",
     "output_type": "stream",
     "text": [
      "User ID Counts:\n",
      "userId\n",
      "147603    1238\n",
      "56703     1055\n",
      "48454     1029\n",
      "5029       923\n",
      "52603      897\n",
      "101654     887\n",
      "75040      840\n",
      "20110      720\n",
      "16283      671\n",
      "69447      655\n",
      "Name: count, dtype: int64\n"
     ]
    },
    {
     "data": {
      "image/png": "[encoded data removed]",
      "text/plain": [
       "<Figure size 800x600 with 1 Axes>"
      ]
     },
     "metadata": {},
     "output_type": "display_data"
    },
    {
     "name": "stderr",
     "output_type": "stream",
     "text": [
      "/opt/conda/lib/python3.10/site-packages/seaborn/_oldcore.py:1119: FutureWarning: use_inf_as_na option is deprecated and will be removed in a future version. Convert inf values to NaN before operating instead.\n",
      "  with pd.option_context('mode.use_inf_as_na', True):\n"
     ]
    },
    {
     "data": {
      "image/png": "[encoded data removed]",
      "text/plain": [
       "<Figure size 1000x600 with 1 Axes>"
      ]
     },
     "metadata": {},
     "output_type": "display_data"
    },
    {
     "data": {
      "image/png": "[encoded data removed]",
      "text/plain": [
       "<Figure size 1000x600 with 1 Axes>"
      ]
     },
     "metadata": {},
     "output_type": "display_data"
    },
    {
     "name": "stdout",
     "output_type": "stream",
     "text": [
      "top_actor\n",
      "John Bryant             5.0\n",
      "Sabine Pakora           5.0\n",
      "Paul Frees              5.0\n",
      "Liu Hua                 5.0\n",
      "Lionel Erdogan          5.0\n",
      "Pepa Aniorte            5.0\n",
      "Anders W. Berthelsen    5.0\n",
      "Philippe Gautier        5.0\n",
      "Phyllis Posnick         5.0\n",
      "Pilou Asbæk             5.0\n",
      "Emilio Buale            5.0\n",
      "Polly Allen Mellen      5.0\n",
      "Emilia Fox              5.0\n",
      "Lev Potyomkin           5.0\n",
      "Leslie Ash              5.0\n",
      "Huang Bo                5.0\n",
      "Eduard Nazarov          5.0\n",
      "Lei Jiayin              5.0\n",
      "Dorothy Malone          5.0\n",
      "Robert Kirkman          5.0\n",
      "Name: rating, dtype: float64\n"
     ]
    },
    {
     "data": {
      "image/png": "[encoded data removed]",
      "text/plain": [
       "<Figure size 1200x800 with 1 Axes>"
      ]
     },
     "metadata": {},
     "output_type": "display_data"
    }
   ],
   "source": [
    "# 1. Check Rating Variability\n",
    "print(\"Rating Description:\")\n",
    "print(user_actor_ratings['rating'].describe())\n",
    "\n",
    "# 2. Check Distribution of Ratings\n",
    "plt.figure(figsize=(10, 6))\n",
    "plt.hist(user_actor_ratings['rating'], bins=10, color='skyblue', edgecolor='black')\n",
    "plt.xlabel('Rating')\n",
    "plt.ylabel('Frequency')\n",
    "plt.title('Distribution of Ratings')\n",
    "plt.show()\n",
    "\n",
    "# 3. Explore Unique User IDs and Their Counts\n",
    "user_counts = user_actor_ratings['userId'].value_counts()\n",
    "print(\"User ID Counts:\")\n",
    "print(user_counts.head(10))  # Display the top 10 users with the most ratings\n",
    "\n",
    "# Choose a sample user with enough ratings for visualization\n",
    "sample_user_id = user_counts.idxmax()  # This picks the user with the most ratings\n",
    "\n",
    "# Filter user ratings for the sample user\n",
    "user_ratings = user_actor_ratings[user_actor_ratings['userId'] == sample_user_id]\n",
    "\n",
    "# Visualization 1: Boxplot for Rating Variability of the Sample User\n",
    "plt.figure(figsize=(8, 6))\n",
    "sns.boxplot(x=user_ratings['rating'], color='lightblue')  # Filtered for the sample user\n",
    "plt.xlabel('Rating')\n",
    "plt.title(f'Boxplot of Ratings for User {sample_user_id}')\n",
    "plt.show()\n",
    "\n",
    "# Example: KDE Plot for Rating Distribution\n",
    "plt.figure(figsize=(10, 6))\n",
    "sns.kdeplot(user_actor_ratings['rating'], fill=True, color='skyblue', alpha=0.7)\n",
    "plt.xlabel('Rating')\n",
    "plt.ylabel('Density')\n",
    "plt.title('Density Plot of Ratings')\n",
    "plt.show()\n",
    "\n",
    "# Example: Bar Plot for Top 10 Users by Rating Counts\n",
    "plt.figure(figsize=(10, 6))\n",
    "user_counts.head(10).plot(kind='bar', color='orange', edgecolor='black')\n",
    "plt.xlabel('User ID')\n",
    "plt.ylabel('Number of Ratings')\n",
    "plt.title('Top 10 Users by Rating Counts')\n",
    "plt.xticks(rotation=45)\n",
    "plt.show()\n",
    "\n",
    "# 4. Visualization 2: Distribution of Average Actor Ratings\n",
    "actor_avg_ratings = user_actor_ratings.groupby('top_actor')['rating'].mean().sort_values(ascending=False).head(20)\n",
    "print(actor_avg_ratings)\n",
    "\n",
    "if not actor_avg_ratings.empty:   \n",
    "    # Example: Bar Plot for Top 20 Actors by Average Rating\n",
    "    plt.figure(figsize=(12, 8))\n",
    "    sns.barplot(x=actor_avg_ratings.values, y=actor_avg_ratings.index, palette='coolwarm')\n",
    "    plt.xlabel('Average Rating')\n",
    "    plt.title('Top 20 Actors by Average Rating')\n",
    "    for i, v in enumerate(actor_avg_ratings.values):\n",
    "        plt.text(v + 0.1, i, f\"{v:.2f}\", va='center')\n",
    "    plt.show()\n",
    "else:\n",
    "    print(\"No data available for actor ratings.\")"
   ]
  },
  {
   "cell_type": "markdown",
   "id": "6a0d56e8",
   "metadata": {
    "papermill": {
     "duration": 0.010799,
     "end_time": "2024-11-15T17:21:50.857447",
     "exception": false,
     "start_time": "2024-11-15T17:21:50.846648",
     "status": "completed"
    },
    "tags": []
   },
   "source": [
    "## Task 3: Choosing a Recommendation Algorithm"
   ]
  },
  {
   "cell_type": "code",
   "execution_count": 13,
   "id": "06d2bb67",
   "metadata": {
    "execution": {
     "iopub.execute_input": "2024-11-15T17:21:50.882373Z",
     "iopub.status.busy": "2024-11-15T17:21:50.881049Z",
     "iopub.status.idle": "2024-11-15T17:21:55.826132Z",
     "shell.execute_reply": "2024-11-15T17:21:55.824783Z"
    },
    "papermill": {
     "duration": 4.960257,
     "end_time": "2024-11-15T17:21:55.828977",
     "exception": false,
     "start_time": "2024-11-15T17:21:50.868720",
     "status": "completed"
    },
    "tags": []
   },
   "outputs": [
    {
     "name": "stdout",
     "output_type": "stream",
     "text": [
      "RMSE: 0.4636\n",
      "MAE:  0.2990\n",
      "Recommender Model Training Done !\n"
     ]
    }
   ],
   "source": [
    "# Load the user-actor ratings into Surprise\n",
    "reader = Reader(rating_scale=(0.5, 5.0))\n",
    "data = Dataset.load_from_df(user_actor_ratings[['userId', 'top_actor', 'rating']], reader)\n",
    "\n",
    "# Split data into train and test sets\n",
    "trainset, testset = train_test_split(data, test_size=0.2)\n",
    "\n",
    "# Initialize and train the SVD model\n",
    "model = SVD()\n",
    "model.fit(trainset)\n",
    "\n",
    "# Evaluate performance on the test set\n",
    "test_predictions = model.test(testset)\n",
    "\n",
    "accuracy.rmse(test_predictions)\n",
    "accuracy.mae(test_predictions)\n",
    "print(\"Recommender Model Training Done !\")"
   ]
  },
  {
   "cell_type": "markdown",
   "id": "23ea096e",
   "metadata": {
    "papermill": {
     "duration": 0.011032,
     "end_time": "2024-11-15T17:21:55.851597",
     "exception": false,
     "start_time": "2024-11-15T17:21:55.840565",
     "status": "completed"
    },
    "tags": []
   },
   "source": [
    "## Task 4: Implementing the Recommendation System"
   ]
  },
  {
   "cell_type": "code",
   "execution_count": 14,
   "id": "c7d7218c",
   "metadata": {
    "execution": {
     "iopub.execute_input": "2024-11-15T17:21:55.876445Z",
     "iopub.status.busy": "2024-11-15T17:21:55.875960Z",
     "iopub.status.idle": "2024-11-15T17:21:55.940548Z",
     "shell.execute_reply": "2024-11-15T17:21:55.938647Z"
    },
    "papermill": {
     "duration": 0.080355,
     "end_time": "2024-11-15T17:21:55.943122",
     "exception": false,
     "start_time": "2024-11-15T17:21:55.862767",
     "status": "completed"
    },
    "tags": []
   },
   "outputs": [
    {
     "name": "stdout",
     "output_type": "stream",
     "text": [
      "                  Actor  Predicted Rating\n",
      "0         Safit Pardede          4.295516\n",
      "1  Yapto Soerjosoemarno          4.283894\n",
      "2             Haji Anif          4.272865\n",
      "3        Kim Joo-ryoung          4.226700\n",
      "4           Jung In-sun          4.201680\n"
     ]
    }
   ],
   "source": [
    "# Function to get top actor recommendations for a given user\n",
    "def recommend_top_actors(user_id, model, data, top_n=10):\n",
    "    # Retrieve a list of unique actors from the dataset\n",
    "    unique_actors = data.df['top_actor'].drop_duplicates().values\n",
    "    # Generate prediction ratings for the user across all actors\n",
    "    predictions = [model.predict(user_id, actor) for actor in unique_actors]\n",
    "    # Sort the predictions based on the estimated ratings in descending order\n",
    "    sorted_predictions = sorted(predictions, key=lambda x: x.est, reverse=True)\n",
    "    # Extract the top N actors and their predicted ratings\n",
    "    top_actor_recs = [(prediction.iid, prediction.est) for prediction in sorted_predictions[:top_n]]\n",
    "    \n",
    "    # Convert the top recommendations to a DataFrame for easier reporting\n",
    "    recommendations_df = pd.DataFrame(top_actor_recs, columns=['Actor', 'Predicted Rating'])\n",
    "    return recommendations_df\n",
    "\n",
    "# Example usage\n",
    "user_id = 1  # Replace with an actual user ID\n",
    "top_actors_df = recommend_top_actors(user_id, model, data, top_n=5)\n",
    "\n",
    "# Display the top recommended actors in a DataFrame\n",
    "print(top_actors_df)"
   ]
  },
  {
   "cell_type": "code",
   "execution_count": 15,
   "id": "79a3eb45",
   "metadata": {
    "execution": {
     "iopub.execute_input": "2024-11-15T17:21:55.967637Z",
     "iopub.status.busy": "2024-11-15T17:21:55.966254Z",
     "iopub.status.idle": "2024-11-15T17:21:55.978276Z",
     "shell.execute_reply": "2024-11-15T17:21:55.977116Z"
    },
    "papermill": {
     "duration": 0.027075,
     "end_time": "2024-11-15T17:21:55.981074",
     "exception": false,
     "start_time": "2024-11-15T17:21:55.953999",
     "status": "completed"
    },
    "tags": []
   },
   "outputs": [],
   "source": [
    "# Define the function to calculate Precision@k and Recall@k\n",
    "def calculate_precision_recall_at_k(predictions, k=10, rating_threshold=4.0):\n",
    "    user_recommendations = defaultdict(list)\n",
    "    \n",
    "    # Organize predictions by user and mark relevant ratings\n",
    "    for user_id, _, actual_rating, predicted_rating, _ in predictions:\n",
    "        user_recommendations[user_id].append((predicted_rating, actual_rating >= rating_threshold))\n",
    "\n",
    "    precision_scores, recall_scores = [], []\n",
    "\n",
    "    # Calculate precision and recall for each user\n",
    "    for user_id, ratings in user_recommendations.items():\n",
    "        ratings.sort(key=lambda x: x[0], reverse=True)  # Sort by predicted rating\n",
    "        top_k_ratings = ratings[:k]\n",
    "        relevant_ratings = sum((r[1] for r in ratings))  # Number of relevant items\n",
    "\n",
    "        if relevant_ratings:\n",
    "            precision = sum((r[1] for r in top_k_ratings)) / k\n",
    "            recall = sum((r[1] for r in top_k_ratings)) / relevant_ratings\n",
    "            precision_scores.append(precision)\n",
    "            recall_scores.append(recall)\n",
    "\n",
    "    # Return average precision, recall, and the recommendations per user\n",
    "    return np.mean(precision_scores), np.mean(recall_scores), user_recommendations\n",
    "\n",
    "\n",
    "# Define the function to calculate NDCG@k\n",
    "def calculate_ndcg_at_k(user_recommendations, k=10):\n",
    "    ndcg_values = []\n",
    "    \n",
    "    # Calculate NDCG for each user\n",
    "    for user_id, ratings in user_recommendations.items():\n",
    "        ratings.sort(key=lambda x: x[0], reverse=True)\n",
    "        dcg = sum((r[1] / np.log2(i + 2)) for i, r in enumerate(ratings[:k]))\n",
    "        idcg = sum((1 / np.log2(i + 2)) for i in range(len(ratings[:k])))\n",
    "        ndcg_values.append(dcg / idcg if idcg > 0 else 0)\n",
    "\n",
    "    # Return the average NDCG score\n",
    "    return np.mean(ndcg_values)"
   ]
  },
  {
   "cell_type": "code",
   "execution_count": 16,
   "id": "af966493",
   "metadata": {
    "execution": {
     "iopub.execute_input": "2024-11-15T17:21:56.005284Z",
     "iopub.status.busy": "2024-11-15T17:21:56.004826Z",
     "iopub.status.idle": "2024-11-15T17:21:56.208191Z",
     "shell.execute_reply": "2024-11-15T17:21:56.206814Z"
    },
    "papermill": {
     "duration": 0.218748,
     "end_time": "2024-11-15T17:21:56.210830",
     "exception": false,
     "start_time": "2024-11-15T17:21:55.992082",
     "status": "completed"
    },
    "tags": []
   },
   "outputs": [
    {
     "name": "stdout",
     "output_type": "stream",
     "text": [
      "Precision@5: 0.6984200547714347\n",
      "Recall@5: 0.8365714125594278\n",
      "NDCG@5: 0.7114273693450804\n"
     ]
    }
   ],
   "source": [
    "# Example usage with predictions data\n",
    "precision, recall, user_recs = calculate_precision_recall_at_k(test_predictions, k=5)\n",
    "print(\"Precision@5:\", precision)\n",
    "print(\"Recall@5:\", recall)\n",
    "\n",
    "# Calculate and print NDCG@k\n",
    "ndcg = calculate_ndcg_at_k(user_recs, k=5)\n",
    "print(\"NDCG@5:\", ndcg)\n"
   ]
  },
  {
   "cell_type": "markdown",
   "id": "2747e0a3",
   "metadata": {
    "papermill": {
     "duration": 0.010925,
     "end_time": "2024-11-15T17:21:56.233057",
     "exception": false,
     "start_time": "2024-11-15T17:21:56.222132",
     "status": "completed"
    },
    "tags": []
   },
   "source": [
    "In a recommendation system, **Precision**, **Recall**, and **NDCG (Normalized Discounted Cumulative Gain)** are different metrics used to evaluate the quality of recommendations. Whether high recall, precision, or NDCG is considered \"good\" depends on the goals and context of the recommendation system. Here’s a breakdown of each:\n",
    "\n",
    "### 1. **Precision**:\n",
    "   - **Definition**: Precision measures the proportion of relevant items among the recommended items. In other words, how many of the recommended items are actually useful or relevant to the user.\n",
    "   - **Formula**: \n",
    "     $$\\text{Precision} = \\frac{\\text{Number of relevant recommended items}}{\\text{Number of recommended items}}$$\n",
    "   - **Is High Precision Good?**\n",
    "     Yes. High precision means that most of the recommended items are relevant, and users are not getting irrelevant items. However, precision doesn't account for the possibility of missing out on relevant items that weren’t recommended.\n",
    "\n",
    "### 2. **Recall**:\n",
    "   - **Definition**: Recall measures the proportion of relevant items that were actually recommended. It answers the question: How many of the relevant items were successfully included in the recommendations?\n",
    "   - **Formula**: \n",
    "     $$\\text{Recall} = \\frac{\\text{Number of relevant recommended items}}{\\text{Total number of relevant items}}$$\n",
    "   - **Is High Recall Good?**\n",
    "     Yes, especially if the goal is to ensure that users don’t miss out on potentially relevant items. High recall means you’re recommending most of the relevant items to the users, but it might also result in recommending some irrelevant items (which can lower precision).\n",
    "\n",
    "   **Trade-off between Precision and Recall**: \n",
    "   - Often, improving one can lead to the decline of the other. For example, if you recommend more items (higher recall), precision may decrease as some irrelevant items are included. Conversely, if you are more selective about recommendations (higher precision), you may miss some relevant items (lower recall).\n",
    "\n",
    "### 3. **NDCG (Normalized Discounted Cumulative Gain)**:\n",
    "   - **Definition**: NDCG evaluates how well the system ranks the relevant items. It takes into account the order of recommendations, giving higher weights to relevant items that appear earlier in the list.\n",
    "   - **Formula**: \n",
    "     $$\\text{NDCG} = \\frac{DCG}{IDCG}$$\n",
    "     Where DCG is the **Discounted Cumulative Gain** and IDCG is the **Ideal Discounted Cumulative Gain** (the DCG of the best possible ranking).\n",
    "   - **Is High NDCG Good?**\n",
    "     Yes, high NDCG indicates that the relevant items are ranked higher in the list, meaning that users are more likely to engage with the top-ranked recommendations. This is especially important when considering **ranking quality**, where just recommending a relevant item might not be enough; it needs to appear in a prominent position for the user to notice and engage with it.\n",
    "\n",
    "### **Which One is \"Better\"?**\n",
    "- **High Precision**: If your system prioritizes ensuring that users only see items that are truly relevant to them and you want to avoid showing irrelevant items, then **high precision** is important.\n",
    "- **High Recall**: If you want to ensure that users see as many relevant items as possible (even at the cost of some irrelevant ones), then **high recall** is the goal.\n",
    "- **High NDCG**: If your system is focused on ranking items such that the most relevant items appear first (i.e., the order of recommendations matters), then **high NDCG** is the best metric to optimize for.\n",
    "\n",
    "### In General:\n",
    "- **High Precision** is good when you want to minimize irrelevant recommendations.\n",
    "- **High Recall** is good when you want to ensure users get as many relevant items as possible.\n",
    "- **High NDCG** is particularly valuable when you care about both relevance **and** the ranking of recommendations.\n",
    "\n",
    "**Final Goal**: Ideally, you want a balance between precision, recall, and NDCG, depending on your application:\n",
    "- If you have limited recommendations to show, prioritizing **precision** may be better.\n",
    "- If you have the ability to show many recommendations and want to make sure users see most of the relevant ones, **recall** would be more critical.\n",
    "- If your system is ranking items, **NDCG** is often more important as it directly measures how well the order of recommendations serves the user."
   ]
  }
 ],
 "metadata": {
  "kaggle": {
   "accelerator": "none",
   "dataSources": [
    {
     "datasetId": 6000845,
     "sourceId": 9792799,
     "sourceType": "datasetVersion"
    },
    {
     "datasetId": 6091966,
     "sourceId": 9917300,
     "sourceType": "datasetVersion"
    }
   ],
   "dockerImageVersionId": 30786,
   "isGpuEnabled": false,
   "isInternetEnabled": true,
   "language": "python",
   "sourceType": "notebook"
  },
  "kernelspec": {
   "display_name": "Python 3",
   "language": "python",
   "name": "python3"
  },
  "language_info": {
   "codemirror_mode": {
    "name": "ipython",
    "version": 3
   },
   "file_extension": ".py",
   "mimetype": "text/x-python",
   "name": "python",
   "nbconvert_exporter": "python",
   "pygments_lexer": "ipython3",
   "version": "3.10.14"
  },
  "papermill": {
   "default_parameters": {},
   "duration": 334.383122,
   "end_time": "2024-11-15T17:21:57.268631",
   "environment_variables": {},
   "exception": null,
   "input_path": "__notebook__.ipynb",
   "output_path": "__notebook__.ipynb",
   "parameters": {},
   "start_time": "2024-11-15T17:16:22.885509",
   "version": "2.6.0"
  }
 },
 "nbformat": 4,
 "nbformat_minor": 5
}
